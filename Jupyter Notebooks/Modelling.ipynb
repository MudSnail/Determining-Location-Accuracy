{
  "cells": [
    {
      "cell_type": "code",
      "execution_count": 1,
      "metadata": {
        "id": "6uCivWGeN6ZP"
      },
      "outputs": [],
      "source": [
        "#import base libraries\n",
        "import pandas as pd\n",
        "import numpy as np\n",
        "import copy\n",
        "import joblib\n",
        "import cloudpickle\n",
        "\n",
        "#Sklearn - Pipelines, Training\n",
        "from sklearn.pipeline import Pipeline\n",
        "from sklearn.model_selection import train_test_split, GridSearchCV\n",
        "from sklearn.preprocessing import OneHotEncoder, MinMaxScaler, MaxAbsScaler\n",
        "\n",
        "#Classification Models\n",
        "from sklearn.linear_model import LogisticRegression\n",
        "from sklearn.svm import SVC\n",
        "from sklearn.ensemble import RandomForestClassifier\n",
        "from sklearn.neighbors import KNeighborsClassifier\n",
        "from xgboost import XGBClassifier\n",
        "\n",
        "#Model metrics\n",
        "from sklearn.metrics import accuracy_score, classification_report, confusion_matrix, f1_score, roc_auc_score, precision_score, recall_score\n",
        "\n",
        "#Visualizations\n",
        "import matplotlib.pyplot as plt\n",
        "import seaborn as sns\n",
        "\n",
        "#misc\n",
        "import warnings\n",
        "warnings.filterwarnings('ignore')\n"
      ]
    },
    {
      "cell_type": "markdown",
      "metadata": {},
      "source": [
        "# Get Data"
      ]
    },
    {
      "cell_type": "code",
      "execution_count": 61,
      "metadata": {
        "colab": {
          "base_uri": "https://localhost:8080/"
        },
        "id": "PE1nW7dzOCXS",
        "outputId": "3b7aca00-d81a-4e97-ced6-cd6a0d2525d4"
      },
      "outputs": [
        {
          "name": "stdout",
          "output_type": "stream",
          "text": [
            "Drive already mounted at /content/drive; to attempt to forcibly remount, call drive.mount(\"/content/drive\", force_remount=True).\n"
          ]
        }
      ],
      "source": [
        "#Connect to drive\n",
        "from google.colab import drive\n",
        "drive.mount('/content/drive')"
      ]
    },
    {
      "cell_type": "code",
      "execution_count": null,
      "metadata": {
        "colab": {
          "base_uri": "https://localhost:8080/",
          "height": 729
        },
        "id": "5Yz3PJ-qN6ZR",
        "outputId": "9fde39c1-d995-4854-8364-c8b61264cebf"
      },
      "outputs": [],
      "source": [
        "# Import Dataset\n",
        "keep_col = ['Date', 'Time', 'SpeciesName', 'LatitudeDD', 'LongitudeDD', 'LocationDescription', \n",
        "            'SeaState', 'WindSpeed', 'AnimalCountMeasure','Behaviour', 'Direction of Travel', \n",
        "            'SightingPlatform','Experience','Number of Animals Min', 'Location Accuracy']\n",
        "\n",
        "# Import Dataset\n",
        "data = pd.read_excel('/content/drive/MyDrive/Deep_Learning/Project/BCCSN_Sightings_Master.xlsx', \n",
        "                    parse_dates= ['Time'], usecols=keep_col)\n",
        "\n",
        "#Check shape\n",
        "print(data.shape)\n",
        "\n",
        "#Print head\n",
        "data.head()"
      ]
    },
    {
      "cell_type": "markdown",
      "metadata": {
        "id": "d0FjYZtTN6ZS"
      },
      "source": [
        "# Get Final Training Data\n",
        "\n",
        "Following steps from Data Cleaning (ie. missing data and dealing with unbalanced dataset)"
      ]
    },
    {
      "cell_type": "code",
      "execution_count": null,
      "metadata": {},
      "outputs": [],
      "source": [
        "#Create definition to group target variables\n",
        "def location_accuracy(df):\n",
        "    \"\"\"\n",
        "    Input - dataframe\n",
        "    Output - Newly Assigned Target Values for Location Accuracy\n",
        "    Function groups Location Accuracy values into 3 subcategories\n",
        "    \"\"\"\n",
        "\n",
        "    #cat_1 = list of location accuracies < 500 m\n",
        "    #cat_2 = list of location accuracies 500 m - 2km\n",
        "    #cat_3 = list of location accuracies > 2 km\n",
        "\n",
        "    for x in cat_1:\n",
        "        df.loc[df['Location Accuracy'].str.contains(x, na=False), 'Location Accuracy'] = '< 500m'\n",
        "    for x in cat_2:\n",
        "        df.loc[df['Location Accuracy'].str.contains(x, na=False), 'Location Accuracy'] = '500m-2km'\n",
        "    for x in cat_3:\n",
        "        df.loc[df['Location Accuracy'].str.contains(x, na=False), 'Location Accuracy'] = '> 2km'\n",
        "\n",
        "    return df"
      ]
    },
    {
      "cell_type": "code",
      "execution_count": 3,
      "metadata": {
        "colab": {
          "base_uri": "https://localhost:8080/"
        },
        "id": "uW5C11JiN6ZT",
        "outputId": "93b255c8-3447-499b-e925-7ac3d3141524"
      },
      "outputs": [
        {
          "data": {
            "text/plain": [
              "36.65047376268578"
            ]
          },
          "execution_count": 3,
          "metadata": {},
          "output_type": "execute_result"
        }
      ],
      "source": [
        "#Check percentage of null in Location Accuracy\n",
        "data['Location Accuracy'].isnull().sum()/len(data['Location Accuracy']) * 100"
      ]
    },
    {
      "cell_type": "code",
      "execution_count": 4,
      "metadata": {
        "colab": {
          "base_uri": "https://localhost:8080/"
        },
        "id": "Asf0wCdjN6ZU",
        "outputId": "6195a357-c838-4deb-85b8-0d2334a7af68"
      },
      "outputs": [
        {
          "data": {
            "text/plain": [
              "(13171, 15)"
            ]
          },
          "execution_count": 4,
          "metadata": {},
          "output_type": "execute_result"
        }
      ],
      "source": [
        "#Drop rows with null location accuracy\n",
        "data = data.dropna(subset=['Location Accuracy'])\n",
        "\n",
        "#print new shape\n",
        "data.shape"
      ]
    },
    {
      "cell_type": "code",
      "execution_count": 5,
      "metadata": {
        "id": "-LJxbtfDN6ZU"
      },
      "outputs": [],
      "source": [
        "#Replace blank strings with NaN\n",
        "missing_values = ['-', '___']\n",
        "data.LocationDescription = data['LocationDescription'].replace(missing_values, np.NaN)"
      ]
    },
    {
      "cell_type": "code",
      "execution_count": null,
      "metadata": {
        "colab": {
          "base_uri": "https://localhost:8080/"
        },
        "id": "l_dYqgT8N6ZV",
        "outputId": "8e4ce6c1-1e0b-46b9-91f8-95c44cbf09bd"
      },
      "outputs": [],
      "source": [
        "#Check percentage of null in location description\n",
        "data['LocationDescription'].isnull().sum()/len(data.LocationDescription) * 100"
      ]
    },
    {
      "cell_type": "code",
      "execution_count": null,
      "metadata": {
        "colab": {
          "base_uri": "https://localhost:8080/"
        },
        "id": "Gij0NrggN6ZW",
        "outputId": "d87b7bff-244c-4d07-eefa-53c43ce77dcb"
      },
      "outputs": [],
      "source": [
        "#Check location accuracy values\n",
        "data['Location Accuracy'].value_counts()"
      ]
    },
    {
      "cell_type": "code",
      "execution_count": 8,
      "metadata": {
        "id": "xoyYlgz4N6ZW"
      },
      "outputs": [],
      "source": [
        "#Fix Location Accuracy\n",
        "data['Location Accuracy'] = data['Location Accuracy'].str.replace('w', 'W', regex = True)\n",
        "data['Location Accuracy'] = data['Location Accuracy'].str.replace('WI', 'Wi', regex = True)\n",
        "data['Location Accuracy'] = data['Location Accuracy'].str.replace('m ', 'm', regex = True)"
      ]
    },
    {
      "cell_type": "code",
      "execution_count": null,
      "metadata": {
        "colab": {
          "base_uri": "https://localhost:8080/"
        },
        "id": "kr0xns_ON6ZX",
        "outputId": "3982aa44-e77c-41f4-9b2e-3a94dbd47fd8"
      },
      "outputs": [],
      "source": [
        "#Check updated location accuracy values\n",
        "data['Location Accuracy'].value_counts()"
      ]
    },
    {
      "cell_type": "code",
      "execution_count": 10,
      "metadata": {
        "colab": {
          "base_uri": "https://localhost:8080/"
        },
        "id": "pDLquz7_N6ZX",
        "outputId": "1bbf5110-d798-486e-87c7-7d1e94fe82c8"
      },
      "outputs": [
        {
          "data": {
            "text/plain": [
              "(6171, 14)"
            ]
          },
          "execution_count": 10,
          "metadata": {},
          "output_type": "execute_result"
        }
      ],
      "source": [
        "#Apply limitation to reduce potential bias\n",
        "#Code missing here\n",
        "\n",
        "#First dropping Location Description and SightingDistance as too many missing values\n",
        "data = data.drop(['LocationDescription'], axis = 1)\n",
        "\n",
        "#print new shape\n",
        "data.shape"
      ]
    },
    {
      "cell_type": "code",
      "execution_count": null,
      "metadata": {
        "id": "8MiU0azSN6ZZ"
      },
      "outputs": [],
      "source": [
        "#Apply location_accuracy function\n",
        "data = location_accuracy(data)"
      ]
    },
    {
      "cell_type": "code",
      "execution_count": 13,
      "metadata": {
        "colab": {
          "base_uri": "https://localhost:8080/"
        },
        "id": "0Hz9X5JkN6ZZ",
        "outputId": "bb6b0c10-4a89-4256-f48c-6e32dd205c2f"
      },
      "outputs": [
        {
          "data": {
            "text/plain": [
              "< 500m      2748\n",
              "500m-2km    2558\n",
              "> 2km        865\n",
              "Name: Location Accuracy, dtype: int64"
            ]
          },
          "execution_count": 13,
          "metadata": {},
          "output_type": "execute_result"
        }
      ],
      "source": [
        "#Check new values\n",
        "data['Location Accuracy'].value_counts()"
      ]
    },
    {
      "cell_type": "code",
      "execution_count": 14,
      "metadata": {
        "colab": {
          "base_uri": "https://localhost:8080/"
        },
        "id": "_FEqwdofN6ZZ",
        "outputId": "97f042fc-bd17-48b9-bb86-1547bd2aa5dd"
      },
      "outputs": [
        {
          "data": {
            "text/plain": [
              "(6170, 14)"
            ]
          },
          "execution_count": 14,
          "metadata": {},
          "output_type": "execute_result"
        }
      ],
      "source": [
        "#Remove Outlier found in EDA\n",
        "data = data.drop(data[(data['LongitudeDD'] < -140) & (data['LatitudeDD'] > 50)].index)\n",
        "\n",
        "#print final shape\n",
        "data.shape"
      ]
    },
    {
      "cell_type": "markdown",
      "metadata": {
        "id": "PYgzyqLgN6Za"
      },
      "source": [
        "# Set-Up"
      ]
    },
    {
      "cell_type": "code",
      "execution_count": 16,
      "metadata": {
        "id": "7ICfZuoSN6Zb"
      },
      "outputs": [],
      "source": [
        "#set variables and target\n",
        "y = data['Location Accuracy']\n",
        "X = data.drop('Location Accuracy', axis = 1)"
      ]
    },
    {
      "cell_type": "code",
      "execution_count": 17,
      "metadata": {
        "id": "Ylzq8gjsN6Zb"
      },
      "outputs": [],
      "source": [
        "#Split data into training and test sets\n",
        "X_train, X_test, y_train, y_test = train_test_split(X, y, test_size=0.20, stratify = y, random_state = 42)"
      ]
    },
    {
      "cell_type": "markdown",
      "metadata": {
        "id": "RDMIWBXaNgbF"
      },
      "source": [
        "# Trial - Baseline Log Regression\n",
        "\n",
        "Trials of different functions and pipelines to see what works using Logistic Regression.\n",
        "\n",
        "Note: I dropped NumberOfAnimals, this code for trials will not work with toy data"
      ]
    },
    {
      "cell_type": "markdown",
      "metadata": {
        "id": "BrIccrdqN6Zc"
      },
      "source": [
        "## Pipeline Creation"
      ]
    },
    {
      "cell_type": "code",
      "execution_count": null,
      "metadata": {
        "id": "B9fWB_EKN6Zd"
      },
      "outputs": [],
      "source": [
        "#Define functions for Pipeline\n",
        "\n",
        "#define nulls to nan function\n",
        "def nulls_to_nan(df):\n",
        "    \"\"\"\n",
        "    This function replaces all the \"-\" strings that represent null values\n",
        "    And returns a dataframe with NaNs\n",
        "    \"\"\"\n",
        "    missing_values = ['-', '___']\n",
        "    df = df.replace(missing_values, np.NaN)\n",
        "    return df\n",
        "\n",
        "#define grammar function\n",
        "def grammar(df):\n",
        "    \"\"\"\n",
        "    This function will fix any letter casing issues in the text (Ie. Fixes categories)\n",
        "    Returns a updated dataframe\n",
        "    \"\"\"\n",
        "    #Fixing SeaState\n",
        "    df['SeaState'] = df['SeaState'].str.replace('light', 'Light', regex = True)\n",
        "    df['SeaState'] = df['SeaState'].str.replace(',Wind', 'Wind', regex = True)\n",
        "    df['SeaState'] = df['SeaState'].str.replace('Light air,  small ripples', 'Light air, small ripples', regex = True)\n",
        "\n",
        "    #Fixing WindSpeed\n",
        "    df['WindSpeed'] = df['WindSpeed'].str.replace('5 - 6 kts', '4 - 6 kts', regex = True)\n",
        "    df['WindSpeed'] = df['WindSpeed'].str.replace('2 - 3 kts', '1 - 3 kts', regex = True)\n",
        "    df['WindSpeed'] = df['WindSpeed'].str.replace('3 - 3 kts', '1 - 3 kts', regex = True)\n",
        "    df['WindSpeed'] = df['WindSpeed'].str.replace('18 - 21 kts', '17 - 21 kts', regex = True)\n",
        "\n",
        "    #Fixing Direction of Travel\n",
        "    df['Direction of Travel'] = df['Direction of Travel'].str.replace('Uknown', 'Unknown', regex = True)\n",
        "    df['Direction of Travel'] = df['Direction of Travel'].str.replace('Unknown Travel Direction', 'Unknown', regex = True)\n",
        "\n",
        "    #Fixing Sighting Platofrm\n",
        "    df['SightingPlatform'] = df['SightingPlatform'].str.replace('vessel', 'Vessel', regex = True)\n",
        "    df['SightingPlatform'] = df['SightingPlatform'].str.replace('Verry', 'Ferry', regex = True)\n",
        "    df['SightingPlatform'] = df['SightingPlatform'].str.replace('Moto Vessel', 'Motor Vessel', regex = True)\n",
        "    df['SightingPlatform'] = df['SightingPlatform'].str.replace('Motorr', 'Motor', regex = True)\n",
        "    df['SightingPlatform'] = df['SightingPlatform'].str.replace('feet', 'ft', regex = True)\n",
        "    df['SightingPlatform'] = df['SightingPlatform'].str.replace('Diving', 'Other', regex = True)\n",
        "    df['SightingPlatform'] = df['SightingPlatform'].str.replace('Parks Canada', 'Other', regex = True)\n",
        "    df['SightingPlatform'] = df['SightingPlatform'].str.replace('wter', 'water', regex = True)\n",
        "    df['SightingPlatform'] = df['SightingPlatform'].str.replace('< 60 ft', '25 - 60 ft', regex = True)\n",
        "    df['SightingPlatform'] = df['SightingPlatform'].str.replace('> 25 ft', '25 - 60 ft', regex = True)\n",
        "    df['SightingPlatform'] = df['SightingPlatform'].str.replace('25-60ft', '25 - 60 ft', regex = True)\n",
        "    df['SightingPlatform'] = df['SightingPlatform'].str.replace('25-60', '25 - 60', regex = True)\n",
        "    df['SightingPlatform'] = df['SightingPlatform'].str.replace('Vessel  25', 'Vessel 25', regex = True)\n",
        "    df['SightingPlatform'] = df['SightingPlatform'].str.replace('< 25 - 60', '< 25 ft', regex = True)\n",
        "\n",
        "    #Fix Experience\n",
        "    df['Experience'] = df['Experience'].str.replace('Recreational', 'Novice recreational observer', regex = True)\n",
        "    \n",
        "    return df\n",
        "\n",
        "#define function that replaces NaNs\n",
        "def fill_nans(df):\n",
        "    \"\"\"\n",
        "    As simpleimputer returns an array and loses column names, this function will take it's place.\n",
        "    Input is the dataframe\n",
        "    This function will replace all NaNs (mean for numercial and most frequent for categorical)\n",
        "    Returns a dataframe with no NaNs\n",
        "    \"\"\"\n",
        "    #define your categorical features\n",
        "    cat_cols = ['Time', 'SpeciesName', 'SeaState', 'Date', 'WindSpeed', 'AnimalCountMeasure', 'NumberOfAnimals',\n",
        "                'Behaviour', 'Direction of Travel', 'SightingPlatform', 'Experience']\n",
        "\n",
        "    #Replace NaN with most frequent value for Category columns\n",
        "    for col in cat_cols:\n",
        "        most_freq = df[col].mode().values[0]\n",
        "        df[col].fillna(most_freq, inplace=True)\n",
        "    \n",
        "    #Replace missing values for numerical features\n",
        "    num_cols = ['LatitudeDD', 'LongitudeDD']\n",
        "    for num in num_cols:\n",
        "        df[num].fillna(value=df[col].mode().values[0], inplace=True)\n",
        "\n",
        "    return df\n",
        "\n",
        "#define function to extract MinAnimals & MaxAnimals\n",
        "def num_animal_log(df):\n",
        "    \"\"\"\n",
        "    This function takes the NumberOfAnimals Column and splits the string into MinAnimals and MaxAnimals\n",
        "    Returns dataframe with MinAnimals and MaxAnimals, and NumberOfAnimals dropped\n",
        "    \"\"\"\n",
        "    \n",
        "    #Create Empty Lists\n",
        "    minanimals = []\n",
        "    maxanimals = []\n",
        "    for x in range(len(df.NumberOfAnimals)):\n",
        "        #If integer/float append 0 in minanimal list\n",
        "        if type(x) == int:\n",
        "            minanimals.append(0) \n",
        "            maxanimals.append(x)\n",
        "        elif type(x) == float:\n",
        "            minanimals.append(0)\n",
        "            maxanimals.append(x)\n",
        "        #If str, split and append to minanimal & maxanimal\n",
        "        else:\n",
        "            new = x.split(\"~\")\n",
        "            minanimals.append(new[0]) \n",
        "            maxanimals.append(new[1]) \n",
        "\n",
        "    #Add new columns with variables\n",
        "    #df['MinAnimal'] = minanimals\n",
        "    df['MaxAnimal'] = maxanimals\n",
        "\n",
        "    #Convert to type int\n",
        "    #df.MinAnimal = df.MinAnimal.astype(int)\n",
        "    df.MaxAnimal = df.MaxAnimal.astype(int)\n",
        "\n",
        "    #Apply log\n",
        "    #df.MinAnimal = np.nan_to_num(np.log(df.MinAnimal), neginf = 0)\n",
        "    df.MaxAnimal = np.nan_to_num(np.log(df.MaxAnimal), neginf = 0)\n",
        "\n",
        "    #Drop NumberOfAnimals\n",
        "    df = df.drop(['NumberOfAnimals', 'Number of Animals Min'], axis = 1)\n",
        "\n",
        "    return df\n",
        "    \n",
        "#define function to drop Number of Animals\n",
        "def drop_numberanimals(df):\n",
        "    df = df.drop(['NumberOfAnimals'], axis = 1)\n",
        "    df['Number of Animals Min'] = np.nan_to_num(np.log(df['Number of Animals Min']), neginf = 0)\n",
        "    return df\n",
        "\n",
        "#define function to extract species category\n",
        "def species_category(df):\n",
        "    \"\"\"\n",
        "    This function uses the SpeciesName column in dataframe\n",
        "    To create a new feature called Species Category\n",
        "    Returns updated dataframe with SpeciesName Dropped\n",
        "    \"\"\"\n",
        "    #Lists of Whales and Dolphins/Porpoise Species\n",
        "    whales = ['Killer whale',\"Grey whale\", 'Humpback whale', 'Minke whale', 'Fin whale',  'Sperm whale', \n",
        "                'False killer whale', \"Baird's beaked whale\", \"Cuvier's beaked whale\", 'Sei whale', \n",
        "                'Blue whale', 'North Pacific right whale', 'Unidentified whale','Other rare species']\n",
        "\n",
        "    d_p = ['Harbour porpoise',\"Dall's porpoise\", 'Pacific white-sided dolphin', \"Risso's dolphin\",\n",
        "            'Northern right whale dolphin','Unidentified dolphin or porpoise']\n",
        "\n",
        "    #Create empty list\n",
        "    speciescategory = []\n",
        "\n",
        "    #create for loop and appen to list\n",
        "    for n in df.SpeciesName:\n",
        "        if (n in whales) == True:\n",
        "            speciescategory.append('Whales')\n",
        "        elif (n in d_p) == True:\n",
        "            speciescategory.append('Dolphins and Porpoises')\n",
        "        else:\n",
        "            speciescategory.append('Sea Turtle')\n",
        "            \n",
        "    #define new column\n",
        "    df['SpeciesCategory'] = speciescategory\n",
        "\n",
        "    #drop SpeciesName\n",
        "    df = df.drop(['SpeciesName'], axis = 1)\n",
        "\n",
        "    return df\n",
        "\n",
        "#define extract behaviour function\n",
        "def extract_behaviour(df):\n",
        "    \"\"\"\n",
        "    This function takes in the dataframe and extracts unqiue features from the behaviour column\n",
        "    And One hot encodes each variable\n",
        "    Returns a dataframe with new behaviour columns and deleted behaviour column\n",
        "    \"\"\"\n",
        "    #Create list if unique Behaviours\n",
        "    behave = ['Fluking', 'Feeding', 'Porpoising', 'Spy-hopping', 'Slow Moving', 'Diving', \n",
        "            'Depredation', 'Travelling quickly', 'Bow-riding', 'Breaching', 'Fast moving']\n",
        "\n",
        "    #Fix behaviour\n",
        "    df.Behaviour = df.Behaviour.str.replace(' Fluking', 'Fluking', regex = True)\n",
        "    df.Behaviour = df.Behaviour.str.replace('slow moving', 'Slow Moving', regex = True)\n",
        "    df.Behaviour = df.Behaviour.str.replace('Slow moving', 'Slow Moving', regex = True)\n",
        "\n",
        "    #turn behaviour column into list and split based on comma\n",
        "    ls = list(df['Behaviour'].str.split(','))\n",
        "\n",
        "    #create for loop do go through flat list (all unique values)\n",
        "    for element in behave:\n",
        "        #create column for each element\n",
        "        df[element] = 0\n",
        "        #enumerate through the column turned ls\n",
        "        for index, l in enumerate(ls):\n",
        "            #Assign False as 0 and True as 1 if element in ls\n",
        "            df[element].iloc[index] = int(element in l)\n",
        "    \n",
        "    #Drop behaviour column\n",
        "    df = df.drop(['Behaviour'], axis = 1)\n",
        "\n",
        "    return df\n",
        "    \n",
        "#define date time function (hour, month, season)\n",
        "def date_time(df):\n",
        "    \"\"\"\n",
        "    This function takes in a dataframe and extracts features from date and time\n",
        "    Returns new dataframe with extracted features and dropped SubDate and SubTime\n",
        "    \"\"\"\n",
        "    #Create Month and Year columns\n",
        "    df['Month'] = df['Date'].dt.month_name().str[:3]\n",
        "    df['Year'] = df['Date'].dt.year\n",
        "    # df['Year'] = df.Year.astype(str)\n",
        "\n",
        "    #Create Season Column\n",
        "    conditions = [(df['Month'] == 'Jan') | (df['Month'] == 'Feb') | (df['Month'] == 'Mar'), #winter\n",
        "                (df['Month'] == 'Apr') | (df['Month'] == 'May') | (df['Month'] == 'Jun'), #spring\n",
        "                (df['Month'] == 'Jul') | (df['Month'] == 'Aug') | (df['Month'] == 'Sep'), #summer\n",
        "                (df['Month'] == 'Oct') | (df['Month'] == 'Nov') | (df['Month'] == 'Dec')] #autumn\n",
        "    \n",
        "    seasons = ['Winter', 'Spring', 'Summer', 'Autumn']\n",
        "    df['Season'] = np.select(conditions, seasons)\n",
        "\n",
        "    #Create Hour Column\n",
        "    item = df.Time.apply(lambda x: str(x)[:2])\n",
        "    df['Hour'] = item\n",
        "\n",
        "    times = [(df['Hour'] == '00') | (df['Hour'] == '01') | (df['Hour'] == '02') | (df['Hour'] == '03') | (df['Hour'] == '04') | (df['Hour'] == '05'),\n",
        "            (df['Hour'] == '06') | (df['Hour'] == '07') | (df['Hour'] == '08') | (df['Hour'] == '09') | (df['Hour'] == '10') | (df['Hour'] == '11'),\n",
        "            (df['Hour'] == '12') | (df['Hour'] == '13') | (df['Hour'] == '14') | (df['Hour'] == '15') | (df['Hour'] == '16') | (df['Hour'] == '17'),\n",
        "            (df['Hour'] == '18') | (df['Hour'] == '19') | (df['Hour'] == '20') | (df['Hour'] == '21') | (df['Hour'] == '22') | (df['Hour'] == '23')]\n",
        "    df['Hour'] = np.select(times, ['Early Morning', 'Morning', 'Afternoon', 'Night'])\n",
        "\n",
        "    df = df.drop(['Date', 'Time'], axis = 1)\n",
        "\n",
        "    return df\n",
        "\n",
        "\n",
        "#define date time function (hour, month, season)\n",
        "def date_time_2(df):\n",
        "    \"\"\"\n",
        "    This function takes in a dataframe and extracts features from date and time\n",
        "    Returns new dataframe with extracted features and dropped SubDate and SubTime\n",
        "    \"\"\"\n",
        "    #Create Month and Year columns\n",
        "    df['Month'] = df['Date'].dt.month_name().str[:3]\n",
        "    df['Year'] = df['Date'].dt.year\n",
        "    df['Year'] = df.Year.astype(str)\n",
        "\n",
        "    #Create Season Column\n",
        "    conditions = [(df['Month'] == 'Jan') | (df['Month'] == 'Feb') | (df['Month'] == 'Mar'), #winter\n",
        "                (df['Month'] == 'Apr') | (df['Month'] == 'May') | (df['Month'] == 'Jun'), #spring\n",
        "                (df['Month'] == 'Jul') | (df['Month'] == 'Aug') | (df['Month'] == 'Sep'), #summer\n",
        "                (df['Month'] == 'Oct') | (df['Month'] == 'Nov') | (df['Month'] == 'Dec')] #autumn\n",
        "    \n",
        "    seasons = ['Winter', 'Spring', 'Summer', 'Autumn']\n",
        "    df['Season'] = np.select(conditions, seasons)\n",
        "\n",
        "    #Create Hour Column\n",
        "    item = df.Time.apply(lambda x: str(x)[:2])\n",
        "    df['Hour'] = item\n",
        "\n",
        "    df = df.drop(['Date', 'Time'], axis = 1)\n",
        "\n",
        "    return df\n",
        "\n",
        "#define function to extract seacatgory feature\n",
        "def seacategory(df):\n",
        "    \"\"\"\n",
        "    Function takes SeaState Column and categorizes them into a new column SeaCategory\n",
        "    Returns new dataframe\n",
        "    \"\"\"\n",
        "    crests = ['Wind felt on face;wave crests have glassy appearance', 'Crests begin to break;whitecaps start to form at 10 knots']\n",
        "    moderate = ['Frequent whitecaps - sea to 3 ft (1 m)', 'Moderate waves form 4-5 ft (1.5-2.5 m);some spray carried']\n",
        "    rough = ['Large waves 5-7 ft (2-3 m);more spray', 'Swell forms 8-10 ft (3-4 m);foam blown in streaks']\n",
        "    dangerous = ['Moderately high waves to 16 ft (5 m);crests break into spindrift',\n",
        "                'High waves to 20 ft (7 m);dense foam, visibility reduced']\n",
        "    storm = ['Exceptionally high waves to 30 ft (9 m)','Waves to 35 ft (11 m);very limited visibility', \n",
        "            'Waves to 50 ft (15m);air filled with foam and spray']\n",
        "\n",
        "    #Create empty list\n",
        "    seacategory = []\n",
        "\n",
        "    #create for loop and append to list\n",
        "    for n in df.SeaState:\n",
        "        if (n in crests) == True:\n",
        "            seacategory.append('Crest')\n",
        "        elif (n in moderate) == True:\n",
        "            seacategory.append('Moderate')\n",
        "        elif (n in rough) == True:\n",
        "            seacategory.append('Rough')\n",
        "        elif (n in dangerous) == True:\n",
        "            seacategory.append('Dangerous')\n",
        "        elif (n in storm) == True:\n",
        "            seacategory.append('Storm')\n",
        "        else:\n",
        "            seacategory.append('Calm')\n",
        "            \n",
        "    #define new column\n",
        "    df['SeaCategory'] = seacategory\n",
        "\n",
        "    #drop windspeed\n",
        "    df = df.drop(['SeaState'], axis = 1)\n",
        "\n",
        "    return df\n",
        "\n",
        "#define function to extract windcatgory feature\n",
        "def windcategory(df):\n",
        "    \"\"\"\n",
        "    Function takes WindSpeed Column and categorizes them into a new column WindCategory\n",
        "    Returns new dataframe\n",
        "    \"\"\"\n",
        "    light =['1 - 3 kts (Light Air)', '4 - 6 kts (Light Breeze)', '7 - 10 kts (Gentle Breeze)']\n",
        "    breeze = ['11 - 16 kts (Moderate Breeze)', '17 - 21 kts (Fresh Breeze)', '22 - 27 kts (Strong Breeze)']\n",
        "    gale = ['28 - 33 kts (Near Gale)', '34 - 40 kts (Gale)', '41 - 47 kts (Strong Gale)']\n",
        "    storm = ['48 - 55 kts  (Storm)', '56 - 63 kts (Violent Storm)', '64+ kts (Hurricane)']\n",
        "\n",
        "    #Create empty list\n",
        "    windcategory = []\n",
        "\n",
        "    #create for loop and appen to list\n",
        "    for n in df.WindSpeed:\n",
        "        if (n in light) == True:\n",
        "            windcategory.append('Light')\n",
        "        elif (n in breeze) == True:\n",
        "            windcategory.append('Breeze')\n",
        "        elif (n in gale) == True:\n",
        "            windcategory.append('Gale')\n",
        "        elif (n in storm) == True:\n",
        "            windcategory.append('Storm')\n",
        "        else:\n",
        "            windcategory.append('Calm')\n",
        "            \n",
        "    #define new column\n",
        "    df['WindCategory'] = windcategory\n",
        "\n",
        "    #drop windspeed\n",
        "    df = df.drop(['WindSpeed'], axis = 1)\n",
        "\n",
        "    return df\n",
        "\n",
        "#define function to transform lat and long\n",
        "def transform_coord(df):\n",
        "    \"\"\"\n",
        "    This function normalizes latitude and longitude.\n",
        "    \"\"\"\n",
        "    df.LatitudeDD = df.LatitudeDD/100\n",
        "    df.LongitudeDD = df.LongitudeDD/100\n",
        "\n",
        "    return df\n",
        "\n",
        "#Define function to delete behaviour column\n",
        "def delete_behave(df):\n",
        "    df = df.drop(['Behaviour'], axis = 1)\n",
        "    return df\n",
        "    \n",
        "#Define object transformer class\n",
        "class objectTransformer:\n",
        "    \"\"\"\n",
        "    Class object transformer, takes in function to apply in preprocessing step of Pipeline\n",
        "    \"\"\"\n",
        "    def __init__(self, func):\n",
        "        self.func = func\n",
        "        \n",
        "    def fit(self, X, y=None, **fit_params):\n",
        "        return self\n",
        "    \n",
        "    def transform(self, X, **fit_params):\n",
        "        return self.func(X)\n"
      ]
    },
    {
      "cell_type": "code",
      "execution_count": null,
      "metadata": {
        "colab": {
          "base_uri": "https://localhost:8080/"
        },
        "id": "DHXDp2TlOYAg",
        "outputId": "5bc45d4b-2710-4f22-b9d2-1f53b75cbdfb"
      },
      "outputs": [
        {
          "data": {
            "text/plain": [
              "LatitudeDD               float64\n",
              "LongitudeDD              float64\n",
              "AnimalCountMeasure        object\n",
              "Number of Animals Min    float64\n",
              "Direction of Travel       object\n",
              "SightingPlatform          object\n",
              "Experience                object\n",
              "Location Accuracy         object\n",
              "SpeciesCategory           object\n",
              "Fluking                    int64\n",
              "Feeding                    int64\n",
              "Porpoising                 int64\n",
              "Spy-hopping                int64\n",
              "Slow Moving                int64\n",
              "Diving                     int64\n",
              "Depredation                int64\n",
              "Travelling quickly         int64\n",
              "Bow-riding                 int64\n",
              "Breaching                  int64\n",
              "Fast moving                int64\n",
              "Month                     object\n",
              "Year                       int64\n",
              "Season                    object\n",
              "Hour                      object\n",
              "SeaCategory               object\n",
              "WindCategory              object\n",
              "dtype: object"
            ]
          },
          "execution_count": 22,
          "metadata": {},
          "output_type": "execute_result"
        }
      ],
      "source": [
        "#Test functions\n",
        "test = copy.deepcopy(df)\n",
        "test = nulls_to_nan(test)\n",
        "test = grammar(test)\n",
        "test = fill_nans(test)\n",
        "test = drop_numberanimals(test)\n",
        "test = species_category(test)\n",
        "test = extract_behaviour(test)\n",
        "test = date_time_2(test)\n",
        "test = seacategory(test)\n",
        "test = windcategory(test)\n",
        "test = transform_coord(test)\n",
        "test.dtypes"
      ]
    },
    {
      "cell_type": "markdown",
      "metadata": {
        "id": "KMg2KzPHNpzr"
      },
      "source": [
        "## PreProcessing"
      ]
    },
    {
      "cell_type": "code",
      "execution_count": null,
      "metadata": {
        "id": "eJKOSMl0N6Zf"
      },
      "outputs": [],
      "source": [
        "# Create preprocessing\n",
        "preprocessing = Pipeline([(\"fix_nulls\", objectTransformer(nulls_to_nan)), #step 1 - Fix my NaNs (objectTransformer)\n",
        "                        ('grammar', objectTransformer(grammar)), #Step 2 - Letter Casing\n",
        "                        ('fill_na', objectTransformer(fill_nans)), #Step 3 - Fill in my nulls (column Transformer)\n",
        "                        ('num_animal', objectTransformer(drop_numberanimals)), #Step 4 - Feature Engineering columns MinAnimals & MaxAnimals and using log\n",
        "                        ('spcategory', objectTransformer(species_category)), #Step 5 - Feature Engineering column SpeciesCategory\n",
        "                        ('behaviour', objectTransformer(extract_behaviour)), #Step 6 - Feature Engineering column Behvaiour\n",
        "                        ('date_time', objectTransformer(date_time_2)), #Step 7 - Feature Engineering columns Hour, Month, Season\n",
        "                        ('seacategory', objectTransformer(seacategory)), #Step 8 - Feature Engineering column SeaCategory\n",
        "                        ('windcategory', objectTransformer(windcategory))]) #Step 9 - Feature Engineering column WindCategory\n",
        "\n",
        "nobehave = Pipeline([(\"fix_nulls\", objectTransformer(nulls_to_nan)), #step 1 - Fix my NaNs (objectTransformer)\n",
        "                        ('grammar', objectTransformer(grammar)), #Step 2 - Letter Casing\n",
        "                        ('fill_na', objectTransformer(fill_nans)), #Step 3 - Fill in my nulls (column Transformer)\n",
        "                        ('num_animal', objectTransformer(drop_numberanimals)), #Step 4 - Feature Engineering columns MinAnimals & MaxAnimals and using log\n",
        "                        ('spcategory', objectTransformer(species_category)), #Step 5 - Feature Engineering column SpeciesCategory\n",
        "                        ('behaviour', objectTransformer(delete_behave)), #Step 6 - Delete Behvaiour\n",
        "                        ('date_time', objectTransformer(date_time_2)), #Step 7 - Feature Engineering columns Hour, Month, Season\n",
        "                        ('coordinates', objectTransformer(transform_coord)),\n",
        "                        ('seacategory', objectTransformer(seacategory)), #Step 8 - Feature Engineering column SeaCategory\n",
        "                        ('windcategory', objectTransformer(windcategory))]) #Step 9 - Feature Engineering column WindCategory\n",
        "\n",
        "\n",
        "nobehave_cat = Pipeline([(\"fix_nulls\", objectTransformer(nulls_to_nan)), #step 1 - Fix my NaNs (objectTransformer)\n",
        "                        ('grammar', objectTransformer(grammar)), #Step 2 - Letter Casing\n",
        "                        ('fill_na', objectTransformer(fill_nans)), #Step 3 - Fill in my nulls (column Transformer)\n",
        "                        ('num_animal', objectTransformer(drop_numberanimals)), #Step 4 - Feature Engineering columns MinAnimals & MaxAnimals and using log\n",
        "                        ('spcategory', objectTransformer(species_category)), #Step 5 - Feature Engineering column SpeciesCategory\n",
        "                        ('behaviour', objectTransformer(delete_behave)), #Step 6 - Delete Behvaiour\n",
        "                        ('date_time', objectTransformer(date_time_2)), #Step 7 - Feature Engineering columns Hour, Month, Season\n",
        "                        ('coordinates', objectTransformer(transform_coord))])\n",
        "\n",
        "transformcords = Pipeline([(\"fix_nulls\", objectTransformer(nulls_to_nan)), #step 1 - Fix my NaNs (objectTransformer)\n",
        "                        ('grammar', objectTransformer(grammar)), #Step 2 - Letter Casing\n",
        "                        ('fill_na', objectTransformer(fill_nans)), #Step 3 - Fill in my nulls (column Transformer)\n",
        "                        ('num_animal', objectTransformer(drop_numberanimals)), #Step 4 - Feature Engineering columns MinAnimals & MaxAnimals and using log\n",
        "                        ('spcategory', objectTransformer(species_category)), #Step 5 - Feature Engineering column SpeciesCategory\n",
        "                        ('behaviour', objectTransformer(extract_behaviour)), #Step 6 - Feature Engineering column Behvaiour\n",
        "                        ('date_time', objectTransformer(date_time_2)), #Step 7 - Feature Engineering columns Hour, Month, Season\n",
        "                        ('coordinates', objectTransformer(transform_coord)),\n",
        "                        ('seacategory', objectTransformer(seacategory)), #Step 8 - Feature Engineering column SeaCategory\n",
        "                        ('windcategory', objectTransformer(windcategory))]) #Step 9 - Feature Engineering column WindCategory\n"
      ]
    },
    {
      "cell_type": "code",
      "execution_count": null,
      "metadata": {
        "id": "EFPZ68u_N6Zg"
      },
      "outputs": [],
      "source": [
        "#Define Pipelines to try\n",
        "\n",
        "pipe_lr_1 = Pipeline([('preprocessing', preprocessing),\n",
        "                    ('one_hot', OneHotEncoder(handle_unknown = \"ignore\", sparse= False)),\n",
        "                    ('scale', MaxAbsScaler()),\n",
        "                    ('LR', LogisticRegression(random_state=42))])\n",
        "\n",
        "pipe_lr_2 = Pipeline([('preprocessing', transformcords),\n",
        "                    ('one_hot', OneHotEncoder(handle_unknown = \"ignore\", sparse= False)),\n",
        "                    ('LR', LogisticRegression(random_state=42))])\n",
        "\n",
        "pipe_lr_3 = Pipeline([('preprocessing', nobehave),\n",
        "                    ('one_hot', OneHotEncoder(handle_unknown = \"ignore\", sparse= False)),\n",
        "                    ('LR', LogisticRegression(random_state=42))])\n",
        "\n",
        "pipe_lr_4 = Pipeline([('preprocessing', nobehave_cat),\n",
        "                    ('one_hot', OneHotEncoder(handle_unknown = \"ignore\",sparse= False)),\n",
        "                    ('LR', LogisticRegression(random_state=42))])\n"
      ]
    },
    {
      "cell_type": "markdown",
      "metadata": {
        "id": "uoBNsXEpNwcf"
      },
      "source": [
        "## Trials"
      ]
    },
    {
      "cell_type": "code",
      "execution_count": null,
      "metadata": {
        "colab": {
          "base_uri": "https://localhost:8080/"
        },
        "id": "G8nTX5xRN6Zg",
        "outputId": "56878fb3-7563-4dfe-f315-ae8e81152acd"
      },
      "outputs": [
        {
          "name": "stdout",
          "output_type": "stream",
          "text": [
            "Logistic Regression with MaxAbs Test Accuracy: 0.5162074554294975\n",
            "Logistic Regression with transformed coord Test Accuracy: 0.5162074554294975\n",
            "Logistic Regression with no behaviour Test Accuracy: 0.5283630470016207\n",
            "Logistic Regression with no behaviour/category Test Accuracy: 0.5283630470016207\n"
          ]
        }
      ],
      "source": [
        "#fit pipes to check which is best\n",
        "pipes = [pipe_lr_1,pipe_lr_2,pipe_lr_3,pipe_lr_4]\n",
        "\n",
        "for pipe in pipes:\n",
        "    pipe.fit(X_train, y_train)\n",
        "\n",
        "#compare accuracies \n",
        "\n",
        "#make dictionary\n",
        "pipe_dict = {0: 'Logistic Regression with MaxAbs', 1: 'Logistic Regression with transformed coord', \n",
        "            2: 'Logistic Regression with no behaviour', 3: 'Logistic Regression with no behaviour/category'}\n",
        "\n",
        "#create for loop to find scores\n",
        "for i, model in enumerate(pipes):\n",
        "    print('{} Test Accuracy: {}'.format(pipe_dict[i], model.score(X_test,y_test)))"
      ]
    },
    {
      "cell_type": "code",
      "execution_count": null,
      "metadata": {
        "colab": {
          "base_uri": "https://localhost:8080/"
        },
        "id": "Oe3vE5AeN6Zi",
        "outputId": "44d8150c-ffa2-40ec-91e0-a1f15acdf6b2"
      },
      "outputs": [
        {
          "name": "stdout",
          "output_type": "stream",
          "text": [
            "              precision    recall  f1-score   support\n",
            "\n",
            "    500m-2km       0.50      0.50      0.50       511\n",
            "      < 500m       0.54      0.68      0.60       550\n",
            "       > 2km       0.24      0.05      0.08       173\n",
            "\n",
            "    accuracy                           0.52      1234\n",
            "   macro avg       0.43      0.41      0.39      1234\n",
            "weighted avg       0.48      0.52      0.49      1234\n",
            "\n"
          ]
        }
      ],
      "source": [
        "#Print classification report\n",
        "print(classification_report(y_test, pipe_lr_1.predict(X_test)))"
      ]
    },
    {
      "cell_type": "code",
      "execution_count": null,
      "metadata": {
        "colab": {
          "base_uri": "https://localhost:8080/"
        },
        "id": "kzBjORMhRnvG",
        "outputId": "4e236542-67c1-484c-cbb1-28c5657e4099"
      },
      "outputs": [
        {
          "name": "stdout",
          "output_type": "stream",
          "text": [
            "Logistic Regression with MaxAbs Test Accuracy: 0.5235008103727715\n",
            "Logistic Regression with transformed coord Test Accuracy: 0.5235008103727715\n",
            "Logistic Regression with no behaviour Test Accuracy: 0.5380875202593193\n",
            "Logistic Regression with no behaviour/category Test Accuracy: 0.5348460291734197\n"
          ]
        }
      ],
      "source": [
        "#Pipe lines with date_time 2 in preprocessing\n",
        "\n",
        "#fit pipes to check which is best\n",
        "pipes = [pipe_lr_1,pipe_lr_2,pipe_lr_3,pipe_lr_4]\n",
        "\n",
        "for pipe in pipes:\n",
        "    pipe.fit(X_train, y_train)\n",
        "\n",
        "#compare accuracies of pipes\n",
        "#make dictionary\n",
        "pipe_dict = {0: 'Logistic Regression with MaxAbs', 1: 'Logistic Regression with transformed coord', \n",
        "            2: 'Logistic Regression with no behaviour', 3: 'Logistic Regression with no behaviour/category'}\n",
        "\n",
        "#create for loop to find scores\n",
        "for i, model in enumerate(pipes):\n",
        "    print('{} Test Accuracy: {}'.format(pipe_dict[i], model.score(X_test,y_test)))"
      ]
    },
    {
      "cell_type": "code",
      "execution_count": null,
      "metadata": {
        "colab": {
          "base_uri": "https://localhost:8080/"
        },
        "id": "EFYkdzX6RnlQ",
        "outputId": "6d02c4e4-8be7-411f-ca2a-8ca152067d9c"
      },
      "outputs": [
        {
          "name": "stdout",
          "output_type": "stream",
          "text": [
            "              precision    recall  f1-score   support\n",
            "\n",
            "    500m-2km       0.52      0.53      0.52       511\n",
            "      < 500m       0.56      0.70      0.62       550\n",
            "       > 2km       0.29      0.05      0.08       173\n",
            "\n",
            "    accuracy                           0.54      1234\n",
            "   macro avg       0.46      0.43      0.41      1234\n",
            "weighted avg       0.51      0.54      0.51      1234\n",
            "\n"
          ]
        }
      ],
      "source": [
        "#Print classification report\n",
        "print(classification_report(y_test, pipe_lr_3.predict(X_test)))"
      ]
    },
    {
      "cell_type": "code",
      "execution_count": null,
      "metadata": {
        "colab": {
          "base_uri": "https://localhost:8080/"
        },
        "id": "exFYNzEaR_rV",
        "outputId": "a989beb2-da71-4afb-c164-145b417d5a34"
      },
      "outputs": [
        {
          "name": "stdout",
          "output_type": "stream",
          "text": [
            "Logistic Regression with MaxAbs Test Accuracy: 0.5235008103727715\n",
            "Logistic Regression with transformed coord Test Accuracy: 0.5235008103727715\n",
            "Logistic Regression with no behaviour Test Accuracy: 0.5380875202593193\n",
            "Logistic Regression with no behaviour/category Test Accuracy: 0.5348460291734197\n"
          ]
        }
      ],
      "source": [
        "#Pipe lines with date time 2 and Year as string in preprocessing\n",
        "\n",
        "#fit pipes to check which is best\n",
        "pipes = [pipe_lr_1,pipe_lr_2,pipe_lr_3,pipe_lr_4]\n",
        "\n",
        "for pipe in pipes:\n",
        "    pipe.fit(X_train, y_train)\n",
        "\n",
        "#compare accuracies of pipes\n",
        "#make dictionary\n",
        "pipe_dict = {0: 'Logistic Regression with MaxAbs', 1: 'Logistic Regression with transformed coord', \n",
        "            2: 'Logistic Regression with no behaviour', 3: 'Logistic Regression with no behaviour/category'}\n",
        "\n",
        "#create for loop to find scores\n",
        "for i, model in enumerate(pipes):\n",
        "    print('{} Test Accuracy: {}'.format(pipe_dict[i], model.score(X_test,y_test)))"
      ]
    },
    {
      "cell_type": "code",
      "execution_count": null,
      "metadata": {
        "colab": {
          "base_uri": "https://localhost:8080/"
        },
        "id": "OlBrJMR9R_j5",
        "outputId": "2256d3ee-d057-46fd-9ab4-2e74e6ade204"
      },
      "outputs": [
        {
          "name": "stdout",
          "output_type": "stream",
          "text": [
            "              precision    recall  f1-score   support\n",
            "\n",
            "    500m-2km       0.52      0.53      0.52       511\n",
            "      < 500m       0.55      0.70      0.62       550\n",
            "       > 2km       0.27      0.04      0.07       173\n",
            "\n",
            "    accuracy                           0.53      1234\n",
            "   macro avg       0.45      0.42      0.40      1234\n",
            "weighted avg       0.50      0.53      0.50      1234\n",
            "\n"
          ]
        }
      ],
      "source": [
        "#Print classification report\n",
        "print(classification_report(y_test, pipe_lr_4.predict(X_test)))"
      ]
    },
    {
      "cell_type": "code",
      "execution_count": null,
      "metadata": {
        "colab": {
          "base_uri": "https://localhost:8080/"
        },
        "id": "zJli24LiSHLJ",
        "outputId": "a91ea20b-b2ec-4a81-cdca-c3b81cb7b381"
      },
      "outputs": [
        {
          "name": "stdout",
          "output_type": "stream",
          "text": [
            "Logistic Regression with MaxAbs Test Accuracy: 0.5162074554294975\n",
            "Logistic Regression with transformed coord Test Accuracy: 0.5162074554294975\n",
            "Logistic Regression with no behaviour Test Accuracy: 0.5178282009724473\n",
            "Logistic Regression with no behaviour/category Test Accuracy: 0.513776337115073\n"
          ]
        }
      ],
      "source": [
        "#Pipe lines with date time  without month in preprocessing\n",
        "\n",
        "#fit pipes to check which is best\n",
        "pipes = [pipe_lr_1,pipe_lr_2,pipe_lr_3,pipe_lr_4]\n",
        "\n",
        "for pipe in pipes:\n",
        "    pipe.fit(X_train, y_train)\n",
        "\n",
        "#compare accuracies of pipes\n",
        "#make dictionary\n",
        "pipe_dict = {0: 'Logistic Regression with MaxAbs', 1: 'Logistic Regression with transformed coord', \n",
        "            2: 'Logistic Regression with no behaviour', 3: 'Logistic Regression with no behaviour/category'}\n",
        "\n",
        "#create for loop to find scores\n",
        "for i, model in enumerate(pipes):\n",
        "    print('{} Test Accuracy: {}'.format(pipe_dict[i], model.score(X_test,y_test)))"
      ]
    },
    {
      "cell_type": "code",
      "execution_count": null,
      "metadata": {
        "colab": {
          "base_uri": "https://localhost:8080/"
        },
        "id": "2fUnEh2ASKTu",
        "outputId": "7f6ee51a-5c38-4271-9dde-0bbe5a7a0d5a"
      },
      "outputs": [
        {
          "name": "stdout",
          "output_type": "stream",
          "text": [
            "Logistic Regression with MaxAbs Test Accuracy: 0.5445705024311183\n",
            "Logistic Regression with transformed coord Test Accuracy: 0.5445705024311183\n",
            "Logistic Regression with no behaviour Test Accuracy: 0.5453808752025932\n",
            "Logistic Regression with no behaviour/category Test Accuracy: 0.5316045380875203\n"
          ]
        }
      ],
      "source": [
        "#Pipe line with delete NumberOfAnimals in preprocessing\n",
        "\n",
        "#fit pipes to check which is best\n",
        "pipes = [pipe_lr_1,pipe_lr_2,pipe_lr_3,pipe_lr_4]\n",
        "\n",
        "for pipe in pipes:\n",
        "    pipe.fit(X_train, y_train)\n",
        "\n",
        "#compare accuracies of pipes\n",
        "#make dictionary\n",
        "pipe_dict = {0: 'Logistic Regression with MaxAbs', 1: 'Logistic Regression with transformed coord', \n",
        "            2: 'Logistic Regression with no behaviour', 3: 'Logistic Regression with no behaviour/category'}\n",
        "\n",
        "#create for loop to find scores\n",
        "for i, model in enumerate(pipes):\n",
        "    print('{} Test Accuracy: {}'.format(pipe_dict[i], model.score(X_test,y_test)))"
      ]
    },
    {
      "cell_type": "code",
      "execution_count": null,
      "metadata": {
        "colab": {
          "base_uri": "https://localhost:8080/"
        },
        "id": "WfoH3AhTSEgx",
        "outputId": "48772aaa-a42e-4a7f-df73-761ac47a6db3"
      },
      "outputs": [
        {
          "name": "stdout",
          "output_type": "stream",
          "text": [
            "              precision    recall  f1-score   support\n",
            "\n",
            "    500m-2km       0.53      0.52      0.52       511\n",
            "      < 500m       0.57      0.73      0.64       550\n",
            "       > 2km       0.21      0.03      0.06       173\n",
            "\n",
            "    accuracy                           0.54      1234\n",
            "   macro avg       0.44      0.43      0.41      1234\n",
            "weighted avg       0.50      0.54      0.51      1234\n",
            "\n"
          ]
        }
      ],
      "source": [
        "#Print classification report\n",
        "print(classification_report(y_test, pipe_lr_1.predict(X_test)))"
      ]
    },
    {
      "cell_type": "code",
      "execution_count": null,
      "metadata": {
        "colab": {
          "base_uri": "https://localhost:8080/"
        },
        "id": "N2TgsjDEnhDX",
        "outputId": "3ed47f61-42c7-4a61-c5f0-15322e0ce7b4"
      },
      "outputs": [
        {
          "name": "stdout",
          "output_type": "stream",
          "text": [
            "              precision    recall  f1-score   support\n",
            "\n",
            "    500m-2km       0.54      0.52      0.53       511\n",
            "      < 500m       0.56      0.73      0.64       550\n",
            "       > 2km       0.13      0.02      0.03       173\n",
            "\n",
            "    accuracy                           0.55      1234\n",
            "   macro avg       0.41      0.42      0.40      1234\n",
            "weighted avg       0.49      0.55      0.51      1234\n",
            "\n"
          ]
        }
      ],
      "source": [
        "#Print classification report\n",
        "print(classification_report(y_test, pipe_lr_3.predict(X_test)))"
      ]
    },
    {
      "cell_type": "markdown",
      "metadata": {
        "id": "8QfTTdiwN6Zl"
      },
      "source": [
        "# Models with HyperParams Grid Searches"
      ]
    },
    {
      "cell_type": "markdown",
      "metadata": {
        "id": "0lrI7Q3L2Okj"
      },
      "source": [
        "## Final Functions"
      ]
    },
    {
      "cell_type": "code",
      "execution_count": 2,
      "metadata": {
        "id": "MWQQXrZU4Rzi"
      },
      "outputs": [],
      "source": [
        "#Define functions for Pipeline\n",
        "\n",
        "#define nulls to nan function\n",
        "def nulls_to_nan(df):\n",
        "    \"\"\"\n",
        "    This function replaces all the \"-\" strings that represent null values\n",
        "    And returns a dataframe with NaNs\n",
        "    \"\"\"\n",
        "    missing_values = ['-', '___']\n",
        "    df = df.replace(missing_values, np.NaN)\n",
        "    return df\n",
        "\n",
        "#define grammar function\n",
        "def grammar(df):\n",
        "    \"\"\"\n",
        "    This function will fix any letter casing issues in the text (Ie. Fixes categories)\n",
        "    Returns a updated dataframe\n",
        "    \"\"\"\n",
        "    #Fixing SeaState\n",
        "    df['SeaState'] = df['SeaState'].str.replace('light', 'Light', regex = True)\n",
        "    df['SeaState'] = df['SeaState'].str.replace(',Wind', 'Wind', regex = True)\n",
        "    df['SeaState'] = df['SeaState'].str.replace('Light air,  small ripples', 'Light air, small ripples', regex = True)\n",
        "\n",
        "    #Fixing WindSpeed\n",
        "    df['WindSpeed'] = df['WindSpeed'].str.replace('5 - 6 kts', '4 - 6 kts', regex = True)\n",
        "    df['WindSpeed'] = df['WindSpeed'].str.replace('2 - 3 kts', '1 - 3 kts', regex = True)\n",
        "    df['WindSpeed'] = df['WindSpeed'].str.replace('3 - 3 kts', '1 - 3 kts', regex = True)\n",
        "    df['WindSpeed'] = df['WindSpeed'].str.replace('18 - 21 kts', '17 - 21 kts', regex = True)\n",
        "\n",
        "    #Fixing Direction of Travel\n",
        "    df['Direction of Travel'] = df['Direction of Travel'].str.replace('Uknown', 'Unknown', regex = True)\n",
        "    df['Direction of Travel'] = df['Direction of Travel'].str.replace('Unknown Travel Direction', 'Unknown', regex = True)\n",
        "\n",
        "    #Fixing Sighting Platofrm\n",
        "    df['SightingPlatform'] = df['SightingPlatform'].str.replace('vessel', 'Vessel', regex = True)\n",
        "    df['SightingPlatform'] = df['SightingPlatform'].str.replace('Verry', 'Ferry', regex = True)\n",
        "    df['SightingPlatform'] = df['SightingPlatform'].str.replace('Moto Vessel', 'Motor Vessel', regex = True)\n",
        "    df['SightingPlatform'] = df['SightingPlatform'].str.replace('Motorr', 'Motor', regex = True)\n",
        "    df['SightingPlatform'] = df['SightingPlatform'].str.replace('feet', 'ft', regex = True)\n",
        "    df['SightingPlatform'] = df['SightingPlatform'].str.replace('Diving', 'Other', regex = True)\n",
        "    df['SightingPlatform'] = df['SightingPlatform'].str.replace('Parks Canada', 'Other', regex = True)\n",
        "    df['SightingPlatform'] = df['SightingPlatform'].str.replace('wter', 'water', regex = True)\n",
        "    df['SightingPlatform'] = df['SightingPlatform'].str.replace('< 60 ft', '25 - 60 ft', regex = True)\n",
        "    df['SightingPlatform'] = df['SightingPlatform'].str.replace('> 25 ft', '25 - 60 ft', regex = True)\n",
        "    df['SightingPlatform'] = df['SightingPlatform'].str.replace('25-60ft', '25 - 60 ft', regex = True)\n",
        "    df['SightingPlatform'] = df['SightingPlatform'].str.replace('25-60', '25 - 60', regex = True)\n",
        "    df['SightingPlatform'] = df['SightingPlatform'].str.replace('Vessel  25', 'Vessel 25', regex = True)\n",
        "    df['SightingPlatform'] = df['SightingPlatform'].str.replace('< 25 - 60', '< 25 ft', regex = True)\n",
        "\n",
        "    #Fix Experience\n",
        "    df['Experience'] = df['Experience'].str.replace('Recreational', 'Novice recreational observer', regex = True)\n",
        "    \n",
        "    return df\n",
        "\n",
        "#define function that replaces NaNs\n",
        "def fill_nans(df):\n",
        "    \"\"\"\n",
        "    As simpleimputer returns an array and loses column names, this function will take it's place.\n",
        "    Input is the dataframe\n",
        "    This function will replace all NaNs (mean for numercial and most frequent for categorical)\n",
        "    Returns a dataframe with no NaNs\n",
        "    \"\"\"\n",
        "    #define your categorical features\n",
        "    cat_cols = ['Time', 'SpeciesName', 'SeaState', 'Date', 'WindSpeed', 'AnimalCountMeasure',\n",
        "                'Behaviour', 'Direction of Travel', 'SightingPlatform', 'Experience']\n",
        "\n",
        "    #Replace NaN with most frequent value for Category columns\n",
        "    for col in cat_cols:\n",
        "        most_freq = df[col].mode().values[0]\n",
        "        df[col].fillna(most_freq, inplace=True)\n",
        "    \n",
        "    #Replace missing values for numerical features\n",
        "    num_cols = ['LatitudeDD', 'LongitudeDD']\n",
        "    for num in num_cols:\n",
        "        df[num].fillna(value=df[col].mode().values[0], inplace=True)\n",
        "\n",
        "    return df\n",
        "\n",
        "#define function to log Number of Animals\n",
        "def log_animals(df):\n",
        "    df['Number of Animals Min'] = np.nan_to_num(np.log(df['Number of Animals Min']), neginf = 0)\n",
        "    return df\n",
        "\n",
        "#define function to extract species category\n",
        "def species_category(df):\n",
        "    \"\"\"\n",
        "    This function uses the SpeciesName column in dataframe\n",
        "    To create a new feature called Species Category\n",
        "    Returns updated dataframe with SpeciesName Dropped\n",
        "    \"\"\"\n",
        "    #Lists of Whales and Dolphins/Porpoise Species\n",
        "    whales = ['Killer whale',\"Grey whale\", 'Humpback whale', 'Minke whale', 'Fin whale',  'Sperm whale', \n",
        "                'False killer whale', \"Baird's beaked whale\", \"Cuvier's beaked whale\", 'Sei whale', \n",
        "                'Blue whale', 'North Pacific right whale', 'Unidentified whale','Other rare species']\n",
        "\n",
        "    d_p = ['Harbour porpoise',\"Dall's porpoise\", 'Pacific white-sided dolphin', \"Risso's dolphin\",\n",
        "            'Northern right whale dolphin','Unidentified dolphin or porpoise']\n",
        "\n",
        "    #Create empty list\n",
        "    speciescategory = []\n",
        "\n",
        "    #create for loop and appen to list\n",
        "    for n in df.SpeciesName:\n",
        "        if (n in whales) == True:\n",
        "            speciescategory.append('Whales')\n",
        "        elif (n in d_p) == True:\n",
        "            speciescategory.append('Dolphins and Porpoises')\n",
        "        else:\n",
        "            speciescategory.append('Sea Turtle')\n",
        "            \n",
        "    #define new column\n",
        "    df['SpeciesCategory'] = speciescategory\n",
        "\n",
        "    #drop SpeciesName\n",
        "    df = df.drop(['SpeciesName'], axis = 1)\n",
        "\n",
        "    return df\n",
        "\n",
        "#define extract behaviour function\n",
        "def extract_behaviour(df):\n",
        "    \"\"\"\n",
        "    This function takes in the dataframe and extracts unqiue features from the behaviour column\n",
        "    And One hot encodes each variable\n",
        "    Returns a dataframe with new behaviour columns and deleted behaviour column\n",
        "    \"\"\"\n",
        "    #Create list if unique Behaviours\n",
        "    behave = ['Fluking', 'Feeding', 'Porpoising', 'Spy-hopping', 'Slow Moving', 'Diving', \n",
        "            'Depredation', 'Travelling quickly', 'Bow-riding', 'Breaching', 'Fast moving']\n",
        "\n",
        "    #Fix behaviour\n",
        "    df.Behaviour = df.Behaviour.str.replace(' Fluking', 'Fluking', regex = True)\n",
        "    df.Behaviour = df.Behaviour.str.replace('slow moving', 'Slow Moving', regex = True)\n",
        "    df.Behaviour = df.Behaviour.str.replace('Slow moving', 'Slow Moving', regex = True)\n",
        "\n",
        "    #turn behaviour column into list and split based on comma\n",
        "    ls = list(df['Behaviour'].str.split(','))\n",
        "\n",
        "    #create for loop do go through flat list (all unique values)\n",
        "    for element in behave:\n",
        "        #create column for each element\n",
        "        df[element] = 0\n",
        "        #enumerate through the column turned ls\n",
        "        for index, l in enumerate(ls):\n",
        "            #Assign False as 0 and True as 1 if element in ls\n",
        "            df[element].iloc[index] = int(element in l)\n",
        "    \n",
        "    #Drop behaviour column\n",
        "    df = df.drop(['Behaviour'], axis = 1)\n",
        "\n",
        "    return df\n",
        "\n",
        "#define date time function (hour, month, season)\n",
        "def date_time(df):\n",
        "    \"\"\"\n",
        "    This function takes in a dataframe and extracts features from date and time\n",
        "    Returns new dataframe with extracted features and dropped SubDate and SubTime\n",
        "    \"\"\"\n",
        "    #Create Month and Year columns\n",
        "    df['Month'] = df['Date'].dt.month_name().str[:3]\n",
        "    df['Year'] = df['Date'].dt.year\n",
        "    df['Year'] = df.Year.astype(str)\n",
        "\n",
        "    #Create Season Column\n",
        "    conditions = [(df['Month'] == 'Jan') | (df['Month'] == 'Feb') | (df['Month'] == 'Mar'), #winter\n",
        "                (df['Month'] == 'Apr') | (df['Month'] == 'May') | (df['Month'] == 'Jun'), #spring\n",
        "                (df['Month'] == 'Jul') | (df['Month'] == 'Aug') | (df['Month'] == 'Sep'), #summer\n",
        "                (df['Month'] == 'Oct') | (df['Month'] == 'Nov') | (df['Month'] == 'Dec')] #autumn\n",
        "    \n",
        "    seasons = ['Winter', 'Spring', 'Summer', 'Autumn']\n",
        "    df['Season'] = np.select(conditions, seasons)\n",
        "\n",
        "    #Create Hour Column\n",
        "    item = df.Time.apply(lambda x: str(x)[:2])\n",
        "    df['Hour'] = item\n",
        "\n",
        "    df = df.drop(['Date', 'Time'], axis = 1)\n",
        "\n",
        "    return df\n",
        "\n",
        "#define function to extract seacatgory feature\n",
        "def seacategory(df):\n",
        "    \"\"\"\n",
        "    Function takes SeaState Column and categorizes them into a new column SeaCategory\n",
        "    Returns new dataframe\n",
        "    \"\"\"\n",
        "    crests = ['Wind felt on face;wave crests have glassy appearance', 'Crests begin to break;whitecaps start to form at 10 knots']\n",
        "    moderate = ['Frequent whitecaps - sea to 3 ft (1 m)', 'Moderate waves form 4-5 ft (1.5-2.5 m);some spray carried']\n",
        "    rough = ['Large waves 5-7 ft (2-3 m);more spray', 'Swell forms 8-10 ft (3-4 m);foam blown in streaks']\n",
        "    dangerous = ['Moderately high waves to 16 ft (5 m);crests break into spindrift',\n",
        "                'High waves to 20 ft (7 m);dense foam, visibility reduced']\n",
        "    storm = ['Exceptionally high waves to 30 ft (9 m)','Waves to 35 ft (11 m);very limited visibility', \n",
        "            'Waves to 50 ft (15m);air filled with foam and spray']\n",
        "\n",
        "    #Create empty list\n",
        "    seacategory = []\n",
        "\n",
        "    #create for loop and append to list\n",
        "    for n in df.SeaState:\n",
        "        if (n in crests) == True:\n",
        "            seacategory.append('Crest')\n",
        "        elif (n in moderate) == True:\n",
        "            seacategory.append('Moderate')\n",
        "        elif (n in rough) == True:\n",
        "            seacategory.append('Rough')\n",
        "        elif (n in dangerous) == True:\n",
        "            seacategory.append('Dangerous')\n",
        "        elif (n in storm) == True:\n",
        "            seacategory.append('Storm')\n",
        "        else:\n",
        "            seacategory.append('Calm')\n",
        "            \n",
        "    #define new column\n",
        "    df['SeaCategory'] = seacategory\n",
        "\n",
        "    #drop windspeed\n",
        "    df = df.drop(['SeaState'], axis = 1)\n",
        "\n",
        "    return df\n",
        "\n",
        "#define function to extract windcatgory feature\n",
        "def windcategory(df):\n",
        "    \"\"\"\n",
        "    Function takes WindSpeed Column and categorizes them into a new column WindCategory\n",
        "    Returns new dataframe\n",
        "    \"\"\"\n",
        "    light =['1 - 3 kts (Light Air)', '4 - 6 kts (Light Breeze)', '7 - 10 kts (Gentle Breeze)']\n",
        "    breeze = ['11 - 16 kts (Moderate Breeze)', '17 - 21 kts (Fresh Breeze)', '22 - 27 kts (Strong Breeze)']\n",
        "    gale = ['28 - 33 kts (Near Gale)', '34 - 40 kts (Gale)', '41 - 47 kts (Strong Gale)']\n",
        "    storm = ['48 - 55 kts  (Storm)', '56 - 63 kts (Violent Storm)', '64+ kts (Hurricane)']\n",
        "\n",
        "    #Create empty list\n",
        "    windcategory = []\n",
        "\n",
        "    #create for loop and appen to list\n",
        "    for n in df.WindSpeed:\n",
        "        if (n in light) == True:\n",
        "            windcategory.append('Light')\n",
        "        elif (n in breeze) == True:\n",
        "            windcategory.append('Breeze')\n",
        "        elif (n in gale) == True:\n",
        "            windcategory.append('Gale')\n",
        "        elif (n in storm) == True:\n",
        "            windcategory.append('Storm')\n",
        "        else:\n",
        "            windcategory.append('Calm')\n",
        "            \n",
        "    #define new column\n",
        "    df['WindCategory'] = windcategory\n",
        "\n",
        "    #drop windspeed\n",
        "    df = df.drop(['WindSpeed'], axis = 1)\n",
        "\n",
        "    return df\n",
        "\n",
        "#define function to transform lat and long\n",
        "def transform_coord(df):\n",
        "    \"\"\"\n",
        "    This function normalizes latitude and longitude.\n",
        "    \"\"\"\n",
        "    df.LatitudeDD = df.LatitudeDD/100\n",
        "    df.LongitudeDD = df.LongitudeDD/100\n",
        "\n",
        "    return df\n",
        "\n",
        "    \n",
        "#Define object transformer class\n",
        "class objectTransformer:\n",
        "    \"\"\"\n",
        "    Class object transformer, takes in function to apply in preprocessing step of Pipeline\n",
        "    \"\"\"\n",
        "    def __init__(self, func):\n",
        "        self.func = func\n",
        "        \n",
        "    def fit(self, X, y=None, **fit_params):\n",
        "        return self\n",
        "    \n",
        "    def transform(self, X, **fit_params):\n",
        "        return self.func(X)\n"
      ]
    },
    {
      "cell_type": "code",
      "execution_count": 3,
      "metadata": {
        "id": "98WTbaC9_7sF"
      },
      "outputs": [],
      "source": [
        "#Create definition to group target variables\n",
        "def location_accuracy(df):\n",
        "    \"\"\"\n",
        "    Input - dataframe\n",
        "    Output - Newly Assigned Target Values for Location Accuracy\n",
        "    Function groups Location Accuracy values into 3 subcategories\n",
        "    \"\"\"\n",
        "\n",
        "    cat_1 = ['Within 5m', 'Within 50m', 'Within 100m', 'Within 200m', 'Within 500m']\n",
        "    cat_2 = ['Within 1km', 'Within 2km']\n",
        "    cat_3 = ['Within 5km', 'Within 10km','Within 20km', 'Within 25km', 'Within 50km', 'Within 100km']\n",
        "\n",
        "    for x in cat_1:\n",
        "        df.loc[df['Location Accuracy'].str.contains(x, na=False), 'Location Accuracy'] = '< 500m'\n",
        "    for x in cat_2:\n",
        "        df.loc[df['Location Accuracy'].str.contains(x, na=False), 'Location Accuracy'] = '500m-2km'\n",
        "    for x in cat_3:\n",
        "        df.loc[df['Location Accuracy'].str.contains(x, na=False), 'Location Accuracy'] = '> 2km'\n",
        "\n",
        "    return df\n",
        "\n",
        "#functions for plotting roc per clas\n",
        "#Resource: https://towardsdatascience.com/multiclass-classification-evaluation-with-roc-curves-and-roc-auc-294fd4617e3a\n",
        "def calculate_tpr_fpr(y_real, y_pred):\n",
        "    '''\n",
        "    Calculates the True Positive Rate (tpr) and the True Negative Rate (fpr) based on real and predicted observations\n",
        "    \n",
        "    Args:\n",
        "        y_real: The list or series with the real classes\n",
        "        y_pred: The list or series with the predicted classes\n",
        "        \n",
        "    Returns:\n",
        "        tpr: The True Positive Rate of the classifier\n",
        "        fpr: The False Positive Rate of the classifier\n",
        "    '''\n",
        "    \n",
        "    # Calculates the confusion matrix and recover each element\n",
        "    cm = confusion_matrix(y_real, y_pred)\n",
        "    TN = cm[0, 0]\n",
        "    FP = cm[0, 1]\n",
        "    FN = cm[1, 0]\n",
        "    TP = cm[1, 1]\n",
        "    \n",
        "    # Calculates tpr and fpr\n",
        "    tpr =  TP/(TP + FN) # sensitivity - true positive rate\n",
        "    fpr = 1 - TN/(TN+FP) # 1-specificity - false positive rate\n",
        "    \n",
        "    return tpr, fpr\n",
        "\n",
        "def get_all_roc_coordinates(y_real, y_proba):\n",
        "    '''\n",
        "    Calculates all the ROC Curve coordinates (tpr and fpr) by considering each point as a treshold for the predicion of the class.\n",
        "    \n",
        "    Args:\n",
        "        y_real: The list or series with the real classes.\n",
        "        y_proba: The array with the probabilities for each class, obtained by using the `.predict_proba()` method.\n",
        "        \n",
        "    Returns:\n",
        "        tpr_list: The list of TPRs representing each threshold.\n",
        "        fpr_list: The list of FPRs representing each threshold.\n",
        "    '''\n",
        "    tpr_list = [0]\n",
        "    fpr_list = [0]\n",
        "    for i in range(len(y_proba)):\n",
        "        threshold = y_proba[i]\n",
        "        y_pred = y_proba >= threshold\n",
        "        tpr, fpr = calculate_tpr_fpr(y_real, y_pred)\n",
        "        tpr_list.append(tpr)\n",
        "        fpr_list.append(fpr)\n",
        "    return tpr_list, fpr_list\n",
        "\n",
        "def plot_roc_curve(tpr, fpr, scatter = True, ax = None):\n",
        "    '''\n",
        "    Plots the ROC Curve by using the list of coordinates (tpr and fpr).\n",
        "    \n",
        "    Args:\n",
        "        tpr: The list of TPRs representing each coordinate.\n",
        "        fpr: The list of FPRs representing each coordinate.\n",
        "        scatter: When True, the points used on the calculation will be plotted with the line (default = True).\n",
        "    '''\n",
        "    if ax == None:\n",
        "        plt.figure(figsize = (5, 5))\n",
        "        ax = plt.axes()\n",
        "    \n",
        "    if scatter:\n",
        "        sns.scatterplot(x = fpr, y = tpr, ax = ax)\n",
        "    sns.lineplot(x = fpr, y = tpr, ax = ax)\n",
        "    sns.lineplot(x = [0, 1], y = [0, 1], color = 'green', ax = ax)\n",
        "    plt.xlim(-0.05, 1.05)\n",
        "    plt.ylim(-0.05, 1.05)\n",
        "    plt.xlabel(\"False Positive Rate\")\n",
        "    plt.ylabel(\"True Positive Rate\")"
      ]
    },
    {
      "cell_type": "markdown",
      "metadata": {
        "id": "036DQsyU2QZG"
      },
      "source": [
        "## Final Preprocessing"
      ]
    },
    {
      "cell_type": "code",
      "execution_count": 24,
      "metadata": {
        "id": "Ro30MvZROdKK"
      },
      "outputs": [],
      "source": [
        "#Create preprocessing\n",
        "final_preprocessing = Pipeline([(\"fix_nulls\", objectTransformer(nulls_to_nan)), #step 1 - Fix my NaNs (objectTransformer)\n",
        "                        ('grammar', objectTransformer(grammar)), #Step 2 - Letter Casing\n",
        "                        ('fill_na', objectTransformer(fill_nans)), #Step 3 - Fill in my nulls (column Transformer)\n",
        "                        ('num_animal', objectTransformer(log_animals)), #Step 4 - Feature Engineering log Number of animals\n",
        "                        ('spcategory', objectTransformer(species_category)), #Step 5 - Feature Engineering column SpeciesCategory\n",
        "                        ('behaviour', objectTransformer(extract_behaviour)), #Step 6 - Feature Engineering column Behvaiour\n",
        "                        ('date_time', objectTransformer(date_time)), #Step 7 - Feature Engineering columns Hour, Month, Season\n",
        "                        ('seacategory', objectTransformer(seacategory)), #Step 8 - Feature Engineering column SeaCategory\n",
        "                        ('windcategory', objectTransformer(windcategory))]) #Step 9 - Feature Engineering column WindCategory\n"
      ]
    },
    {
      "cell_type": "markdown",
      "metadata": {
        "id": "jsu53Vu42Xqp"
      },
      "source": [
        "## Model 1 - Log Regression"
      ]
    },
    {
      "cell_type": "code",
      "execution_count": null,
      "metadata": {
        "colab": {
          "base_uri": "https://localhost:8080/"
        },
        "id": "RZritfEo2TAe",
        "outputId": "4bbf3157-7584-4175-f0d9-8b8871d02600"
      },
      "outputs": [],
      "source": [
        "#Create Final Log. Regression Pipeline\n",
        "new_log = Pipeline([('preprocessing', final_preprocessing),\n",
        "                    ('one_hot', OneHotEncoder(handle_unknown = \"ignore\", sparse= False)),\n",
        "                    ('scale', MaxAbsScaler()),\n",
        "                    ('LR', LogisticRegression(random_state=42))])\n",
        "\n",
        "#Fit new_log\n",
        "new_log.fit(X_train, y_train)"
      ]
    },
    {
      "cell_type": "code",
      "execution_count": null,
      "metadata": {
        "colab": {
          "base_uri": "https://localhost:8080/"
        },
        "id": "11HC_5--2pnI",
        "outputId": "0e98e5fe-f6ac-4eeb-eb48-d0c96bf27727"
      },
      "outputs": [
        {
          "name": "stdout",
          "output_type": "stream",
          "text": [
            "Accuracy: 0.5445705024311183\n"
          ]
        }
      ],
      "source": [
        "#find accruacy\n",
        "y_prediction = new_log.predict(X_test)\n",
        "\n",
        "# Calculate Model Accuracy\n",
        "print(\"Accuracy:\", accuracy_score(y_test, y_prediction))"
      ]
    },
    {
      "cell_type": "markdown",
      "metadata": {
        "id": "_3Mb1Eog2ZjD"
      },
      "source": [
        "### Grid Search"
      ]
    },
    {
      "cell_type": "code",
      "execution_count": null,
      "metadata": {
        "colab": {
          "base_uri": "https://localhost:8080/"
        },
        "id": "roSk-y1i2r3k",
        "outputId": "a61e493b-aef2-4a30-9c5a-8ce6a80feff3"
      },
      "outputs": [
        {
          "data": {
            "text/plain": [
              "GridSearchCV(cv=3,\n",
              "             estimator=Pipeline(steps=[('preprocessing',\n",
              "                                        Pipeline(steps=[('fix_nulls',\n",
              "                                                         <__main__.objectTransformer object at 0x7f16dca7a310>),\n",
              "                                                        ('grammar',\n",
              "                                                         <__main__.objectTransformer object at 0x7f16dca7ae10>),\n",
              "                                                        ('fill_na',\n",
              "                                                         <__main__.objectTransformer object at 0x7f16da55ad50>),\n",
              "                                                        ('num_animal',\n",
              "                                                         <__main__.objectTransformer object at 0x7f16da55a450>),\n",
              "                                                        ('spcategory',\n",
              "                                                         <_...\n",
              "                                                         <__main__.objectTransformer object at 0x7f16da55a6d0>),\n",
              "                                                        ('windcategory',\n",
              "                                                         <__main__.objectTransformer object at 0x7f16da55a150>)])),\n",
              "                                       ('one_hot',\n",
              "                                        OneHotEncoder(handle_unknown='ignore',\n",
              "                                                      sparse=False)),\n",
              "                                       ('scale', MaxAbsScaler()),\n",
              "                                       ('LR',\n",
              "                                        LogisticRegression(random_state=42))]),\n",
              "             param_grid=[{'LR__C': [0.01, 0.1, 1, 10],\n",
              "                          'LR__penalty': ['l1', 'l2'],\n",
              "                          'LR__solver': ['saga', 'lbfgs']}],\n",
              "             scoring='accuracy')"
            ]
          },
          "execution_count": 24,
          "metadata": {},
          "output_type": "execute_result"
        }
      ],
      "source": [
        "#Define parameters for grid searchs for each pipeline\n",
        "lr_param_grid = [{'LR__penalty': ['l1','l2'],\n",
        "                'LR__C': [0.01,0.1,1,10],\n",
        "                'LR__solver':['saga', 'lbfgs']}]\n",
        "\n",
        "#Make Grid Searches\n",
        "lr_gs = GridSearchCV(estimator = new_log, param_grid = lr_param_grid, scoring = 'accuracy', cv = 3)\n",
        "\n",
        "#Fit grid search\n",
        "lr_gs.fit(X_train, y_train)"
      ]
    },
    {
      "cell_type": "code",
      "execution_count": null,
      "metadata": {
        "colab": {
          "base_uri": "https://localhost:8080/"
        },
        "id": "4c-h67ufrgw3",
        "outputId": "fc914db0-21a1-4339-c79a-51a4157922c9"
      },
      "outputs": [
        {
          "name": "stdout",
          "output_type": "stream",
          "text": [
            "Score: 0.5510534846029174\n",
            "Best Params: {'LR__C': 0.1, 'LR__penalty': 'l1', 'LR__solver': 'saga'}\n"
          ]
        }
      ],
      "source": [
        "#Check score\n",
        "print(f'Score: {lr_gs.score(X_test,y_test)}')\n",
        "print(f'Best Params: {lr_gs.best_params_}')"
      ]
    },
    {
      "cell_type": "code",
      "execution_count": null,
      "metadata": {
        "colab": {
          "base_uri": "https://localhost:8080/"
        },
        "id": "jj8qPO5v2xtE",
        "outputId": "3cae73fc-cd2e-4127-abb1-cd2332838eb6"
      },
      "outputs": [
        {
          "name": "stdout",
          "output_type": "stream",
          "text": [
            "              precision    recall  f1-score   support\n",
            "\n",
            "    500m-2km       0.54      0.47      0.51       511\n",
            "      < 500m       0.56      0.80      0.65       550\n",
            "       > 2km       0.00      0.00      0.00       173\n",
            "\n",
            "    accuracy                           0.55      1234\n",
            "   macro avg       0.37      0.42      0.39      1234\n",
            "weighted avg       0.47      0.55      0.50      1234\n",
            "\n"
          ]
        }
      ],
      "source": [
        "#Print classification report\n",
        "print(classification_report(y_test, lr_gs.predict(X_test)))"
      ]
    },
    {
      "cell_type": "code",
      "execution_count": null,
      "metadata": {
        "id": "aG0rOzQFy5DN"
      },
      "outputs": [],
      "source": [
        "#Save model \n",
        "pickle.dump(lr_gs, open('/content/drive/MyDrive/Deep_Learning/Project/log_reg_model.pickle', 'wb'))"
      ]
    },
    {
      "cell_type": "markdown",
      "metadata": {
        "id": "-ldiLUWyADZ6"
      },
      "source": [
        "### Analysis"
      ]
    },
    {
      "cell_type": "code",
      "execution_count": 22,
      "metadata": {
        "id": "rDG5N1i0AGw7"
      },
      "outputs": [],
      "source": [
        "#load model\n",
        "log_reg = pickle.load(open('Models/Location_Accuracy/log_reg_model.pickle', 'rb'))"
      ]
    },
    {
      "cell_type": "code",
      "execution_count": 23,
      "metadata": {
        "colab": {
          "base_uri": "https://localhost:8080/"
        },
        "id": "IBWVYpc-AGqK",
        "outputId": "0818c563-c87f-4120-f6c0-4d0b0afde118"
      },
      "outputs": [
        {
          "name": "stdout",
          "output_type": "stream",
          "text": [
            "Accuracy: 0.5510534846029174\n",
            "F1 Score: 0.5510534846029174\n",
            "Precision Score: 0.5510534846029174\n",
            "Recall Score: 0.5510534846029174\n",
            "ROC AUC Score: 0.6744673319727638\n",
            "              precision    recall  f1-score   support\n",
            "\n",
            "    500m-2km       0.54      0.47      0.51       511\n",
            "      < 500m       0.56      0.80      0.65       550\n",
            "       > 2km       0.00      0.00      0.00       173\n",
            "\n",
            "    accuracy                           0.55      1234\n",
            "   macro avg       0.37      0.42      0.39      1234\n",
            "weighted avg       0.47      0.55      0.50      1234\n",
            "\n"
          ]
        }
      ],
      "source": [
        "#Predict X_test\n",
        "y_prediction = log_reg.predict(X_test)\n",
        "\n",
        "#Print measure scores\n",
        "print(f\"Accuracy: {accuracy_score(y_test, y_prediction)}\")\n",
        "print(f\"F1 Score: {f1_score(y_test, y_prediction, average='micro')}\")\n",
        "print(f\"Precision Score: {precision_score(y_test, y_prediction, average='micro')}\")\n",
        "print(f\"Recall Score: {recall_score(y_test, y_prediction, average='micro')}\")\n",
        "print(f\"ROC AUC Score: {roc_auc_score(y_test, log_reg.predict_proba(X_test),multi_class='ovr', average='macro')}\")\n",
        "\n",
        "#print full classification report\n",
        "print(classification_report(y_test, y_prediction))"
      ]
    },
    {
      "cell_type": "code",
      "execution_count": 24,
      "metadata": {
        "colab": {
          "base_uri": "https://localhost:8080/",
          "height": 546
        },
        "id": "A0HIGFb4AGmd",
        "outputId": "7ab13379-abba-4866-f342-25109b958c54"
      },
      "outputs": [
        {
          "data": {
            "image/png": "[encoded data removed]",
            "text/plain": [
              "<Figure size 648x648 with 2 Axes>"
            ]
          },
          "metadata": {
            "needs_background": "light"
          },
          "output_type": "display_data"
        }
      ],
      "source": [
        "#Create a confusion matrix\n",
        "matrix = confusion_matrix(y_test, y_prediction)\n",
        "\n",
        "#Visualize the matrix with Seaborn\n",
        "\n",
        "#Write title to display accuracy score\n",
        "score = accuracy_score(y_test, y_prediction)\n",
        "all_sample_title = 'Log Reg. Accuracy Score: {0}'.format(score)\n",
        "\n",
        "#Set figure shape\n",
        "plt.figure(figsize=(9,9))\n",
        "\n",
        "#Use heatmap\n",
        "p = sns.heatmap(matrix, annot=True, fmt=\".3f\", linewidths=0.5, square=True, cmap=\"mako\")\n",
        "\n",
        "#Label the plot\n",
        "lab = ['500m-2km', '< 500m', '> 2km']\n",
        "p.set_ylabel('Actual Label', size=16)\n",
        "p.set_xlabel('Predicted Label', size = 16)\n",
        "p.set_xticklabels(lab)\n",
        "p.set_yticklabels(lab)\n",
        "p.set_title(all_sample_title, size = 18)\n",
        "\n",
        "\n",
        "#save\n",
        "fig = p.get_figure()\n",
        "fig.savefig('Plots/Location_Accuracy/logreg_confusion.png')"
      ]
    },
    {
      "cell_type": "code",
      "execution_count": 88,
      "metadata": {
        "colab": {
          "base_uri": "https://localhost:8080/",
          "height": 605
        },
        "id": "1vPA0YSZAGiF",
        "outputId": "2b970382-c377-47f8-a5bb-fff4b76edcea"
      },
      "outputs": [
        {
          "data": {
            "image/png": "[encoded data removed]",
            "text/plain": [
              "<Figure size 864x576 with 6 Axes>"
            ]
          },
          "metadata": {
            "needs_background": "light"
          },
          "output_type": "display_data"
        }
      ],
      "source": [
        "# Plots the Probability Distributions and the ROC Curves One vs Rest\n",
        "# reference: https://towardsdatascience.com/multiclass-classification-evaluation-with-roc-curves-and-roc-auc-294fd4617e3a\n",
        "plt.figure(figsize = (12, 8))\n",
        "bins = [i/20 for i in range(20)] + [1]\n",
        "classes = log_reg.classes_\n",
        "roc_auc_ovr = {}\n",
        "y_proba = log_reg.predict_proba(X_test)\n",
        "for i in range(len(classes)):\n",
        "    # Gets the class\n",
        "    c = classes[i]\n",
        "    \n",
        "    # Prepares an auxiliar dataframe to help with the plots\n",
        "    df_aux = X_test.copy()\n",
        "    df_aux['class'] = [1 if y == c else 0 for y in y_test]\n",
        "    df_aux['prob'] = y_proba[:, i]\n",
        "    df_aux = df_aux.reset_index(drop = True)\n",
        "\n",
        "    # Plots the probability distribution for the class and the rest\n",
        "    ax = plt.subplot(2, 5, i+1)\n",
        "    sns.histplot(x = \"prob\", data = df_aux, hue = 'class', color = 'b', ax = ax, bins = bins)\n",
        "    ax.set_title(c)\n",
        "    ax.legend([f\"Class: {c}\", \"Rest\"])\n",
        "    ax.set_xlabel(f\"P(x = {c})\")\n",
        "    \n",
        "    # Calculates the ROC Coordinates and plots the ROC Curves\n",
        "    ax_bottom = plt.subplot(2, 5, i+6)\n",
        "    tpr, fpr = get_all_roc_coordinates(df_aux['class'], df_aux['prob'])\n",
        "    plot_roc_curve(tpr, fpr, scatter = False, ax = ax_bottom)\n",
        "    ax_bottom.set_title(\"ROC Curve OvR\")\n",
        "    \n",
        "    # Calculates the ROC AUC OvR\n",
        "    roc_auc_ovr[c] = roc_auc_score(df_aux['class'], df_aux['prob'])\n",
        "plt.tight_layout()"
      ]
    },
    {
      "cell_type": "markdown",
      "metadata": {
        "id": "4xMsbBxrN6Zl"
      },
      "source": [
        "## Model 2 - SVC"
      ]
    },
    {
      "cell_type": "code",
      "execution_count": null,
      "metadata": {
        "id": "VZTARvkmN6Zl"
      },
      "outputs": [],
      "source": [
        "#Set up pipeline\n",
        "pipe_svc = Pipeline([('preprocessing', final_preprocessing),\n",
        "                    ('one_hot', OneHotEncoder(handle_unknown = \"ignore\",sparse= False)),\n",
        "                    ('scale', MinMaxScaler()),\n",
        "                     ('SVC', SVC(random_state=42))])"
      ]
    },
    {
      "cell_type": "code",
      "execution_count": null,
      "metadata": {
        "colab": {
          "base_uri": "https://localhost:8080/"
        },
        "id": "HVMl3XMNB6zY",
        "outputId": "5ed91066-5ab9-4fe1-9ee5-318cbd16e85f"
      },
      "outputs": [],
      "source": [
        "#Fit training data\n",
        "pipe_svc.fit(X_train, y_train)"
      ]
    },
    {
      "cell_type": "code",
      "execution_count": null,
      "metadata": {
        "colab": {
          "base_uri": "https://localhost:8080/"
        },
        "id": "3phbRYqvYf45",
        "outputId": "83af6202-3b01-412f-837c-df6dcd9bbfa4"
      },
      "outputs": [
        {
          "name": "stdout",
          "output_type": "stream",
          "text": [
            "Score: 0.5607779578606159\n"
          ]
        }
      ],
      "source": [
        "#Check score\n",
        "print(f'Score: {pipe_svc.score(X_test,y_test)}')"
      ]
    },
    {
      "cell_type": "code",
      "execution_count": null,
      "metadata": {
        "colab": {
          "base_uri": "https://localhost:8080/"
        },
        "id": "nGRbRu__Ysro",
        "outputId": "f86b2372-9079-4730-e61d-db25b67c9e43"
      },
      "outputs": [
        {
          "name": "stdout",
          "output_type": "stream",
          "text": [
            "              precision    recall  f1-score   support\n",
            "\n",
            "    500m-2km       0.55      0.49      0.52       511\n",
            "      < 500m       0.57      0.80      0.66       550\n",
            "       > 2km       0.00      0.00      0.00       173\n",
            "\n",
            "    accuracy                           0.56      1234\n",
            "   macro avg       0.37      0.43      0.39      1234\n",
            "weighted avg       0.48      0.56      0.51      1234\n",
            "\n"
          ]
        }
      ],
      "source": [
        "#Print classification report\n",
        "print(classification_report(y_test, pipe_svc.predict(X_test)))"
      ]
    },
    {
      "cell_type": "code",
      "execution_count": null,
      "metadata": {
        "id": "cnApQjK4Ywyn"
      },
      "outputs": [],
      "source": [
        "#Save model \n",
        "pickle.dump(pipe_svc, open('/content/drive/MyDrive/Deep_Learning/Project/svc_model.pickle', 'wb'))"
      ]
    },
    {
      "cell_type": "markdown",
      "metadata": {
        "id": "ZVwjCQOnn0nl"
      },
      "source": [
        "### Grid Search - Not Done"
      ]
    },
    {
      "cell_type": "code",
      "execution_count": null,
      "metadata": {
        "id": "2V316HvwN6Zm"
      },
      "outputs": [],
      "source": [
        "#Define grid search params\n",
        "svc_param_grid = [{'SVC__kernel': ['linear','poly', 'rbf', 'sigmoid'],\n",
        "                'SVC__C': [0.001,0.01,0.1,1]}]\n",
        "\n",
        "#Run grid search\n",
        "svc_gs = GridSearchCV(estimator = pipe_svc, param_grid = svc_param_grid, scoring = 'accuracy', cv = 3)\n",
        "\n",
        "#Fit training data\n",
        "svc_gs.fit(X_train, y_train)"
      ]
    },
    {
      "cell_type": "code",
      "execution_count": null,
      "metadata": {
        "id": "YDcMk0_O3SNH"
      },
      "outputs": [],
      "source": [
        "#Check score\n",
        "print(f'Score: {svc_gs.score(X_test,y_test)}')\n",
        "print(f'Best Params: {svc_gs.best_params_}')"
      ]
    },
    {
      "cell_type": "markdown",
      "metadata": {
        "id": "gx0XAulRBl54"
      },
      "source": [
        "### Analysis"
      ]
    },
    {
      "cell_type": "code",
      "execution_count": 26,
      "metadata": {
        "id": "TIH3vOtxBpNs"
      },
      "outputs": [],
      "source": [
        "#load model\n",
        "svc_model = pickle.load(open('Models/Location_Accuracy/svc_model.pickle', 'rb'))"
      ]
    },
    {
      "cell_type": "code",
      "execution_count": null,
      "metadata": {
        "colab": {
          "base_uri": "https://localhost:8080/"
        },
        "id": "uOW8vTmoBpF8",
        "outputId": "fd53a4d5-9bd9-42c4-ff14-03259106f948"
      },
      "outputs": [],
      "source": [
        "#Predict X_test\n",
        "y_prediction = svc_model.predict(X_test)\n",
        "\n",
        "#Print measure scores\n",
        "print(f\"Accuracy: {accuracy_score(y_test, y_prediction)}\")\n",
        "print(f\"F1 Score: {f1_score(y_test, y_prediction, average='micro')}\")\n",
        "print(f\"Precision Score: {precision_score(y_test, y_prediction, average='micro')}\")\n",
        "print(f\"Recall Score: {recall_score(y_test, y_prediction, average='micro')}\")\n",
        "#Forgot to put probabilty=True for roc score\n",
        "\n",
        "#print full classification report\n",
        "print(classification_report(y_test, y_prediction))"
      ]
    },
    {
      "cell_type": "code",
      "execution_count": 105,
      "metadata": {
        "colab": {
          "base_uri": "https://localhost:8080/",
          "height": 546
        },
        "id": "Kd1C_hPkBo_e",
        "outputId": "67d7df3b-a966-4254-c35d-0cb8471cdf32"
      },
      "outputs": [
        {
          "data": {
            "image/png": "[encoded data removed]",
            "text/plain": [
              "<Figure size 648x648 with 2 Axes>"
            ]
          },
          "metadata": {
            "needs_background": "light"
          },
          "output_type": "display_data"
        }
      ],
      "source": [
        "#Create a confusion matrix\n",
        "matrix = confusion_matrix(y_test, y_prediction)\n",
        "\n",
        "#Visualize the matrix with Seaborn\n",
        "\n",
        "#Write title to display accuracy score\n",
        "score = accuracy_score(y_test, y_prediction)\n",
        "all_sample_title = 'SVC Accuracy Score: {0}'.format(score)\n",
        "\n",
        "#Set figure shape\n",
        "plt.figure(figsize=(9,9))\n",
        "\n",
        "#Use heatmap\n",
        "p = sns.heatmap(matrix, annot=True, fmt=\".3f\", linewidths=0.5, square=True, cmap=\"mako\")\n",
        "\n",
        "#Label the plot\n",
        "lab = ['500m-2km', '< 500m', '> 2km']\n",
        "p.set_ylabel('Actual Label', size=16)\n",
        "p.set_xlabel('Predicted Label', size = 16)\n",
        "p.set_xticklabels(lab)\n",
        "p.set_yticklabels(lab)\n",
        "p.set_title(all_sample_title, size = 18)\n",
        "\n",
        "\n",
        "#save\n",
        "fig = p.get_figure()\n",
        "fig.savefig('Plots/Location_Accuracy/svc_confusion.png')"
      ]
    },
    {
      "cell_type": "markdown",
      "metadata": {
        "id": "O2P1FXEjN6Zm"
      },
      "source": [
        "## Model 3 - KNN"
      ]
    },
    {
      "cell_type": "code",
      "execution_count": null,
      "metadata": {
        "id": "p0JCvErhN6Zm"
      },
      "outputs": [],
      "source": [
        "#Set up pipeline\n",
        "pipe_knn = Pipeline([('preprocessing', final_preprocessing),\n",
        "                    ('one_hot', OneHotEncoder(handle_unknown = \"ignore\",sparse= False)),\n",
        "                    ('scale', MinMaxScaler()),\n",
        "                    ('KNN', KNeighborsClassifier())])\n"
      ]
    },
    {
      "cell_type": "code",
      "execution_count": null,
      "metadata": {
        "colab": {
          "base_uri": "https://localhost:8080/"
        },
        "id": "J2nfZGQjCBqM",
        "outputId": "c453dbf0-d2d3-4f6a-e6b7-9e7d26808463"
      },
      "outputs": [],
      "source": [
        "#Fit training data\n",
        "pipe_knn.fit(X_train, y_train)"
      ]
    },
    {
      "cell_type": "code",
      "execution_count": null,
      "metadata": {
        "colab": {
          "base_uri": "https://localhost:8080/"
        },
        "id": "2hrg6t4VZyGB",
        "outputId": "7b121fb5-bd6e-4c23-f035-d293a4a46986"
      },
      "outputs": [
        {
          "name": "stdout",
          "output_type": "stream",
          "text": [
            "Score: 0.5235008103727715\n"
          ]
        }
      ],
      "source": [
        "#Check score\n",
        "print(f'Score: {pipe_knn.score(X_test,y_test)}')"
      ]
    },
    {
      "cell_type": "code",
      "execution_count": null,
      "metadata": {
        "colab": {
          "base_uri": "https://localhost:8080/"
        },
        "id": "8Qep5sWwZyvw",
        "outputId": "2389be6c-5782-4d58-8100-af339bd71981"
      },
      "outputs": [
        {
          "name": "stdout",
          "output_type": "stream",
          "text": [
            "              precision    recall  f1-score   support\n",
            "\n",
            "    500m-2km       0.49      0.60      0.54       511\n",
            "      < 500m       0.58      0.60      0.59       550\n",
            "       > 2km       0.33      0.07      0.11       173\n",
            "\n",
            "    accuracy                           0.52      1234\n",
            "   macro avg       0.47      0.42      0.41      1234\n",
            "weighted avg       0.51      0.52      0.50      1234\n",
            "\n"
          ]
        }
      ],
      "source": [
        "#Print classification report\n",
        "print(classification_report(y_test, pipe_knn.predict(X_test)))"
      ]
    },
    {
      "cell_type": "code",
      "execution_count": null,
      "metadata": {
        "id": "m4BHmOa4Z4NE"
      },
      "outputs": [],
      "source": [
        "#Save model \n",
        "pickle.dump(pipe_knn, open('/content/drive/MyDrive/Deep_Learning/Project/knn_model.pickle', 'wb'))"
      ]
    },
    {
      "cell_type": "markdown",
      "metadata": {
        "id": "_6zVTfwgBuOw"
      },
      "source": [
        "### Analysis"
      ]
    },
    {
      "cell_type": "code",
      "execution_count": 30,
      "metadata": {
        "id": "ITrO89VVBxSt"
      },
      "outputs": [],
      "source": [
        "#load model\n",
        "knn_model = pickle.load(open('Models/Location_Accuracy/knn_model.pickle', 'rb'))"
      ]
    },
    {
      "cell_type": "code",
      "execution_count": 31,
      "metadata": {},
      "outputs": [
        {
          "name": "stdout",
          "output_type": "stream",
          "text": [
            "Accuracy: 0.5235008103727715\n",
            "F1 Score: 0.5235008103727715\n",
            "Precision Score: 0.5235008103727715\n",
            "Recall Score: 0.5235008103727715\n",
            "ROC AUC Score: 0.6284064114033749\n",
            "              precision    recall  f1-score   support\n",
            "\n",
            "    500m-2km       0.49      0.60      0.54       511\n",
            "      < 500m       0.58      0.60      0.59       550\n",
            "       > 2km       0.33      0.07      0.11       173\n",
            "\n",
            "    accuracy                           0.52      1234\n",
            "   macro avg       0.47      0.42      0.41      1234\n",
            "weighted avg       0.51      0.52      0.50      1234\n",
            "\n"
          ]
        }
      ],
      "source": [
        "#Predict X_test\n",
        "y_prediction = knn_model.predict(X_test)\n",
        "\n",
        "#Print measure scores\n",
        "print(f\"Accuracy: {accuracy_score(y_test, y_prediction)}\")\n",
        "print(f\"F1 Score: {f1_score(y_test, y_prediction, average='micro')}\")\n",
        "print(f\"Precision Score: {precision_score(y_test, y_prediction, average='micro')}\")\n",
        "print(f\"Recall Score: {recall_score(y_test, y_prediction, average='micro')}\")\n",
        "print(f\"ROC AUC Score: {roc_auc_score(y_test, knn_model.predict_proba(X_test),multi_class='ovr', average='macro')}\")\n",
        "\n",
        "#print full classification report\n",
        "print(classification_report(y_test, y_prediction))"
      ]
    },
    {
      "cell_type": "code",
      "execution_count": 32,
      "metadata": {
        "colab": {
          "base_uri": "https://localhost:8080/",
          "height": 540
        },
        "id": "ZVRJC-1PBxDp",
        "outputId": "645854a8-5606-4da9-a2c4-d1592ba5c58e"
      },
      "outputs": [
        {
          "data": {
            "image/png": "[encoded data removed]",
            "text/plain": [
              "<Figure size 648x648 with 2 Axes>"
            ]
          },
          "metadata": {
            "needs_background": "light"
          },
          "output_type": "display_data"
        }
      ],
      "source": [
        "#Create a confusion matrix\n",
        "matrix = confusion_matrix(y_test, y_prediction)\n",
        "\n",
        "#Visualize the matrix with Seaborn\n",
        "\n",
        "#Write title to display accuracy score\n",
        "score = accuracy_score(y_test, y_prediction)\n",
        "all_sample_title = 'KNN Accuracy Score: {0}'.format(score)\n",
        "\n",
        "#Set figure shape\n",
        "plt.figure(figsize=(9,9))\n",
        "\n",
        "#Use heatmap\n",
        "p = sns.heatmap(matrix, annot=True, fmt=\".3f\", linewidths=0.5, square=True, cmap=\"mako\")\n",
        "\n",
        "#Label the plot\n",
        "lab = ['500m-2km', '< 500m', '> 2km']\n",
        "p.set_ylabel('Actual Label', size=16)\n",
        "p.set_xlabel('Predicted Label', size = 16)\n",
        "p.set_xticklabels(lab)\n",
        "p.set_yticklabels(lab)\n",
        "p.set_title(all_sample_title, size = 18)\n",
        "\n",
        "\n",
        "#save\n",
        "fig = p.get_figure()\n",
        "fig.savefig('Plots/Location_Accuracy/knn_confusion.png')"
      ]
    },
    {
      "cell_type": "code",
      "execution_count": 112,
      "metadata": {
        "colab": {
          "base_uri": "https://localhost:8080/",
          "height": 605
        },
        "id": "I0ADs66SBw8D",
        "outputId": "ad943e76-1b2c-491c-bcb7-d20e6861477c"
      },
      "outputs": [
        {
          "data": {
            "image/png": "[encoded data removed]",
            "text/plain": [
              "<Figure size 864x576 with 6 Axes>"
            ]
          },
          "metadata": {
            "needs_background": "light"
          },
          "output_type": "display_data"
        }
      ],
      "source": [
        "# Plots the Probability Distributions and the ROC Curves One vs Rest\n",
        "# reference: https://towardsdatascience.com/multiclass-classification-evaluation-with-roc-curves-and-roc-auc-294fd4617e3a\n",
        "plt.figure(figsize = (12, 8))\n",
        "bins = [i/20 for i in range(20)] + [1]\n",
        "classes = knn_model.classes_\n",
        "roc_auc_ovr = {}\n",
        "y_proba = knn_model.predict_proba(X_test)\n",
        "for i in range(len(classes)):\n",
        "    # Gets the class\n",
        "    c = classes[i]\n",
        "    \n",
        "    # Prepares an auxiliar dataframe to help with the plots\n",
        "    df_aux = X_test.copy()\n",
        "    df_aux['class'] = [1 if y == c else 0 for y in y_test]\n",
        "    df_aux['prob'] = y_proba[:, i]\n",
        "    df_aux = df_aux.reset_index(drop = True)\n",
        "\n",
        "    # Plots the probability distribution for the class and the rest\n",
        "    ax = plt.subplot(2, 5, i+1)\n",
        "    sns.histplot(x = \"prob\", data = df_aux, hue = 'class', color = 'b', ax = ax, bins = bins)\n",
        "    ax.set_title(c)\n",
        "    ax.legend([f\"Class: {c}\", \"Rest\"])\n",
        "    ax.set_xlabel(f\"P(x = {c})\")\n",
        "    \n",
        "    # Calculates the ROC Coordinates and plots the ROC Curves\n",
        "    ax_bottom = plt.subplot(2, 5, i+6)\n",
        "    tpr, fpr = get_all_roc_coordinates(df_aux['class'], df_aux['prob'])\n",
        "    plot_roc_curve(tpr, fpr, scatter = False, ax = ax_bottom)\n",
        "    ax_bottom.set_title(\"ROC Curve OvR\")\n",
        "    \n",
        "    # Calculates the ROC AUC OvR\n",
        "    roc_auc_ovr[c] = roc_auc_score(df_aux['class'], df_aux['prob'])\n",
        "plt.tight_layout()"
      ]
    },
    {
      "cell_type": "markdown",
      "metadata": {
        "id": "eNUp5DtjN6Zn"
      },
      "source": [
        "## Model 4 - Random Forest"
      ]
    },
    {
      "cell_type": "code",
      "execution_count": 35,
      "metadata": {
        "id": "HoRev4jxN6Zn"
      },
      "outputs": [],
      "source": [
        "#Set up pipeline\n",
        "pipe_rf = Pipeline([('preprocessing', final_preprocessing),\n",
        "                    ('one_hot', OneHotEncoder(handle_unknown = \"ignore\",sparse= False)),\n",
        "                    ('RF',RandomForestClassifier(random_state=42))])\n"
      ]
    },
    {
      "cell_type": "code",
      "execution_count": null,
      "metadata": {
        "colab": {
          "base_uri": "https://localhost:8080/"
        },
        "id": "vr665lhc8Hoy",
        "outputId": "9b73187a-da49-4c80-bef2-fc437c3be0d8"
      },
      "outputs": [],
      "source": [
        "#Fit Pipeline\n",
        "pipe_rf.fit(X_train, y_train)"
      ]
    },
    {
      "cell_type": "code",
      "execution_count": 37,
      "metadata": {
        "colab": {
          "base_uri": "https://localhost:8080/"
        },
        "id": "ajDHqlpFtiNw",
        "outputId": "49313e8e-9b67-4cd2-e579-eeda1143b484"
      },
      "outputs": [
        {
          "name": "stdout",
          "output_type": "stream",
          "text": [
            "Score: 0.5542949756888168\n"
          ]
        }
      ],
      "source": [
        "#Check score\n",
        "print(f'Score: {pipe_rf.score(X_test,y_test)}')"
      ]
    },
    {
      "cell_type": "code",
      "execution_count": 38,
      "metadata": {
        "colab": {
          "base_uri": "https://localhost:8080/"
        },
        "id": "NIo-R_N0toMU",
        "outputId": "8d7ffb80-1658-4437-add2-88b46e4db57e"
      },
      "outputs": [
        {
          "name": "stdout",
          "output_type": "stream",
          "text": [
            "              precision    recall  f1-score   support\n",
            "\n",
            "    500m-2km       0.53      0.55      0.54       511\n",
            "      < 500m       0.58      0.73      0.64       550\n",
            "       > 2km       0.33      0.01      0.01       173\n",
            "\n",
            "    accuracy                           0.55      1234\n",
            "   macro avg       0.48      0.43      0.40      1234\n",
            "weighted avg       0.52      0.55      0.51      1234\n",
            "\n"
          ]
        }
      ],
      "source": [
        "#Print classification report\n",
        "print(classification_report(y_test, pipe_rf.predict(X_test)))"
      ]
    },
    {
      "cell_type": "code",
      "execution_count": 39,
      "metadata": {
        "id": "-xqOxyQUueSr"
      },
      "outputs": [],
      "source": [
        "#Save model \n",
        "pickle.dump(pipe_rf, open('Models/Location_Accuracy/randomforest_model.pickle', 'wb'))"
      ]
    },
    {
      "cell_type": "markdown",
      "metadata": {
        "id": "uoiBIS7ZoTlb"
      },
      "source": [
        "### Grid Search"
      ]
    },
    {
      "cell_type": "code",
      "execution_count": null,
      "metadata": {
        "colab": {
          "base_uri": "https://localhost:8080/"
        },
        "id": "J6BRIsgKN6Zo",
        "outputId": "ea3258f9-dbb4-4242-8c9e-fd3e983f91fc"
      },
      "outputs": [],
      "source": [
        "#Define grid search params\n",
        "rf_param_grid = [{'RF__n_estimators': [250,300,350],\n",
        "                'RF__min_samples_leaf': [1,2],\n",
        "                'RF__max_depth': [5,6,7,8],\n",
        "                'RF__min_samples_split':[2,3,4]}]\n",
        "\n",
        "#Run grid search\n",
        "rfc_gs = GridSearchCV(estimator = pipe_rf, param_grid = rf_param_grid, scoring = 'accuracy', cv = 3)\n",
        "\n",
        "#Fit training data\n",
        "rfc_gs.fit(X_train, y_train)"
      ]
    },
    {
      "cell_type": "code",
      "execution_count": null,
      "metadata": {
        "colab": {
          "base_uri": "https://localhost:8080/"
        },
        "id": "HY2k-DssN6Zo",
        "outputId": "2cbc4e4b-2e84-4c89-831e-8911d6f7e96f"
      },
      "outputs": [
        {
          "name": "stdout",
          "output_type": "stream",
          "text": [
            "Score: 0.5089141004862237\n",
            "Best Params: {'RF__max_depth': 8, 'RF__min_samples_leaf': 1, 'RF__min_samples_split': 3, 'RF__n_estimators': 350}\n"
          ]
        }
      ],
      "source": [
        "#Check score\n",
        "print(f'Score: {rfc_gs.score(X_test,y_test)}')\n",
        "print(f'Best Params: {rfc_gs.best_params_}')"
      ]
    },
    {
      "cell_type": "markdown",
      "metadata": {
        "id": "9VK0ABg8B0JO"
      },
      "source": [
        "### Analysis"
      ]
    },
    {
      "cell_type": "code",
      "execution_count": 40,
      "metadata": {
        "id": "wgiVqqCHB2tH"
      },
      "outputs": [],
      "source": [
        "#load model\n",
        "rfc_model = pickle.load(open('Models/Location_Accuracy/randomforest_model.pickle', 'rb'))"
      ]
    },
    {
      "cell_type": "code",
      "execution_count": 41,
      "metadata": {
        "colab": {
          "base_uri": "https://localhost:8080/"
        },
        "id": "oSM542AgB2lw",
        "outputId": "119b797e-1552-4ca9-ff6c-148c2224db19"
      },
      "outputs": [
        {
          "name": "stdout",
          "output_type": "stream",
          "text": [
            "Accuracy: 0.5542949756888168\n",
            "F1 Score: 0.5542949756888168\n",
            "Precision Score: 0.5542949756888168\n",
            "Recall Score: 0.5542949756888168\n",
            "ROC AUC Score: 0.7039242819662452\n",
            "              precision    recall  f1-score   support\n",
            "\n",
            "    500m-2km       0.53      0.55      0.54       511\n",
            "      < 500m       0.58      0.73      0.64       550\n",
            "       > 2km       0.33      0.01      0.01       173\n",
            "\n",
            "    accuracy                           0.55      1234\n",
            "   macro avg       0.48      0.43      0.40      1234\n",
            "weighted avg       0.52      0.55      0.51      1234\n",
            "\n"
          ]
        }
      ],
      "source": [
        "#Predict X_test\n",
        "y_prediction = rfc_model.predict(X_test)\n",
        "\n",
        "#Print measure scores\n",
        "print(f\"Accuracy: {accuracy_score(y_test, y_prediction)}\")\n",
        "print(f\"F1 Score: {f1_score(y_test, y_prediction, average='micro')}\")\n",
        "print(f\"Precision Score: {precision_score(y_test, y_prediction, average='micro')}\")\n",
        "print(f\"Recall Score: {recall_score(y_test, y_prediction, average='micro')}\")\n",
        "print(f\"ROC AUC Score: {roc_auc_score(y_test, rfc_model.predict_proba(X_test),multi_class='ovr', average='macro')}\")\n",
        "\n",
        "#print full classification report\n",
        "print(classification_report(y_test, y_prediction))"
      ]
    },
    {
      "cell_type": "code",
      "execution_count": 42,
      "metadata": {
        "colab": {
          "base_uri": "https://localhost:8080/",
          "height": 548
        },
        "id": "XBHsCNJWB2fN",
        "outputId": "25c95761-c8f4-4d66-fcaa-ce2c2e326f20"
      },
      "outputs": [
        {
          "data": {
            "image/png": "[encoded data removed]",
            "text/plain": [
              "<Figure size 648x648 with 2 Axes>"
            ]
          },
          "metadata": {
            "needs_background": "light"
          },
          "output_type": "display_data"
        }
      ],
      "source": [
        "#Create a confusion matrix\n",
        "matrix = confusion_matrix(y_test, y_prediction)\n",
        "\n",
        "#Visualize the matrix with Seaborn\n",
        "\n",
        "#Write title to display accuracy score\n",
        "score = accuracy_score(y_test, y_prediction)\n",
        "all_sample_title = 'RF Accuracy Score: {0}'.format(score)\n",
        "\n",
        "#Set figure shape\n",
        "plt.figure(figsize=(9,9))\n",
        "\n",
        "#Use heatmap\n",
        "p = sns.heatmap(matrix, annot=True, fmt=\".3f\", linewidths=0.5, square=True, cmap=\"mako\")\n",
        "\n",
        "#Label the plot\n",
        "lab = ['500m-2km', '< 500m', '> 2km']\n",
        "p.set_ylabel('Actual Label', size=16)\n",
        "p.set_xlabel('Predicted Label', size = 16)\n",
        "p.set_xticklabels(lab)\n",
        "p.set_yticklabels(lab)\n",
        "p.set_title(all_sample_title, size = 18)\n",
        "\n",
        "\n",
        "#save\n",
        "fig = p.get_figure()\n",
        "fig.savefig('Plots/Location_Accuracy/randomforest_confusion.png')"
      ]
    },
    {
      "cell_type": "code",
      "execution_count": 43,
      "metadata": {
        "id": "psHjWrQxybII"
      },
      "outputs": [
        {
          "data": {
            "image/png": "[encoded data removed]",
            "text/plain": [
              "<Figure size 864x576 with 6 Axes>"
            ]
          },
          "metadata": {
            "needs_background": "light"
          },
          "output_type": "display_data"
        }
      ],
      "source": [
        "# Plots the Probability Distributions and the ROC Curves One vs Rest\n",
        "# reference: https://towardsdatascience.com/multiclass-classification-evaluation-with-roc-curves-and-roc-auc-294fd4617e3a\n",
        "plt.figure(figsize = (12, 8))\n",
        "bins = [i/20 for i in range(20)] + [1]\n",
        "classes = rfc_model.classes_\n",
        "roc_auc_ovr = {}\n",
        "y_proba = rfc_model.predict_proba(X_test)\n",
        "for i in range(len(classes)):\n",
        "    # Gets the class\n",
        "    c = classes[i]\n",
        "    \n",
        "    # Prepares an auxiliar dataframe to help with the plots\n",
        "    df_aux = X_test.copy()\n",
        "    df_aux['class'] = [1 if y == c else 0 for y in y_test]\n",
        "    df_aux['prob'] = y_proba[:, i]\n",
        "    df_aux = df_aux.reset_index(drop = True)\n",
        "\n",
        "    # Plots the probability distribution for the class and the rest\n",
        "    ax = plt.subplot(2, 5, i+1)\n",
        "    sns.histplot(x = \"prob\", data = df_aux, hue = 'class', color = 'b', ax = ax, bins = bins)\n",
        "    ax.set_title(c)\n",
        "    ax.legend([f\"Class: {c}\", \"Rest\"])\n",
        "    ax.set_xlabel(f\"P(x = {c})\")\n",
        "    \n",
        "    # Calculates the ROC Coordinates and plots the ROC Curves\n",
        "    ax_bottom = plt.subplot(2, 5, i+6)\n",
        "    tpr, fpr = get_all_roc_coordinates(df_aux['class'], df_aux['prob'])\n",
        "    plot_roc_curve(tpr, fpr, scatter = False, ax = ax_bottom)\n",
        "    ax_bottom.set_title(\"ROC Curve OvR\")\n",
        "    \n",
        "    # Calculates the ROC AUC OvR\n",
        "    roc_auc_ovr[c] = roc_auc_score(df_aux['class'], df_aux['prob'])\n",
        "plt.tight_layout()"
      ]
    },
    {
      "cell_type": "markdown",
      "metadata": {
        "id": "0c7Z9zHNN6Zo"
      },
      "source": [
        "## Model 5 - XGBoost"
      ]
    },
    {
      "cell_type": "code",
      "execution_count": null,
      "metadata": {
        "id": "2ZG5NrzVN6Zo"
      },
      "outputs": [],
      "source": [
        "#Set up pipeline\n",
        "pipe_xgb = Pipeline([('preprocessing', final_preprocessing),\n",
        "                    ('one_hot', OneHotEncoder(handle_unknown = \"ignore\",sparse= False)),\n",
        "                     ('XGB', XGBClassifier(tree_method = 'gpu_hist', random_state=42))])\n",
        "#tree_method = 'gpu_hist'\n"
      ]
    },
    {
      "cell_type": "code",
      "execution_count": null,
      "metadata": {
        "colab": {
          "base_uri": "https://localhost:8080/"
        },
        "id": "iAwibVSVI7o6",
        "outputId": "0f92b76e-f96b-4389-f623-e84f93533e18"
      },
      "outputs": [],
      "source": [
        "%%time\n",
        "#Fit training data\n",
        "pipe_xgb.fit(X_train, y_train)"
      ]
    },
    {
      "cell_type": "code",
      "execution_count": null,
      "metadata": {
        "colab": {
          "base_uri": "https://localhost:8080/"
        },
        "id": "VHLncYdVcGRD",
        "outputId": "6c7a8381-7d10-4296-aeeb-b6afc6b4a6c5"
      },
      "outputs": [
        {
          "name": "stdout",
          "output_type": "stream",
          "text": [
            "Score: 0.559967585089141\n"
          ]
        }
      ],
      "source": [
        "#Check score\n",
        "print(f'Score: {pipe_xgb.score(X_test,y_test)}')"
      ]
    },
    {
      "cell_type": "code",
      "execution_count": null,
      "metadata": {
        "colab": {
          "base_uri": "https://localhost:8080/"
        },
        "id": "SJvaI9pVcNw5",
        "outputId": "796cc609-6a67-444a-ff83-f110681f0395"
      },
      "outputs": [
        {
          "name": "stdout",
          "output_type": "stream",
          "text": [
            "              precision    recall  f1-score   support\n",
            "\n",
            "    500m-2km       0.55      0.49      0.52       511\n",
            "      < 500m       0.57      0.80      0.66       550\n",
            "       > 2km       0.33      0.01      0.02       173\n",
            "\n",
            "    accuracy                           0.56      1234\n",
            "   macro avg       0.48      0.43      0.40      1234\n",
            "weighted avg       0.53      0.56      0.51      1234\n",
            "\n"
          ]
        }
      ],
      "source": [
        "#Print classification report\n",
        "print(classification_report(y_test, pipe_xgb.predict(X_test)))"
      ]
    },
    {
      "cell_type": "markdown",
      "metadata": {
        "id": "3rS82mY5oixg"
      },
      "source": [
        "### Grid Search"
      ]
    },
    {
      "cell_type": "code",
      "execution_count": null,
      "metadata": {
        "colab": {
          "base_uri": "https://localhost:8080/"
        },
        "id": "NABZ_3PUN6Zp",
        "outputId": "b01bf514-421f-45ad-c186-8e85b8769bbb"
      },
      "outputs": [],
      "source": [
        "xgb_param_grid = [{'XGB__objective': ['multi:softprob'],\n",
        "                    'XGB__learning_rate': [0.03,0.01],\n",
        "                   'XGB__max_depth': [6,7,8,9],\n",
        "                    'XGB__n_estimators': [100,200,250,300,350]}]\n",
        "\n",
        "#Run grid search\n",
        "xgb_gs = GridSearchCV(estimator = pipe_xgb, param_grid = xgb_param_grid, scoring = 'accuracy', cv = 3)\n",
        "\n",
        "#Fit training data\n",
        "xgb_gs.fit(X_train, y_train)\n",
        "\n",
        "#use before saving (pickle/json) if used GPU\n",
        "# xgb_gs.set_params(tree_method = 'hist')"
      ]
    },
    {
      "cell_type": "code",
      "execution_count": null,
      "metadata": {
        "colab": {
          "base_uri": "https://localhost:8080/"
        },
        "id": "G6njffVMock7",
        "outputId": "8f2a98f8-063b-4d08-c856-14213b68ac13"
      },
      "outputs": [
        {
          "name": "stdout",
          "output_type": "stream",
          "text": [
            "Score:  0.5401123475164994\n",
            "Estimator:  Pipeline(steps=[('preprocessing',\n",
            "                 Pipeline(steps=[('fix_nulls',\n",
            "                                  <__main__.objectTransformer object at 0x7fd448706e10>),\n",
            "                                 ('grammar',\n",
            "                                  <__main__.objectTransformer object at 0x7fd448706790>),\n",
            "                                 ('fill_na',\n",
            "                                  <__main__.objectTransformer object at 0x7fd448706090>),\n",
            "                                 ('num_animal',\n",
            "                                  <__main__.objectTransformer object at 0x7fd448706b90>),\n",
            "                                 ('spcategory',\n",
            "                                  <__main__.objectTransformer obj...\n",
            "                                  <__main__.objectTransformer object at 0x7fd448706390>),\n",
            "                                 ('seacategory',\n",
            "                                  <__main__.objectTransformer object at 0x7fd448706a90>),\n",
            "                                 ('windcategory',\n",
            "                                  <__main__.objectTransformer object at 0x7fd448706d50>)])),\n",
            "                ('one_hot',\n",
            "                 OneHotEncoder(handle_unknown='ignore', sparse=False)),\n",
            "                ('XGB',\n",
            "                 XGBClassifier(learning_rate=0.01, max_depth=9,\n",
            "                               n_estimators=250, objective='multi:softprob',\n",
            "                               random_state=42, tree_method='gpu_hist'))])\n"
          ]
        }
      ],
      "source": [
        "# Compute metrics\n",
        "print('Score: ', xgb_gs.best_score_)\n",
        "print('Estimator: ', xgb_gs.best_estimator_)"
      ]
    },
    {
      "cell_type": "code",
      "execution_count": null,
      "metadata": {
        "colab": {
          "base_uri": "https://localhost:8080/"
        },
        "id": "WEH968mVN6Zp",
        "outputId": "16bd8269-ace1-4907-bf40-46b62c8a90c6"
      },
      "outputs": [
        {
          "name": "stdout",
          "output_type": "stream",
          "text": [
            "              precision    recall  f1-score   support\n",
            "\n",
            "    500m-2km       0.56      0.51      0.53       511\n",
            "      < 500m       0.58      0.76      0.66       550\n",
            "       > 2km       0.43      0.09      0.15       173\n",
            "\n",
            "    accuracy                           0.56      1234\n",
            "   macro avg       0.52      0.46      0.45      1234\n",
            "weighted avg       0.55      0.56      0.54      1234\n",
            "\n"
          ]
        }
      ],
      "source": [
        "#Print classification report\n",
        "print(classification_report(y_test, xgb_gs.predict(X_test)))"
      ]
    },
    {
      "cell_type": "markdown",
      "metadata": {
        "id": "E_K33ZxP4cas"
      },
      "source": [
        "The grid search resulted in a lower accuracy, but overall the precision, recall and f1-score increased. Had to also rerun xgboost on own computer, (pickle file was not loading)"
      ]
    },
    {
      "cell_type": "code",
      "execution_count": null,
      "metadata": {
        "colab": {
          "base_uri": "https://localhost:8080/"
        },
        "id": "NHJMFcsQ409w",
        "outputId": "fc5493b2-bcc3-4c1a-a604-8d0093129068"
      },
      "outputs": [],
      "source": [
        "#Set up pipeline\n",
        "final_xgb = Pipeline([('preprocessing', final_preprocessing),\n",
        "                    ('one_hot', OneHotEncoder(handle_unknown = \"ignore\",sparse= False)),\n",
        "                     ('XGB', XGBClassifier(learning_rate = 0.01, max_depth = 9,\n",
        "                                           n_estimators = 250, objective='multi:softprob',\n",
        "                                           random_state=42))])\n",
        "\n",
        "#Fit training data\n",
        "final_xgb.fit(X_train, y_train)"
      ]
    },
    {
      "cell_type": "code",
      "execution_count": 45,
      "metadata": {
        "colab": {
          "base_uri": "https://localhost:8080/"
        },
        "id": "ln1uVrhO6PA-",
        "outputId": "0b87068e-4321-4db1-9e12-2cd15e1e43c5"
      },
      "outputs": [
        {
          "name": "stdout",
          "output_type": "stream",
          "text": [
            "Accuracy: 0.5640194489465153\n",
            "              precision    recall  f1-score   support\n",
            "\n",
            "    500m-2km       0.56      0.52      0.54       511\n",
            "      < 500m       0.58      0.75      0.65       550\n",
            "       > 2km       0.40      0.09      0.15       173\n",
            "\n",
            "    accuracy                           0.56      1234\n",
            "   macro avg       0.51      0.46      0.45      1234\n",
            "weighted avg       0.54      0.56      0.54      1234\n",
            "\n"
          ]
        }
      ],
      "source": [
        "#find y_prediction\n",
        "y_pred = final_xgb.predict(X_test)\n",
        "\n",
        "#Check scores\n",
        "print(f'Accuracy: {accuracy_score(y_test,y_pred)}')\n",
        "\n",
        "#Print classification report\n",
        "print(classification_report(y_test, y_pred))"
      ]
    },
    {
      "cell_type": "code",
      "execution_count": 46,
      "metadata": {
        "id": "dAT1PogTN6Zp"
      },
      "outputs": [],
      "source": [
        "#Save model \n",
        "pickle.dump(final_xgb, open('Models/Location_Accuracy/xgboost_model.pickle', 'wb'))"
      ]
    },
    {
      "cell_type": "markdown",
      "metadata": {
        "id": "kThjdtI8B7WD"
      },
      "source": [
        "### Analysis"
      ]
    },
    {
      "cell_type": "code",
      "execution_count": 47,
      "metadata": {
        "id": "Aaqushe1B9a0"
      },
      "outputs": [],
      "source": [
        "#load model\n",
        "xgb_model = pickle.load(open('Models/Location_Accuracy/xgboost_model.pickle', 'rb'))"
      ]
    },
    {
      "cell_type": "code",
      "execution_count": 48,
      "metadata": {
        "colab": {
          "base_uri": "https://localhost:8080/"
        },
        "id": "E4HOn-86B9R8",
        "outputId": "3eaa4547-4fa3-4c56-f0c2-ea05a45fd175"
      },
      "outputs": [
        {
          "name": "stdout",
          "output_type": "stream",
          "text": [
            "Accuracy: 0.5640194489465153\n",
            "F1 Score: 0.5640194489465153\n",
            "Precision Score: 0.5640194489465153\n",
            "Recall Score: 0.5640194489465153\n",
            "ROC AUC Score: 0.7060565985901116\n",
            "              precision    recall  f1-score   support\n",
            "\n",
            "    500m-2km       0.56      0.52      0.54       511\n",
            "      < 500m       0.58      0.75      0.65       550\n",
            "       > 2km       0.40      0.09      0.15       173\n",
            "\n",
            "    accuracy                           0.56      1234\n",
            "   macro avg       0.51      0.46      0.45      1234\n",
            "weighted avg       0.54      0.56      0.54      1234\n",
            "\n"
          ]
        }
      ],
      "source": [
        "#Predict X_test\n",
        "y_prediction = xgb_model.predict(X_test)\n",
        "\n",
        "#Print measure scores\n",
        "print(f\"Accuracy: {accuracy_score(y_test, y_prediction)}\")\n",
        "print(f\"F1 Score: {f1_score(y_test, y_prediction, average='micro')}\")\n",
        "print(f\"Precision Score: {precision_score(y_test, y_prediction, average='micro')}\")\n",
        "print(f\"Recall Score: {recall_score(y_test, y_prediction, average='micro')}\")\n",
        "print(f\"ROC AUC Score: {roc_auc_score(y_test, xgb_model.predict_proba(X_test),multi_class='ovr', average='macro')}\")\n",
        "\n",
        "#print full classification report\n",
        "print(classification_report(y_test, y_prediction))"
      ]
    },
    {
      "cell_type": "code",
      "execution_count": 226,
      "metadata": {
        "colab": {
          "base_uri": "https://localhost:8080/",
          "height": 540
        },
        "id": "rn8quqBYB9J0",
        "outputId": "d5a1b958-5bd5-4f12-d3a6-a6258ad77b62"
      },
      "outputs": [
        {
          "data": {
            "image/png": "[encoded data removed]",
            "text/plain": [
              "<Figure size 648x648 with 2 Axes>"
            ]
          },
          "metadata": {},
          "output_type": "display_data"
        }
      ],
      "source": [
        "#Create a confusion matrix\n",
        "matrix = confusion_matrix(y_test, y_prediction)\n",
        "\n",
        "#Visualize the matrix with Seaborn\n",
        "\n",
        "#Write title to display accuracy score\n",
        "score = accuracy_score(y_test, y_prediction)\n",
        "all_sample_title = 'XGBoost Accuracy Score: {0}'.format(round(score,3))\n",
        "\n",
        "#Set figure shape\n",
        "plt.figure(figsize=(9,9))\n",
        "\n",
        "#Use heatmap\n",
        "p = sns.heatmap(matrix, annot=True, fmt=\".3f\", linewidths=0.5, square=True, cmap=\"mako\")\n",
        "\n",
        "#Label the plot\n",
        "lab = ['500m-2km', '< 500m', '> 2km']\n",
        "p.set_ylabel('Actual Label', size=18, weight ='bold')\n",
        "p.set_xlabel('Predicted Label', size = 18, weight ='bold')\n",
        "p.set_xticklabels(lab)\n",
        "p.tick_params(labelsize=16)\n",
        "p.set_title(all_sample_title, size = 22)\n",
        "\n",
        "\n",
        "#save\n",
        "fig = p.get_figure()\n",
        "fig.savefig('Plots/Location_Accuracy/xgb_confusion.png')"
      ]
    },
    {
      "cell_type": "code",
      "execution_count": 50,
      "metadata": {
        "colab": {
          "base_uri": "https://localhost:8080/",
          "height": 605
        },
        "id": "m_xSVT1sB9CJ",
        "outputId": "4d1b6ca8-47f9-45b9-a64c-62c7bba49a0b"
      },
      "outputs": [
        {
          "data": {
            "image/png": "[encoded data removed]",
            "text/plain": [
              "<Figure size 864x576 with 6 Axes>"
            ]
          },
          "metadata": {
            "needs_background": "light"
          },
          "output_type": "display_data"
        }
      ],
      "source": [
        "# Plots the Probability Distributions and the ROC Curves One vs Rest\n",
        "# reference: https://towardsdatascience.com/multiclass-classification-evaluation-with-roc-curves-and-roc-auc-294fd4617e3a\n",
        "plt.figure(figsize = (12, 8))\n",
        "bins = [i/20 for i in range(20)] + [1]\n",
        "classes = xgb_model.classes_\n",
        "roc_auc_ovr = {}\n",
        "y_proba = xgb_model.predict_proba(X_test)\n",
        "for i in range(len(classes)):\n",
        "    # Gets the class\n",
        "    c = classes[i]\n",
        "    \n",
        "    # Prepares an auxiliar dataframe to help with the plots\n",
        "    df_aux = X_test.copy()\n",
        "    df_aux['class'] = [1 if y == c else 0 for y in y_test]\n",
        "    df_aux['prob'] = y_proba[:, i]\n",
        "    df_aux = df_aux.reset_index(drop = True)\n",
        "\n",
        "    # Plots the probability distribution for the class and the rest\n",
        "    ax = plt.subplot(2, 5, i+1)\n",
        "    sns.histplot(x = \"prob\", data = df_aux, hue = 'class', color = 'b', ax = ax, bins = bins)\n",
        "    ax.set_title(c)\n",
        "    ax.legend([f\"Class: {c}\", \"Rest\"])\n",
        "    ax.set_xlabel(f\"P(x = {c})\")\n",
        "    \n",
        "    # Calculates the ROC Coordinates and plots the ROC Curves\n",
        "    ax_bottom = plt.subplot(2, 5, i+6)\n",
        "    tpr, fpr = get_all_roc_coordinates(df_aux['class'], df_aux['prob'])\n",
        "    plot_roc_curve(tpr, fpr, scatter = False, ax = ax_bottom)\n",
        "    ax_bottom.set_title(\"ROC Curve OvR\")\n",
        "    \n",
        "    # Calculates the ROC AUC OvR\n",
        "    roc_auc_ovr[c] = roc_auc_score(df_aux['class'], df_aux['prob'])\n",
        "plt.tight_layout()"
      ]
    },
    {
      "cell_type": "markdown",
      "metadata": {
        "id": "BPMt2X8KkINx"
      },
      "source": [
        "# XGBoost with Sighting Distance\n",
        "\n",
        "XGBoost is able to handle missing values. So I will try including the Sighting Distance with NaN values"
      ]
    },
    {
      "cell_type": "markdown",
      "metadata": {
        "id": "6iiNxjgnk3Sp"
      },
      "source": [
        "## Prep Data\n",
        "\n",
        "Apply the same code to this model"
      ]
    },
    {
      "cell_type": "code",
      "execution_count": 4,
      "metadata": {
        "colab": {
          "base_uri": "https://localhost:8080/"
        },
        "id": "MEa5pf8gN6Zp",
        "outputId": "bc652e02-89e0-4aa8-bc10-89b50b10ff00"
      },
      "outputs": [
        {
          "name": "stdout",
          "output_type": "stream",
          "text": [
            "(20791, 16)\n"
          ]
        }
      ],
      "source": [
        "# Import Dataset\n",
        "keep_col2 = ['Date', 'Time', 'SpeciesName', 'LatitudeDD', 'LongitudeDD', 'LocationDescription', \n",
        "             'SeaState', 'WindSpeed', 'AnimalCountMeasure', 'Behaviour', 'Direction of Travel', \n",
        "             'SightingPlatform','Experience','Number of Animals Min', 'Location Accuracy', \n",
        "             'SightingDistance']\n",
        "\n",
        "# Import Dataset \n",
        "data2 = pd.read_excel('OceanWise Info/BCCSN_Sightings_Master.xlsx', parse_dates= ['Time'], usecols=keep_col2)\n",
        "\n",
        "#Check shape\n",
        "print(data2.shape)"
      ]
    },
    {
      "cell_type": "code",
      "execution_count": 5,
      "metadata": {
        "colab": {
          "base_uri": "https://localhost:8080/"
        },
        "id": "MEwLjST8kWcW",
        "outputId": "2ad7ebd9-73ef-425b-fd4b-bebcb1ebfa4c"
      },
      "outputs": [
        {
          "data": {
            "text/plain": [
              "36.65047376268578"
            ]
          },
          "execution_count": 5,
          "metadata": {},
          "output_type": "execute_result"
        }
      ],
      "source": [
        "#Check percentage of null in Location Accuracy\n",
        "data2['Location Accuracy'].isnull().sum()/len(data2['Location Accuracy']) * 100"
      ]
    },
    {
      "cell_type": "code",
      "execution_count": 6,
      "metadata": {
        "id": "Ewaacfc3ktVb"
      },
      "outputs": [],
      "source": [
        "#Drop rows with null location accuracy\n",
        "data2 = data2.dropna(subset=['Location Accuracy'])\n"
      ]
    },
    {
      "cell_type": "code",
      "execution_count": 7,
      "metadata": {
        "id": "X5zQrXl2kzdZ"
      },
      "outputs": [],
      "source": [
        "#Replace blank strings with NaN\n",
        "missing_values = ['-', '___']\n",
        "data2.LocationDescription = data2['LocationDescription'].replace(missing_values, np.NaN)"
      ]
    },
    {
      "cell_type": "code",
      "execution_count": 8,
      "metadata": {
        "colab": {
          "base_uri": "https://localhost:8080/"
        },
        "id": "kD96dZNCk2QP",
        "outputId": "80a88a24-d829-411e-a35b-e65a88b344c2"
      },
      "outputs": [
        {
          "data": {
            "text/plain": [
              "61.01283122010478"
            ]
          },
          "execution_count": 8,
          "metadata": {},
          "output_type": "execute_result"
        }
      ],
      "source": [
        "#Check percentage of null in location description\n",
        "data2['LocationDescription'].isnull().sum()/len(data2.LocationDescription) * 100"
      ]
    },
    {
      "cell_type": "code",
      "execution_count": 9,
      "metadata": {
        "id": "_t7DtgVSk2Hz"
      },
      "outputs": [],
      "source": [
        "#Fix Location Accuracy\n",
        "data2['Location Accuracy'] = data2['Location Accuracy'].str.replace('w', 'W', regex = True)\n",
        "data2['Location Accuracy'] = data2['Location Accuracy'].str.replace('WI', 'Wi', regex = True)\n",
        "data2['Location Accuracy'] = data2['Location Accuracy'].str.replace('m ', 'm', regex = True)"
      ]
    },
    {
      "cell_type": "code",
      "execution_count": null,
      "metadata": {
        "colab": {
          "base_uri": "https://localhost:8080/"
        },
        "id": "jg1yQS1ck2Ac",
        "outputId": "96b3641e-46c7-4aaf-fac4-1683caeee1ec"
      },
      "outputs": [],
      "source": [
        "#Check updated location accuracy values\n",
        "data2['Location Accuracy'].value_counts()"
      ]
    },
    {
      "cell_type": "code",
      "execution_count": 11,
      "metadata": {
        "colab": {
          "base_uri": "https://localhost:8080/"
        },
        "id": "XCnEU-jhk15F",
        "outputId": "ce35223a-ad7c-4431-ef8a-b2647928f8cf"
      },
      "outputs": [
        {
          "data": {
            "text/plain": [
              "(6171, 15)"
            ]
          },
          "execution_count": 11,
          "metadata": {},
          "output_type": "execute_result"
        }
      ],
      "source": [
        "#Apply limitation\n",
        "#Code removed here\n",
        "\n",
        "#First dropping Location Description and SightingDistance as too many missing values\n",
        "data2 = data2.drop(['LocationDescription'], axis = 1)\n",
        "\n",
        "#print new shape\n",
        "data2.shape"
      ]
    },
    {
      "cell_type": "code",
      "execution_count": 12,
      "metadata": {
        "id": "uKloBVJ3k1yI"
      },
      "outputs": [],
      "source": [
        "#Apply location_accuracy function\n",
        "data2 = location_accuracy(data2)"
      ]
    },
    {
      "cell_type": "code",
      "execution_count": 13,
      "metadata": {
        "colab": {
          "base_uri": "https://localhost:8080/"
        },
        "id": "-6EPbjhUliVY",
        "outputId": "bce6ac4e-9006-436d-a365-0de11ca39191"
      },
      "outputs": [
        {
          "data": {
            "text/plain": [
              "< 500m      2748\n",
              "500m-2km    2558\n",
              "> 2km        865\n",
              "Name: Location Accuracy, dtype: int64"
            ]
          },
          "execution_count": 13,
          "metadata": {},
          "output_type": "execute_result"
        }
      ],
      "source": [
        "#Check new values\n",
        "data2['Location Accuracy'].value_counts()"
      ]
    },
    {
      "cell_type": "code",
      "execution_count": 14,
      "metadata": {
        "colab": {
          "base_uri": "https://localhost:8080/"
        },
        "id": "yt2YvmUFliLO",
        "outputId": "a503655e-0b69-49c6-eafe-aaf6b7f7e3ea"
      },
      "outputs": [
        {
          "data": {
            "text/plain": [
              "(6170, 15)"
            ]
          },
          "execution_count": 14,
          "metadata": {},
          "output_type": "execute_result"
        }
      ],
      "source": [
        "#Remove Outlier found in EDA\n",
        "data2 = data2.drop(data2[(data2['LongitudeDD'] < -140) & (data2['LatitudeDD'] > 50)].index)\n",
        "\n",
        "#print final shape\n",
        "data2.shape"
      ]
    },
    {
      "cell_type": "code",
      "execution_count": null,
      "metadata": {
        "colab": {
          "base_uri": "https://localhost:8080/"
        },
        "id": "EtAS5BKLliDe",
        "outputId": "924ad0c1-3569-4e6a-cd40-e2f3e9ec31dd"
      },
      "outputs": [],
      "source": [
        "#check Sighting Distance values\n",
        "data2.SightingDistance.value_counts()"
      ]
    },
    {
      "cell_type": "code",
      "execution_count": 16,
      "metadata": {
        "id": "KZSrlaTmlh8H"
      },
      "outputs": [],
      "source": [
        "#Clean Sighting Distance\n",
        "data2.loc[data2['SightingDistance'].str.contains('< 10m', na=False), 'SightingDistance'] = '10-25m'\n",
        "data2.loc[data2['SightingDistance'].str.contains('10-25m', na=False), 'SightingDistance'] = '10-25m'\n",
        "data2.loc[data2['SightingDistance'].str.contains('25-100m', na=False), 'SightingDistance'] = '25-100m'\n",
        "data2.loc[data2['SightingDistance'].str.contains('100m', na=False), 'SightingDistance'] = '100-300m'\n",
        "data2.loc[data2['SightingDistance'].str.contains('100-300m', na=False), 'SightingDistance'] = '100-300m'\n",
        "data2.loc[data2['SightingDistance'].str.contains('300-1000m', na=False), 'SightingDistance'] = '300-1000m'\n",
        "data2.loc[data2['SightingDistance'].str.contains('> 1km', na=False), 'SightingDistance'] = '> 1km'\n",
        "data2.loc[data2['SightingDistance'].str.contains('>1km', na=False), 'SightingDistance'] = '> 1km'"
      ]
    },
    {
      "cell_type": "code",
      "execution_count": 17,
      "metadata": {
        "id": "WGjh5mTn1WzI"
      },
      "outputs": [],
      "source": [
        "#Replace blank strings with NaN\n",
        "missing_values = ['-', '___', None]\n",
        "data2.SightingDistance = data2['SightingDistance'].replace(missing_values, 'NULL')"
      ]
    },
    {
      "cell_type": "code",
      "execution_count": 18,
      "metadata": {
        "colab": {
          "base_uri": "https://localhost:8080/"
        },
        "id": "u0EJQbYa1EKf",
        "outputId": "c7944b41-3859-4bcc-b9c9-9b52214d82e6"
      },
      "outputs": [
        {
          "data": {
            "text/plain": [
              "NULL         2785\n",
              "100-300m     1737\n",
              "300-1000m     873\n",
              "> 1km         568\n",
              "10-25m        207\n",
              "Name: SightingDistance, dtype: int64"
            ]
          },
          "execution_count": 18,
          "metadata": {},
          "output_type": "execute_result"
        }
      ],
      "source": [
        "#check Sighting Distance values\n",
        "data2.SightingDistance.value_counts()"
      ]
    },
    {
      "cell_type": "markdown",
      "metadata": {
        "id": "ph0eEVOcl_mo"
      },
      "source": [
        "## Set-Up"
      ]
    },
    {
      "cell_type": "code",
      "execution_count": 21,
      "metadata": {
        "id": "cJZYTgfCmMPs"
      },
      "outputs": [],
      "source": [
        "#set variables and target\n",
        "y2 = data2['Location Accuracy']\n",
        "X2 = data2.drop('Location Accuracy', axis = 1)"
      ]
    },
    {
      "cell_type": "code",
      "execution_count": 22,
      "metadata": {
        "id": "d-oncdtZmMIc"
      },
      "outputs": [],
      "source": [
        "#Split data into training and test sets\n",
        "X_train2, X_test2, y_train2, y_test2 = train_test_split(X2, y2, test_size=0.20, stratify = y2, random_state = 42)"
      ]
    },
    {
      "cell_type": "markdown",
      "metadata": {},
      "source": [
        "## Build Model"
      ]
    },
    {
      "cell_type": "code",
      "execution_count": null,
      "metadata": {
        "id": "516HEbAEmMCH"
      },
      "outputs": [],
      "source": [
        "#Set up pipeline\n",
        "#if want to use GPU: tree_method = 'gpu_hist'\n",
        "pipe_xgb2 = Pipeline([('preprocessing', final_preprocessing),\n",
        "                    ('one_hot', OneHotEncoder(handle_unknown = \"ignore\",sparse= False)),\n",
        "                     ('XGB', XGBClassifier(random_state=42))])\n"
      ]
    },
    {
      "cell_type": "code",
      "execution_count": null,
      "metadata": {
        "colab": {
          "base_uri": "https://localhost:8080/"
        },
        "id": "smtHiQy4mL7U",
        "outputId": "04182155-45ec-4b2f-f285-ed71e4ba45f1"
      },
      "outputs": [],
      "source": [
        "%%time\n",
        "#Fit training data\n",
        "pipe_xgb2.fit(X_train2, y_train2)"
      ]
    },
    {
      "cell_type": "code",
      "execution_count": null,
      "metadata": {
        "colab": {
          "base_uri": "https://localhost:8080/"
        },
        "id": "fjuDkFPCmL1Q",
        "outputId": "065f51f0-ab7d-4b8f-83bf-cf94cf046471"
      },
      "outputs": [
        {
          "name": "stdout",
          "output_type": "stream",
          "text": [
            "Score: 0.5623987034035657\n",
            "              precision    recall  f1-score   support\n",
            "\n",
            "    500m-2km       0.52      0.59      0.55       511\n",
            "      < 500m       0.60      0.70      0.64       550\n",
            "       > 2km       0.69      0.05      0.10       173\n",
            "\n",
            "    accuracy                           0.56      1234\n",
            "   macro avg       0.60      0.45      0.43      1234\n",
            "weighted avg       0.58      0.56      0.53      1234\n",
            "\n"
          ]
        }
      ],
      "source": [
        "#Check score\n",
        "print(f'Score: {pipe_xgb2.score(X_test2,y_test2)}')\n",
        "\n",
        "#Print classification report\n",
        "print(classification_report(y_test2, pipe_xgb2.predict(X_test2)))"
      ]
    },
    {
      "cell_type": "markdown",
      "metadata": {
        "id": "9Zvw4NT0pOLF"
      },
      "source": [
        "#### Grid Search"
      ]
    },
    {
      "cell_type": "code",
      "execution_count": null,
      "metadata": {
        "colab": {
          "base_uri": "https://localhost:8080/"
        },
        "id": "9BzbdySZmLoo",
        "outputId": "886edacb-1f16-422e-e46b-d4126117c7fc"
      },
      "outputs": [],
      "source": [
        "#define grid search params\n",
        "xgb_param_grid = [{'XGB__objective': ['multi:softprob'],\n",
        "                    'XGB__learning_rate': [0.03,0.01,0.1],\n",
        "                    'XGB__max_depth': [6,7,8,9],\n",
        "                    'XGB__n_estimators': [100,200,300]}]\n",
        "\n",
        "#Run grid search\n",
        "xgb_gs2 = GridSearchCV(estimator = pipe_xgb2, param_grid = xgb_param_grid, scoring = 'accuracy', cv = 3)\n",
        "\n",
        "#Fit training data\n",
        "xgb_gs2.fit(X_train2, y_train2)"
      ]
    },
    {
      "cell_type": "code",
      "execution_count": null,
      "metadata": {
        "colab": {
          "base_uri": "https://localhost:8080/"
        },
        "id": "WB5R9PIZF5j9",
        "outputId": "122fcf85-eb61-42a1-bdfc-d3e7b8d824d8"
      },
      "outputs": [
        {
          "name": "stdout",
          "output_type": "stream",
          "text": [
            "Score:  0.5688775466237269\n",
            "Estimator:  Pipeline(steps=[('preprocessing',\n",
            "                 Pipeline(steps=[('fix_nulls',\n",
            "                                  <__main__.objectTransformer object at 0x7f16db0d27d0>),\n",
            "                                 ('grammar',\n",
            "                                  <__main__.objectTransformer object at 0x7f16d613eb10>),\n",
            "                                 ('fill_na',\n",
            "                                  <__main__.objectTransformer object at 0x7f16db9f9b10>),\n",
            "                                 ('num_animal',\n",
            "                                  <__main__.objectTransformer object at 0x7f16db9f9550>),\n",
            "                                 ('spcategory',\n",
            "                                  <__main__.objectTransformer obj...\n",
            "                                  <__main__.objectTransformer object at 0x7f16db9f9210>),\n",
            "                                 ('seacategory',\n",
            "                                  <__main__.objectTransformer object at 0x7f16db9f9d10>),\n",
            "                                 ('windcategory',\n",
            "                                  <__main__.objectTransformer object at 0x7f16db9f9690>)])),\n",
            "                ('one_hot',\n",
            "                 OneHotEncoder(handle_unknown='ignore', sparse=False)),\n",
            "                ('XGB',\n",
            "                 XGBClassifier(learning_rate=0.03, max_depth=6,\n",
            "                               n_estimators=300, objective='multi:softprob',\n",
            "                               random_state=42))])\n",
            "              precision    recall  f1-score   support\n",
            "\n",
            "    500m-2km       0.56      0.63      0.59       511\n",
            "      < 500m       0.62      0.69      0.66       550\n",
            "       > 2km       0.49      0.14      0.22       173\n",
            "\n",
            "    accuracy                           0.59      1234\n",
            "   macro avg       0.56      0.49      0.49      1234\n",
            "weighted avg       0.58      0.59      0.57      1234\n",
            "\n"
          ]
        }
      ],
      "source": [
        "# Compute metrics\n",
        "print('Score: ', xgb_gs2.best_score_)\n",
        "print('Estimator: ', xgb_gs2.best_estimator_)\n",
        "\n",
        "#Print classification report\n",
        "print(classification_report(y_test2, xgb_gs2.predict(X_test2)))"
      ]
    },
    {
      "cell_type": "markdown",
      "metadata": {
        "id": "jkoJ6CmyF4R-"
      },
      "source": [
        "## Final Model"
      ]
    },
    {
      "cell_type": "code",
      "execution_count": null,
      "metadata": {
        "colab": {
          "base_uri": "https://localhost:8080/"
        },
        "id": "PYjoweacF5Xb",
        "outputId": "2a9c9568-54da-466e-81a9-894b66ddb621"
      },
      "outputs": [],
      "source": [
        "#Build Final\n",
        "final_xgb2 = Pipeline([('preprocessing', final_preprocessing),\n",
        "                    ('one_hot', OneHotEncoder(handle_unknown = \"ignore\",sparse= False)),\n",
        "                     ('XGB', XGBClassifier(learning_rate=0.03, max_depth=6,\n",
        "                               n_estimators=300, objective='multi:softprob',\n",
        "                               random_state=42))])\n",
        "\n",
        "#define grid search params for just n_estimators\n",
        "xgb_param_grid2 = [{'XGB__n_estimators': [250,300,350,400]}]\n",
        "\n",
        "#Run grid search\n",
        "xgb_gs2 = GridSearchCV(estimator = final_xgb2, param_grid = xgb_param_grid2, \n",
        "                       scoring = 'accuracy', cv = 3)\n",
        "\n",
        "#Fit training data\n",
        "xgb_gs2.fit(X_train2, y_train2)"
      ]
    },
    {
      "cell_type": "code",
      "execution_count": null,
      "metadata": {
        "colab": {
          "base_uri": "https://localhost:8080/"
        },
        "id": "G5ShtZr5kisU",
        "outputId": "a4e99330-ddb8-46f7-ab32-7424aa0af26b"
      },
      "outputs": [],
      "source": [
        "# Compute metrics\n",
        "print('Score: ', xgb_gs2.best_score_)\n",
        "print('Estimator: ', xgb_gs2.best_estimator_)\n",
        "\n",
        "#Print classification report\n",
        "print(classification_report(y_test2, xgb_gs2.predict(X_test2)))"
      ]
    },
    {
      "cell_type": "code",
      "execution_count": 25,
      "metadata": {},
      "outputs": [
        {
          "name": "stdout",
          "output_type": "stream",
          "text": [
            "[21:30:56] WARNING: ../src/learner.cc:1095: Starting in XGBoost 1.3.0, the default evaluation metric used with the objective 'multi:softprob' was changed from 'merror' to 'mlogloss'. Explicitly set eval_metric if you'd like to restore the old behavior.\n"
          ]
        },
        {
          "data": {
            "text/plain": [
              "Pipeline(steps=[('preprocessing',\n",
              "                 Pipeline(steps=[('fix_nulls',\n",
              "                                  <__main__.objectTransformer object at 0x11eed6460>),\n",
              "                                 ('grammar',\n",
              "                                  <__main__.objectTransformer object at 0x11eed6400>),\n",
              "                                 ('fill_na',\n",
              "                                  <__main__.objectTransformer object at 0x11eed6c40>),\n",
              "                                 ('num_animal',\n",
              "                                  <__main__.objectTransformer object at 0x11eed6490>),\n",
              "                                 ('spcategory',\n",
              "                                  <__main__.objectTransformer object at 0x11eed...\n",
              "                               importance_type='gain',\n",
              "                               interaction_constraints='', learning_rate=0.03,\n",
              "                               max_delta_step=0, max_depth=6,\n",
              "                               min_child_weight=1, missing=nan,\n",
              "                               monotone_constraints='()', n_estimators=250,\n",
              "                               n_jobs=8, num_parallel_tree=1,\n",
              "                               objective='multi:softprob', random_state=42,\n",
              "                               reg_alpha=0, reg_lambda=1, scale_pos_weight=None,\n",
              "                               subsample=1, tree_method='exact',\n",
              "                               validate_parameters=1, verbosity=None))])"
            ]
          },
          "execution_count": 25,
          "metadata": {},
          "output_type": "execute_result"
        }
      ],
      "source": [
        "#Had to rerun final model on own computer due to corrupt pickle file\n",
        "\n",
        "#Build Final\n",
        "final_xgb2 = Pipeline([('preprocessing', final_preprocessing),\n",
        "                    ('one_hot', OneHotEncoder(handle_unknown = \"ignore\",sparse= False)),\n",
        "                     ('XGB', XGBClassifier(learning_rate=0.03, max_depth=6,\n",
        "                               n_estimators=250, objective='multi:softprob',\n",
        "                              random_state=42))])\n",
        "\n",
        "#Fit training data\n",
        "final_xgb2.fit(X_train2, y_train2)"
      ]
    },
    {
      "cell_type": "code",
      "execution_count": 26,
      "metadata": {},
      "outputs": [
        {
          "name": "stdout",
          "output_type": "stream",
          "text": [
            "Score: 0.5834683954619124\n",
            "Accuracy: 0.5834683954619124\n",
            "              precision    recall  f1-score   support\n",
            "\n",
            "    500m-2km       0.56      0.62      0.59       511\n",
            "      < 500m       0.62      0.69      0.65       550\n",
            "       > 2km       0.48      0.12      0.19       173\n",
            "\n",
            "    accuracy                           0.58      1234\n",
            "   macro avg       0.55      0.48      0.48      1234\n",
            "weighted avg       0.57      0.58      0.56      1234\n",
            "\n"
          ]
        }
      ],
      "source": [
        "#Check score\n",
        "print(f'Score: {final_xgb2.score(X_test2,y_test2)}')\n",
        "print(f\"Accuracy: {accuracy_score(y_test2, final_xgb2.predict(X_test2))}\")\n",
        "\n",
        "#Print classification report\n",
        "print(classification_report(y_test2, final_xgb2.predict(X_test2)))"
      ]
    },
    {
      "cell_type": "code",
      "execution_count": 27,
      "metadata": {
        "id": "3w9zYa1NSDM8"
      },
      "outputs": [
        {
          "data": {
            "text/plain": [
              "['Models/Location_Accuracy/xgb_sightdis_model_gs.joblib']"
            ]
          },
          "execution_count": 27,
          "metadata": {},
          "output_type": "execute_result"
        }
      ],
      "source": [
        "#Save model \n",
        "joblib.dump(final_xgb2, 'Models/Location_Accuracy/xgb_sightdis_model_gs.joblib')"
      ]
    },
    {
      "cell_type": "markdown",
      "metadata": {
        "id": "-iKR2pHQCAed"
      },
      "source": [
        "## Analysis"
      ]
    },
    {
      "cell_type": "code",
      "execution_count": 27,
      "metadata": {
        "id": "ON6SV20WCEQL"
      },
      "outputs": [],
      "source": [
        "#load model\n",
        "# xgb_sd_model = pickle.load(open('Models/Location_Accuracy/xgb_sightdis_model_gs.pickle', 'rb'))\n",
        "xgb_sd_model = joblib.load('Models/Location_Accuracy/xgb_sightdis_model_gs.joblib')"
      ]
    },
    {
      "cell_type": "code",
      "execution_count": 28,
      "metadata": {
        "colab": {
          "base_uri": "https://localhost:8080/"
        },
        "id": "l_i5o-7oCEB1",
        "outputId": "6f795eba-4c07-442b-d2ce-be5c7d4b5644"
      },
      "outputs": [
        {
          "name": "stdout",
          "output_type": "stream",
          "text": [
            "Accuracy: 0.5834683954619124\n",
            "F1 Score: 0.5834683954619124\n",
            "Precision Score: 0.5834683954619124\n",
            "Recall Score: 0.5834683954619124\n",
            "ROC AUC Score: 0.7255986889021129\n",
            "              precision    recall  f1-score   support\n",
            "\n",
            "    500m-2km       0.56      0.62      0.59       511\n",
            "      < 500m       0.62      0.69      0.65       550\n",
            "       > 2km       0.48      0.12      0.19       173\n",
            "\n",
            "    accuracy                           0.58      1234\n",
            "   macro avg       0.55      0.48      0.48      1234\n",
            "weighted avg       0.57      0.58      0.56      1234\n",
            "\n"
          ]
        }
      ],
      "source": [
        "#Predict X_test\n",
        "y_prediction2 = xgb_sd_model.predict(X_test2)\n",
        "\n",
        "#Print measure scores\n",
        "print(f\"Accuracy: {accuracy_score(y_test2, y_prediction2)}\")\n",
        "print(f\"F1 Score: {f1_score(y_test2, y_prediction2, average='micro')}\")\n",
        "print(f\"Precision Score: {precision_score(y_test2, y_prediction2, average='micro')}\")\n",
        "print(f\"Recall Score: {recall_score(y_test2, y_prediction2, average='micro')}\")\n",
        "print(f\"ROC AUC Score: {roc_auc_score(y_test2, xgb_sd_model.predict_proba(X_test2),multi_class='ovr', average='macro')}\")\n",
        "\n",
        "#print full classification report\n",
        "print(classification_report(y_test2, y_prediction2))"
      ]
    },
    {
      "cell_type": "code",
      "execution_count": 225,
      "metadata": {
        "colab": {
          "base_uri": "https://localhost:8080/",
          "height": 540
        },
        "id": "CtLh1TRBCD3w",
        "outputId": "535353e2-7577-4e0c-9180-269e8ae0ebb0"
      },
      "outputs": [
        {
          "data": {
            "image/png": "[encoded data removed]",
            "text/plain": [
              "<Figure size 648x648 with 2 Axes>"
            ]
          },
          "metadata": {},
          "output_type": "display_data"
        }
      ],
      "source": [
        "#Create a confusion matrix\n",
        "matrix = confusion_matrix(y_test2, y_prediction2)\n",
        "\n",
        "#Visualize the matrix with Seaborn\n",
        "\n",
        "#Write title to display accuracy score\n",
        "score = accuracy_score(y_test2, y_prediction2)\n",
        "all_sample_title = 'XGB with SD Accuracy Score: {0}'.format(round(score,3))\n",
        "\n",
        "#Set figure shape\n",
        "plt.figure(figsize=(9,9))\n",
        "\n",
        "#Use heatmap\n",
        "p = sns.heatmap(matrix, annot=True, fmt=\".3f\", linewidths=0.5, square=True, cmap=\"mako\")\n",
        "\n",
        "#Label the plot\n",
        "lab = ['500m-2km', '< 500m', '> 2km']\n",
        "p.set_ylabel('Actual Label', size=18, weight ='bold')\n",
        "p.set_xlabel('Predicted Label', size = 18, weight ='bold')\n",
        "p.set_xticklabels(lab)\n",
        "p.tick_params(labelsize=16)\n",
        "p.set_yticklabels(lab)\n",
        "p.set_title(all_sample_title, size = 22)\n",
        "\n",
        "\n",
        "#save\n",
        "fig = p.get_figure()\n",
        "fig.savefig('Plots/Location_Accuracy/xgb_withSD_confusion.png')"
      ]
    },
    {
      "cell_type": "code",
      "execution_count": 220,
      "metadata": {
        "colab": {
          "base_uri": "https://localhost:8080/",
          "height": 605
        },
        "id": "XRdE0XAYCCiD",
        "outputId": "029b32a9-4c1a-455b-dc15-358d8eddd948"
      },
      "outputs": [
        {
          "data": {
            "image/png": "[encoded data removed]",
            "text/plain": [
              "<Figure size 864x576 with 6 Axes>"
            ]
          },
          "metadata": {
            "needs_background": "light"
          },
          "output_type": "display_data"
        }
      ],
      "source": [
        "# Plots the Probability Distributions and the ROC Curves One vs Rest\n",
        "# reference: https://towardsdatascience.com/multiclass-classification-evaluation-with-roc-curves-and-roc-auc-294fd4617e3a\n",
        "plt.figure(figsize = (12, 8))\n",
        "bins = [i/20 for i in range(20)] + [1]\n",
        "classes = xgb_sd_model.classes_\n",
        "roc_auc_ovr = {}\n",
        "y_proba = xgb_sd_model.predict_proba(X_test2)\n",
        "for i in range(len(classes)):\n",
        "    # Gets the class\n",
        "    c = classes[i]\n",
        "    \n",
        "    # Prepares an auxiliar dataframe to help with the plots\n",
        "    df_aux = X_test2.copy()\n",
        "    df_aux['class'] = [1 if y == c else 0 for y in y_test2]\n",
        "    df_aux['prob'] = y_proba[:, i]\n",
        "    df_aux = df_aux.reset_index(drop = True)\n",
        "\n",
        "    # Plots the probability distribution for the class and the rest\n",
        "    ax = plt.subplot(2, 5, i+1)\n",
        "    sns.histplot(x = \"prob\", data = df_aux, hue = 'class', color = 'b', ax = ax, bins = bins)\n",
        "    ax.set_title(c)\n",
        "    ax.legend([f\"Class: {c}\", \"Rest\"])\n",
        "    ax.set_xlabel(f\"P(x = {c})\")\n",
        "    \n",
        "    # Calculates the ROC Coordinates and plots the ROC Curves\n",
        "    ax_bottom = plt.subplot(2, 5, i+6)\n",
        "    tpr, fpr = get_all_roc_coordinates(df_aux['class'], df_aux['prob'])\n",
        "    plot_roc_curve(tpr, fpr, scatter = False, ax = ax_bottom)\n",
        "    ax_bottom.set_title(\"ROC Curve OvR\")\n",
        "    \n",
        "    # Calculates the ROC AUC OvR\n",
        "    roc_auc_ovr[c] = roc_auc_score(df_aux['class'], df_aux['prob'])\n",
        "plt.tight_layout()"
      ]
    },
    {
      "cell_type": "markdown",
      "metadata": {},
      "source": [
        "# Comparison Plot"
      ]
    },
    {
      "cell_type": "code",
      "execution_count": 221,
      "metadata": {},
      "outputs": [],
      "source": [
        "#Create variables\n",
        "accuracy = [55.1, 55.4, 56.4, 58.4]\n",
        "models = ['Model 1', 'Model 2', 'Model 3', 'Model 4']"
      ]
    },
    {
      "cell_type": "code",
      "execution_count": 240,
      "metadata": {},
      "outputs": [
        {
          "data": {
            "image/png": "[encoded data removed]",
            "text/plain": [
              "<Figure size 576x432 with 1 Axes>"
            ]
          },
          "metadata": {},
          "output_type": "display_data"
        }
      ],
      "source": [
        "#plot to compare accuracies\n",
        "fig = plt.figure(figsize=[8,6])\n",
        "sns.set_palette(\"mako\")\n",
        "sns.barplot(x = models, y = accuracy)\n",
        "sns.set_theme(style=\"white\")\n",
        "plt.xlabel(None)\n",
        "plt.ylabel('Accuracy (%)', size = 24, weight = 'bold')\n",
        "plt.yticks(fontsize=18)\n",
        "plt.xticks(weight='bold', fontsize=18)\n",
        "plt.ylim([50,60])\n",
        "plt.show()\n",
        "\n",
        "#Save\n",
        "fig.savefig('Plots/Loca_Acc_model_accuracies.png')"
      ]
    },
    {
      "cell_type": "code",
      "execution_count": 30,
      "metadata": {},
      "outputs": [
        {
          "data": {
            "text/html": [
              "<div>\n",
              "<style scoped>\n",
              "    .dataframe tbody tr th:only-of-type {\n",
              "        vertical-align: middle;\n",
              "    }\n",
              "\n",
              "    .dataframe tbody tr th {\n",
              "        vertical-align: top;\n",
              "    }\n",
              "\n",
              "    .dataframe thead th {\n",
              "        text-align: right;\n",
              "    }\n",
              "</style>\n",
              "<table border=\"1\" class=\"dataframe\">\n",
              "  <thead>\n",
              "    <tr style=\"text-align: right;\">\n",
              "      <th></th>\n",
              "      <th>Location Accuracy</th>\n",
              "      <th>F1_Scores</th>\n",
              "      <th>Model</th>\n",
              "    </tr>\n",
              "  </thead>\n",
              "  <tbody>\n",
              "    <tr>\n",
              "      <th>0</th>\n",
              "      <td>&lt; 500m</td>\n",
              "      <td>0.65</td>\n",
              "      <td>Model 3</td>\n",
              "    </tr>\n",
              "    <tr>\n",
              "      <th>1</th>\n",
              "      <td>500m - 2km</td>\n",
              "      <td>0.54</td>\n",
              "      <td>Model 3</td>\n",
              "    </tr>\n",
              "    <tr>\n",
              "      <th>2</th>\n",
              "      <td>&gt; 2km</td>\n",
              "      <td>0.15</td>\n",
              "      <td>Model 3</td>\n",
              "    </tr>\n",
              "    <tr>\n",
              "      <th>3</th>\n",
              "      <td>&lt; 500m</td>\n",
              "      <td>0.65</td>\n",
              "      <td>Model 4</td>\n",
              "    </tr>\n",
              "    <tr>\n",
              "      <th>4</th>\n",
              "      <td>500m - 2km</td>\n",
              "      <td>0.69</td>\n",
              "      <td>Model 4</td>\n",
              "    </tr>\n",
              "    <tr>\n",
              "      <th>5</th>\n",
              "      <td>&gt; 2km</td>\n",
              "      <td>0.19</td>\n",
              "      <td>Model 4</td>\n",
              "    </tr>\n",
              "  </tbody>\n",
              "</table>\n",
              "</div>"
            ],
            "text/plain": [
              "  Location Accuracy  F1_Scores    Model\n",
              "0            < 500m       0.65  Model 3\n",
              "1        500m - 2km       0.54  Model 3\n",
              "2             > 2km       0.15  Model 3\n",
              "3            < 500m       0.65  Model 4\n",
              "4        500m - 2km       0.69  Model 4\n",
              "5             > 2km       0.19  Model 4"
            ]
          },
          "execution_count": 30,
          "metadata": {},
          "output_type": "execute_result"
        }
      ],
      "source": [
        "#Create F1 Score diction for comparing Model 3 and 4\n",
        "f1_dic = {\n",
        "        'Location Accuracy': ['< 500m', '500m - 2km', '> 2km', '< 500m', '500m - 2km', '> 2km'],\n",
        "        'F1_Scores':[0.65,0.54,0.15, 0.65, 0.69, 0.19],\n",
        "        'Model': ['Model 3', 'Model 3', 'Model 3', 'Model 4', 'Model 4', 'Model 4']\n",
        "}\n",
        "\n",
        "#Create DataFrame\n",
        "f1_score_df = pd.DataFrame(f1_dic)\n",
        "f1_score_df"
      ]
    },
    {
      "cell_type": "code",
      "execution_count": 31,
      "metadata": {},
      "outputs": [
        {
          "data": {
            "image/png": "[encoded data removed]",
            "text/plain": [
              "<Figure size 576x432 with 1 Axes>"
            ]
          },
          "metadata": {},
          "output_type": "display_data"
        }
      ],
      "source": [
        "#Compare F1 Score comparisons\n",
        "fig = plt.figure(figsize=[8,6])\n",
        "sns.barplot(data = f1_score_df, x = 'Location Accuracy', y='F1_Scores', hue='Model')\n",
        "sns.set_theme(style=\"white\")\n",
        "sns.set_palette(\"Paired\")\n",
        "plt.xlabel('Location Accuracy', size = 18, weight='bold')\n",
        "plt.ylabel('F1 Score', size = 18, weight = 'bold')\n",
        "plt.tick_params(labelsize=16)\n",
        "plt.legend(loc = 'upper right', title = None, fontsize=16)\n",
        "plt.show()\n",
        "\n",
        "#save\n",
        "fig.savefig('Plots/Location_Accuracy/Model_Comparison.png')"
      ]
    }
  ],
  "metadata": {
    "accelerator": "GPU",
    "colab": {
      "name": "Modelling.ipynb",
      "provenance": [],
      "toc_visible": true
    },
    "interpreter": {
      "hash": "d8bbbd4ee10db25919bce58fef8b0c329be8981348cd52ed5590f6e13ea3c08a"
    },
    "kernelspec": {
      "display_name": "Python 3.6.10 ('LHLBootcamp')",
      "language": "python",
      "name": "python3"
    },
    "language_info": {
      "codemirror_mode": {
        "name": "ipython",
        "version": 3
      },
      "file_extension": ".py",
      "mimetype": "text/x-python",
      "name": "python",
      "nbconvert_exporter": "python",
      "pygments_lexer": "ipython3",
      "version": "3.8.8"
    },
    "orig_nbformat": 4
  },
  "nbformat": 4,
  "nbformat_minor": 0
}
