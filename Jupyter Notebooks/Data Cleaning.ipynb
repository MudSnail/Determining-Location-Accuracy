{
 "cells": [
  {
   "cell_type": "code",
   "execution_count": 1,
   "metadata": {},
   "outputs": [],
   "source": [
    "#import base libraries\n",
    "import pandas as pd\n",
    "import numpy as np\n",
    "import datetime\n",
    "import copy\n",
    "\n",
    "#misc\n",
    "import warnings\n",
    "warnings.filterwarnings('ignore')"
   ]
  },
  {
   "cell_type": "markdown",
   "metadata": {},
   "source": [
    "# Data Cleaning Notebook"
   ]
  },
  {
   "cell_type": "code",
   "execution_count": null,
   "metadata": {},
   "outputs": [],
   "source": [
    "# Import Dataset - Monday\n",
    "data = pd.read_excel('OceanWise Info/BCCSN_Sightings_Master.xlsx', parse_dates= ['Time'])\n",
    "\n",
    "#Check shape\n",
    "print(data.shape)\n",
    "\n",
    "#Print head\n",
    "data.head()"
   ]
  },
  {
   "cell_type": "code",
   "execution_count": 3,
   "metadata": {},
   "outputs": [
    {
     "data": {
      "text/plain": [
       "Location Accuracy    0.366505\n",
       "dtype: float64"
      ]
     },
     "execution_count": 3,
     "metadata": {},
     "output_type": "execute_result"
    }
   ],
   "source": [
    "#Check percentage of missing values in target\n",
    "data[['Location Accuracy']].isnull().sum()/len(data)\n",
    "#data[['Location Accuracy']].notnull().sum()/len(data)"
   ]
  },
  {
   "cell_type": "markdown",
   "metadata": {},
   "source": [
    "As this project is about Proof of Concept, I am dropping the rows were Location Accuracy is null.\n",
    "\n",
    "As this feature is my target and 36.6% is missing, I do not want to take the risk of going in and addressing these issues as it could skew the data."
   ]
  },
  {
   "cell_type": "code",
   "execution_count": 5,
   "metadata": {},
   "outputs": [
    {
     "name": "stdout",
     "output_type": "stream",
     "text": [
      "(7620, 60)\n"
     ]
    }
   ],
   "source": [
    "#Find rows that have no location description and are Within 2 km Accuracy\n",
    "missing_targetvalues = data.loc[data['Location Accuracy'].isnull()]\n",
    "\n",
    "#print shape\n",
    "print(missing_targetvalues.shape)\n",
    "\n",
    "#Save missing_targetvalues as different csv\n",
    "missing_targetvalues.to_csv('CSVs/Location_Accuracy/missing_targetvalues.csv')"
   ]
  },
  {
   "cell_type": "markdown",
   "metadata": {},
   "source": [
    "Can use these in future to predict on."
   ]
  },
  {
   "cell_type": "code",
   "execution_count": null,
   "metadata": {},
   "outputs": [],
   "source": [
    "#create deepcopy and drop rows where Location Accuracy was Null\n",
    "df = copy.deepcopy(data.dropna(subset=['Location Accuracy']))\n",
    "\n",
    "#print shape\n",
    "print(df.shape)\n",
    "\n",
    "#check column names\n",
    "df.columns"
   ]
  },
  {
   "cell_type": "code",
   "execution_count": 8,
   "metadata": {},
   "outputs": [],
   "source": [
    "#Drop unnesscessary columns and columns missing too much information\n",
    "df = df.drop(['SubDate', 'SubTime', 'ReportId', 'SourceName', 'Ecotype', 'Number of Animals Max', \n",
    "            'VesselName', 'Comments', 'OrganizationName','WhenInWater', 'HowYouHeard', \n",
    "            'HowYouHeardOtherDescription'], axis = 1)"
   ]
  },
  {
   "cell_type": "code",
   "execution_count": 9,
   "metadata": {},
   "outputs": [
    {
     "data": {
      "text/plain": [
       "SpeciesName              0.000000\n",
       "SpeciesCategory          0.000000\n",
       "LatitudeDD               0.000000\n",
       "LongitudeDD              0.000000\n",
       "Date                     0.000000\n",
       "Time                     0.007592\n",
       "IdConfidence             0.000000\n",
       "LocationDescription      0.022777\n",
       "SeaState                 0.000000\n",
       "WindSpeed                0.000000\n",
       "AnimalCountMeasure       0.000000\n",
       "NumberOfAnimals          0.000000\n",
       "Number of Animals Min    1.366639\n",
       "Behaviour                0.007592\n",
       "Source                   0.083517\n",
       "SightingDistance         0.015185\n",
       "Direction of Travel      0.007592\n",
       "SightingPlatform         0.007592\n",
       "DistressedState          0.000000\n",
       "Experience               0.000000\n",
       "WhyInWater               0.000000\n",
       "Location Accuracy        0.000000\n",
       "Year                     0.000000\n",
       "Month                    0.000000\n",
       "dtype: float64"
      ]
     },
     "execution_count": 9,
     "metadata": {},
     "output_type": "execute_result"
    }
   ],
   "source": [
    "#Check for nulls on reduced dataframe\n",
    "df.isnull().sum()/len(df) * 100"
   ]
  },
  {
   "cell_type": "code",
   "execution_count": 10,
   "metadata": {},
   "outputs": [
    {
     "data": {
      "text/plain": [
       "SpeciesName                      object\n",
       "SpeciesCategory                  object\n",
       "LatitudeDD                      float64\n",
       "LongitudeDD                     float64\n",
       "Date                     datetime64[ns]\n",
       "Time                             object\n",
       "IdConfidence                     object\n",
       "LocationDescription              object\n",
       "SeaState                         object\n",
       "WindSpeed                        object\n",
       "AnimalCountMeasure               object\n",
       "NumberOfAnimals                  object\n",
       "Number of Animals Min            object\n",
       "Behaviour                        object\n",
       "Source                           object\n",
       "SightingDistance                 object\n",
       "Direction of Travel              object\n",
       "SightingPlatform                 object\n",
       "DistressedState                  object\n",
       "Experience                       object\n",
       "WhyInWater                       object\n",
       "Location Accuracy                object\n",
       "Year                              int64\n",
       "Month                             int64\n",
       "dtype: object"
      ]
     },
     "execution_count": 10,
     "metadata": {},
     "output_type": "execute_result"
    }
   ],
   "source": [
    "#Check dtypes\n",
    "df.dtypes"
   ]
  },
  {
   "cell_type": "markdown",
   "metadata": {},
   "source": [
    "## Letter Casing and Punctuation Fixing"
   ]
  },
  {
   "cell_type": "markdown",
   "metadata": {},
   "source": [
    "All the below categories can be easily view on the Whale Sightings App: Whale Report"
   ]
  },
  {
   "cell_type": "code",
   "execution_count": 11,
   "metadata": {},
   "outputs": [],
   "source": [
    "#Fixing SeaState\n",
    "df['SeaState'] = df['SeaState'].str.replace('light', 'Light', regex = True)\n",
    "df['SeaState'] = df['SeaState'].str.replace(',Wind', 'Wind', regex = True)\n",
    "df['SeaState'] = df['SeaState'].str.replace('Light air,  small ripples', 'Light air, small ripples', regex = True)"
   ]
  },
  {
   "cell_type": "code",
   "execution_count": 12,
   "metadata": {},
   "outputs": [
    {
     "data": {
      "text/plain": [
       "Light air, small ripples                                          4406\n",
       "Wind felt on face;wave crests have glassy appearance              3139\n",
       "Sea is smooth                                                     2183\n",
       "Crests begin to break;whitecaps start to form at 10 knots         1744\n",
       "-                                                                  914\n",
       "Frequent whitecaps - seas to 3 ft (1m)                             533\n",
       "Moderate waves form 4-5 ft (1.5-2.5 m);some spray carried          160\n",
       "Exceptionally high waves to 30 ft (9m)                              46\n",
       "Large waves 5-7 ft (2-3m);more spray                                28\n",
       "Swell forms 8-10 ft (3-4m);foam blown in streaks                    11\n",
       "Moderately high waves to 16 ft(5m);crests break into spindrift       4\n",
       "High waves to 20 ft (7m);dense foam, visibility reduced              2\n",
       "Waves to 35 ft (11m);very limited visibility                         1\n",
       "Name: SeaState, dtype: int64"
      ]
     },
     "execution_count": 12,
     "metadata": {},
     "output_type": "execute_result"
    }
   ],
   "source": [
    "#Check value counts\n",
    "df.SeaState.value_counts()"
   ]
  },
  {
   "cell_type": "code",
   "execution_count": 13,
   "metadata": {},
   "outputs": [],
   "source": [
    "#Fixing WindSpeed\n",
    "df['WindSpeed'] = df['WindSpeed'].str.replace('5 - 6 kts', '4 - 6 kts', regex = True)\n",
    "df['WindSpeed'] = df['WindSpeed'].str.replace('2 - 3 kts', '1 - 3 kts', regex = True)\n",
    "df['WindSpeed'] = df['WindSpeed'].str.replace('3 - 3 kts', '1 - 3 kts', regex = True)\n",
    "df['WindSpeed'] = df['WindSpeed'].str.replace('18 - 21 kts', '17 - 21 kts', regex = True)"
   ]
  },
  {
   "cell_type": "code",
   "execution_count": 14,
   "metadata": {},
   "outputs": [
    {
     "data": {
      "text/plain": [
       "1 - 3 kts (Light Air)            3092\n",
       "4 - 6 kts (Light Breeze)         2729\n",
       "7 - 10 kts (Gentle Breeze)       2504\n",
       "11 - 16 kts (Moderate Breeze)    1597\n",
       "-                                1469\n",
       "0 kts (Calm)                     1106\n",
       "17 - 21 kts (Fresh Breeze)        466\n",
       "22 - 27 kts (Strong Breeze)       167\n",
       "28 - 33 kts (Near Gale)            29\n",
       "34 - 40 kts (Gale)                  9\n",
       "41 - 47 kts (Strong Gale)           2\n",
       "48 - 55 kts (Storm)                 1\n",
       "Name: WindSpeed, dtype: int64"
      ]
     },
     "execution_count": 14,
     "metadata": {},
     "output_type": "execute_result"
    }
   ],
   "source": [
    "#Check value counts\n",
    "df.WindSpeed.value_counts()"
   ]
  },
  {
   "cell_type": "code",
   "execution_count": 15,
   "metadata": {},
   "outputs": [],
   "source": [
    "#Fixing Direction of Travel\n",
    "df['Direction of Travel'] = df['Direction of Travel'].str.replace('Uknown', 'Unknown', regex = True)\n",
    "df['Direction of Travel'] = df['Direction of Travel'].str.replace('Unknown Travel Direction', 'Unknown', regex = True)"
   ]
  },
  {
   "cell_type": "code",
   "execution_count": 16,
   "metadata": {},
   "outputs": [
    {
     "data": {
      "text/plain": [
       "Various       3230\n",
       "North         1506\n",
       "South         1468\n",
       "East          1336\n",
       "West          1255\n",
       "North-West    1093\n",
       "South-East     827\n",
       "Unknown        701\n",
       "North-East     649\n",
       "South-West     564\n",
       "-              484\n",
       "___             57\n",
       "Name: Direction of Travel, dtype: int64"
      ]
     },
     "execution_count": 16,
     "metadata": {},
     "output_type": "execute_result"
    }
   ],
   "source": [
    "#Check value counts\n",
    "df['Direction of Travel'].value_counts()"
   ]
  },
  {
   "cell_type": "code",
   "execution_count": 17,
   "metadata": {},
   "outputs": [],
   "source": [
    "#Fixing Sighting Platofrm\n",
    "df['SightingPlatform'] = df['SightingPlatform'].str.replace('vessel', 'Vessel', regex = True)\n",
    "df['SightingPlatform'] = df['SightingPlatform'].str.replace('Verry', 'Ferry', regex = True)\n",
    "df['SightingPlatform'] = df['SightingPlatform'].str.replace('feet', 'ft', regex = True)\n",
    "df['SightingPlatform'] = df['SightingPlatform'].str.replace('> 25 ft', '25 - 60 ft', regex = True)\n",
    "df['SightingPlatform'] = df['SightingPlatform'].str.replace('25-60', '25 - 60', regex = True)\n",
    "df['SightingPlatform'] = df['SightingPlatform'].str.replace('Lightstation', 'Land (close to water)', regex = True)"
   ]
  },
  {
   "cell_type": "code",
   "execution_count": 18,
   "metadata": {},
   "outputs": [
    {
     "data": {
      "text/plain": [
       "Motor Vessel 25 - 60 ft    3645\n",
       "Land (close to water)      2456\n",
       "Ferry                      2119\n",
       "Motor Vessel > 60 ft       1456\n",
       "Motor Vessel < 25 ft       1225\n",
       "Sailboat                    820\n",
       "Land (high above water)     692\n",
       "Other                       406\n",
       "-                           273\n",
       "Kayak                        57\n",
       "Airplane / Helicopter        19\n",
       "___                           2\n",
       "Name: SightingPlatform, dtype: int64"
      ]
     },
     "execution_count": 18,
     "metadata": {},
     "output_type": "execute_result"
    }
   ],
   "source": [
    "#Check value counts\n",
    "df.SightingPlatform.value_counts()"
   ]
  },
  {
   "cell_type": "code",
   "execution_count": 19,
   "metadata": {},
   "outputs": [],
   "source": [
    "#Fix DistressedState\n",
    "df['DistressedState'] = df['DistressedState'].str.replace('No ', 'No', regex = True)"
   ]
  },
  {
   "cell_type": "code",
   "execution_count": 20,
   "metadata": {},
   "outputs": [
    {
     "data": {
      "text/plain": [
       "No     13148\n",
       "Yes       23\n",
       "Name: DistressedState, dtype: int64"
      ]
     },
     "execution_count": 20,
     "metadata": {},
     "output_type": "execute_result"
    }
   ],
   "source": [
    "#Check value counts\n",
    "df.DistressedState.value_counts()"
   ]
  },
  {
   "cell_type": "code",
   "execution_count": 21,
   "metadata": {},
   "outputs": [],
   "source": [
    "#Fix Experience\n",
    "df['Experience'] = df['Experience'].str.replace('Recreational', 'Novice recreational observer', regex = True)"
   ]
  },
  {
   "cell_type": "code",
   "execution_count": 22,
   "metadata": {},
   "outputs": [
    {
     "data": {
      "text/plain": [
       "Ecotourism professional              5186\n",
       "Other marine professional            2941\n",
       "Novice recreational observer         1987\n",
       "Experienced recreational observer    1783\n",
       "Researcher                            876\n",
       "-                                     378\n",
       "Lightstation keeper                    17\n",
       "___                                     3\n",
       "Name: Experience, dtype: int64"
      ]
     },
     "execution_count": 22,
     "metadata": {},
     "output_type": "execute_result"
    }
   ],
   "source": [
    "#Check value counts\n",
    "df.Experience.value_counts()"
   ]
  },
  {
   "cell_type": "code",
   "execution_count": 23,
   "metadata": {},
   "outputs": [],
   "source": [
    "#Fix Location Accuracy (Target)\n",
    "df['Location Accuracy'] = df['Location Accuracy'].str.replace('w', 'W', regex = True)\n",
    "df['Location Accuracy'] = df['Location Accuracy'].str.replace('WI', 'Wi', regex = True)\n",
    "df['Location Accuracy'] = df['Location Accuracy'].str.replace('m ', 'm', regex = True)"
   ]
  },
  {
   "cell_type": "markdown",
   "metadata": {},
   "source": [
    "## Null values\n",
    "Most columns are categorical and isnull() is not picking up on empty strings. On closer expection, empty strings are '-' or '___'. So I will first handle these"
   ]
  },
  {
   "cell_type": "code",
   "execution_count": 25,
   "metadata": {},
   "outputs": [
    {
     "name": "stdout",
     "output_type": "stream",
     "text": [
      "No. of missing values in Location Description: 8028\n",
      "No. of missing data in SpeciesName: 0\n",
      "No. of missing data in SpeciesCategory: 0\n",
      "No. of missing data in IdConfidence: 151\n",
      "No. of missing data in SeaState: 914\n",
      "No. of missing data in WindSpeed: 1469\n",
      "No. of missing data in Behaviour: 1016\n",
      "No. of missing data in Source: 0\n",
      "No. of missing data in SightDistance: 5905\n",
      "No. of missing data in Direction of Travel: 484\n",
      "No. of missing data in SightingPlatform: 273\n",
      "No. of missing data in DistressedState: 0\n",
      "No. of missing data in Experience: 378\n",
      "No. of missing data in WhyInWater: 1014\n",
      "No. of missing data in Location Accuracy: 0\n"
     ]
    }
   ],
   "source": [
    "# Example of how empty strings were found in Locations description\n",
    "print('No. of missing values in Location Description:', (df['LocationDescription'].values == '-').sum())\n",
    "\n",
    "#Checking missing values in other category columns\n",
    "print('No. of missing data in SpeciesName:', (df['SpeciesName'].values == '-').sum())\n",
    "print('No. of missing data in SpeciesCategory:', (df['SpeciesCategory'].values == '-').sum())\n",
    "print('No. of missing data in IdConfidence:', (df['IdConfidence'].values == '-').sum())\n",
    "print('No. of missing data in SeaState:', (df['SeaState'].values == '-').sum())\n",
    "print('No. of missing data in WindSpeed:', (df['WindSpeed'].values == '-').sum())\n",
    "print('No. of missing data in Behaviour:', (df['Behaviour'].values == '-').sum())\n",
    "print('No. of missing data in Source:', (df['Source'].values == '-').sum())\n",
    "print('No. of missing data in SightDistance:', (df['SightingDistance'].values == '-').sum())\n",
    "print('No. of missing data in Direction of Travel:', (df['Direction of Travel'].values == '-').sum())\n",
    "print('No. of missing data in SightingPlatform:', (df['SightingPlatform'].values == '-').sum())\n",
    "print('No. of missing data in DistressedState:', (df['DistressedState'].values == '-').sum())\n",
    "print('No. of missing data in Experience:', (df['Experience'].values == '-').sum())\n",
    "print('No. of missing data in WhyInWater:', (df['WhyInWater'].values == '-').sum())\n",
    "print('No. of missing data in Location Accuracy:', (df['Location Accuracy'].values == '-').sum())"
   ]
  },
  {
   "cell_type": "code",
   "execution_count": 27,
   "metadata": {},
   "outputs": [],
   "source": [
    "#Replace blank strings with NaN\n",
    "missing_values = ['-', '___']\n",
    "df = df.replace(missing_values, np.NaN)"
   ]
  },
  {
   "cell_type": "code",
   "execution_count": 28,
   "metadata": {},
   "outputs": [
    {
     "data": {
      "text/plain": [
       "SpeciesName               0.000000\n",
       "SpeciesCategory           0.098702\n",
       "LatitudeDD                0.000000\n",
       "LongitudeDD               0.000000\n",
       "Date                      0.000000\n",
       "Time                      0.007592\n",
       "IdConfidence              1.154051\n",
       "LocationDescription      61.012831\n",
       "SeaState                  6.939488\n",
       "WindSpeed                11.153291\n",
       "AnimalCountMeasure        0.000000\n",
       "NumberOfAnimals           1.351454\n",
       "Number of Animals Min     3.355858\n",
       "Behaviour                 8.625009\n",
       "Source                    0.083517\n",
       "SightingDistance         45.752031\n",
       "Direction of Travel       4.115101\n",
       "SightingPlatform          2.095513\n",
       "DistressedState           0.000000\n",
       "Experience                2.892719\n",
       "WhyInWater                8.146686\n",
       "Location Accuracy         0.000000\n",
       "Year                      0.000000\n",
       "Month                     0.000000\n",
       "dtype: float64"
      ]
     },
     "execution_count": 28,
     "metadata": {},
     "output_type": "execute_result"
    }
   ],
   "source": [
    "#Check percentage of null again\n",
    "df.isnull().sum()/len(df) * 100"
   ]
  },
  {
   "cell_type": "code",
   "execution_count": 30,
   "metadata": {},
   "outputs": [
    {
     "data": {
      "text/plain": [
       "(6171, 22)"
      ]
     },
     "execution_count": 30,
     "metadata": {},
     "output_type": "execute_result"
    }
   ],
   "source": [
    "#Applied another limitation on data based on BCCSN protocols to reduce potential bias in model\n",
    "#Code missing here for privacy reasons\n",
    "\n",
    "#First dropping Location Description and SightingDistance as too many missing values\n",
    "df = df.drop(['LocationDescription', 'SightingDistance'], axis = 1)\n",
    "\n",
    "#print new shape\n",
    "df.shape"
   ]
  },
  {
   "cell_type": "code",
   "execution_count": 32,
   "metadata": {},
   "outputs": [],
   "source": [
    "#Define list for category columns to replace values with most frequent\n",
    "cat_col = ['SpeciesName', 'Time', 'IdConfidence', 'SeaState', 'WindSpeed',\n",
    "            'AnimalCountMeasure', 'NumberOfAnimals', 'Behaviour', 'Source', \n",
    "            'Direction of Travel', 'SightingPlatform', 'DistressedState', 'Experience']\n",
    "            \n",
    "#Replace NaN with most frequent value for Category columns\n",
    "for col in cat_col:\n",
    "    most_freq = df[col].mode().values[0]\n",
    "    df[col].fillna(most_freq, inplace=True)"
   ]
  },
  {
   "cell_type": "code",
   "execution_count": 33,
   "metadata": {},
   "outputs": [
    {
     "name": "stdout",
     "output_type": "stream",
     "text": [
      "Mean: 4.241913746630728\n",
      "Mode: 0    1.0\n",
      "dtype: float64\n",
      "Max: 250.0\n"
     ]
    }
   ],
   "source": [
    "#calculate mean and mode of number of animals min\n",
    "print(\"Mean:\", df['Number of Animals Min'].mean())\n",
    "print(\"Mode:\", df['Number of Animals Min'].mode())\n",
    "print(\"Max:\", df['Number of Animals Min'].max())"
   ]
  },
  {
   "cell_type": "markdown",
   "metadata": {},
   "source": [
    "I will go with the mean for the replacement value"
   ]
  },
  {
   "cell_type": "code",
   "execution_count": 34,
   "metadata": {},
   "outputs": [],
   "source": [
    "#Replace missing values in Number of Animals Min\n",
    "df['Number of Animals Min'].fillna(value=df['Number of Animals Min'].mean(), inplace = True)"
   ]
  },
  {
   "cell_type": "markdown",
   "metadata": {},
   "source": [
    "### Applying condition on columns to replace nulls\n",
    "\n",
    "Based on Experience, condition for WhyInWater is either Professional or Recreational\n",
    "\n",
    "Based on SpeciesName, make new column for Species Category to replace nulls"
   ]
  },
  {
   "cell_type": "code",
   "execution_count": 35,
   "metadata": {},
   "outputs": [],
   "source": [
    "#Fix WhyInWater column based on Experience\n",
    "df['WhyInWater'] = np.where(df['Experience'].str.contains('recreational'), 'Recreational', 'Professional')"
   ]
  },
  {
   "cell_type": "code",
   "execution_count": 36,
   "metadata": {},
   "outputs": [
    {
     "data": {
      "text/plain": [
       "Professional    3677\n",
       "Recreational    2494\n",
       "Name: WhyInWater, dtype: int64"
      ]
     },
     "execution_count": 36,
     "metadata": {},
     "output_type": "execute_result"
    }
   ],
   "source": [
    "#Check WhyInWater Values\n",
    "df.WhyInWater.value_counts()"
   ]
  },
  {
   "cell_type": "code",
   "execution_count": 37,
   "metadata": {},
   "outputs": [],
   "source": [
    "#create list for species names under dolphins and whales\n",
    "\n",
    "whales = ['Killer whale',\"Grey whale\", 'Humpback whale', 'Minke whale', 'Fin whale',  'Sperm whale', \n",
    "            'False killer whale', \"Baird's beaked whale\", \"Cuvier's beaked whale\", 'Sei whale', \n",
    "            'Blue whale', 'North Pacific right whale', 'Unidentified whale','Other rare species']\n",
    "\n",
    "d_p = ['Harbour porpoise',\"Dall's porpoise\", 'Pacific white-sided dolphin', \"Risso's dolphin\",\n",
    "        'Northern right whale dolphin','Unidentified dolphin or porpoise']\n",
    "\n",
    "#Create empty list\n",
    "speciescategory = []\n",
    "\n",
    "#create for loop and appen to list\n",
    "for n in df.SpeciesName:\n",
    "    if (n in whales) == True:\n",
    "        speciescategory.append('Whales')\n",
    "    elif (n in d_p) == True:\n",
    "        speciescategory.append('Dolphins and Porpoises')\n",
    "    else:\n",
    "        speciescategory.append('Sea Turtle')\n",
    "        \n",
    "#define new column\n",
    "df['SpeciesCategory'] = speciescategory"
   ]
  },
  {
   "cell_type": "code",
   "execution_count": 38,
   "metadata": {},
   "outputs": [
    {
     "data": {
      "text/plain": [
       "Whales                    5289\n",
       "Dolphins and Porpoises     882\n",
       "Name: SpeciesCategory, dtype: int64"
      ]
     },
     "execution_count": 38,
     "metadata": {},
     "output_type": "execute_result"
    }
   ],
   "source": [
    "df.SpeciesCategory.value_counts()"
   ]
  },
  {
   "cell_type": "code",
   "execution_count": 39,
   "metadata": {},
   "outputs": [
    {
     "data": {
      "text/plain": [
       "SpeciesName              0\n",
       "SpeciesCategory          0\n",
       "LatitudeDD               0\n",
       "LongitudeDD              0\n",
       "Date                     0\n",
       "Time                     0\n",
       "IdConfidence             0\n",
       "SeaState                 0\n",
       "WindSpeed                0\n",
       "AnimalCountMeasure       0\n",
       "NumberOfAnimals          0\n",
       "Number of Animals Min    0\n",
       "Behaviour                0\n",
       "Source                   0\n",
       "Direction of Travel      0\n",
       "SightingPlatform         0\n",
       "DistressedState          0\n",
       "Experience               0\n",
       "WhyInWater               0\n",
       "Location Accuracy        0\n",
       "Year                     0\n",
       "Month                    0\n",
       "dtype: int64"
      ]
     },
     "execution_count": 39,
     "metadata": {},
     "output_type": "execute_result"
    }
   ],
   "source": [
    "#Check for anymore missing values\n",
    "df.isnull().sum()"
   ]
  },
  {
   "cell_type": "markdown",
   "metadata": {},
   "source": [
    "### Fix NumberOfAnimals\n",
    "\n",
    "Split into 2 columns"
   ]
  },
  {
   "cell_type": "code",
   "execution_count": null,
   "metadata": {},
   "outputs": [],
   "source": [
    "#View Number of Animals\n",
    "df.NumberOfAnimals.unique()"
   ]
  },
  {
   "cell_type": "code",
   "execution_count": 41,
   "metadata": {},
   "outputs": [],
   "source": [
    "#Create Empty Lists\n",
    "minanimals = []\n",
    "maxanimals = []\n",
    "\n",
    "#For loop to check type\n",
    "for x in df.NumberOfAnimals:\n",
    "    #If integer append 0 in minanimal list\n",
    "    if type(x) == int:\n",
    "        minanimals.append(0) \n",
    "        maxanimals.append(x)\n",
    "    elif type(x) == float:\n",
    "        minanimals.append(0)\n",
    "        maxanimals.append(x)\n",
    "    #If str, split and append to minanimal & maxanimal\n",
    "    else:\n",
    "        new = x.split(\"~\")\n",
    "        minanimals.append(new[0]) \n",
    "        maxanimals.append(new[1]) "
   ]
  },
  {
   "cell_type": "code",
   "execution_count": 42,
   "metadata": {},
   "outputs": [],
   "source": [
    "#Add new columns with variables\n",
    "df['MinAnimal'] = minanimals\n",
    "df['MaxAnimal'] = maxanimals\n",
    "\n",
    "#Convert to type int\n",
    "df.MinAnimal = df.MinAnimal.astype(int)\n",
    "df.MaxAnimal = df.MaxAnimal.astype(int)"
   ]
  },
  {
   "cell_type": "code",
   "execution_count": 43,
   "metadata": {},
   "outputs": [
    {
     "name": "stdout",
     "output_type": "stream",
     "text": [
      "Mean Min Animals: 0.5929346945389726\n",
      "Mode Min Animals: 0    0\n",
      "dtype: int64\n",
      "Mean Max Animals: 4.681251012801815\n",
      "Mode Max Animals: 0    1\n",
      "dtype: int64\n"
     ]
    }
   ],
   "source": [
    "print(f\"Mean Min Animals: {df['MinAnimal'].mean()}\")\n",
    "print(f\"Mode Min Animals: {df['MinAnimal'].mode()}\")\n",
    "\n",
    "print(f\"Mean Max Animals: {df['MaxAnimal'].mean()}\")\n",
    "print(f\"Mode Max Animals: {df['MaxAnimal'].mode()}\")"
   ]
  },
  {
   "cell_type": "code",
   "execution_count": null,
   "metadata": {},
   "outputs": [],
   "source": [
    "#check to see if it worked\n",
    "df.MinAnimal.unique()"
   ]
  },
  {
   "cell_type": "code",
   "execution_count": null,
   "metadata": {},
   "outputs": [],
   "source": [
    "#View new columns\n",
    "df[['MinAnimal','MaxAnimal']]"
   ]
  },
  {
   "cell_type": "code",
   "execution_count": 46,
   "metadata": {},
   "outputs": [],
   "source": [
    "#Drop NumberOfAnimals\n",
    "df = df.drop(['NumberOfAnimals'], axis = 1)"
   ]
  },
  {
   "cell_type": "markdown",
   "metadata": {},
   "source": [
    "## Extracting features from Behaviour List Column\n",
    "\n",
    "I want to be able to take these strings and create new columns based on if the animal is doing the behaviour or not. Meaning I am doing my own one-hot encode"
   ]
  },
  {
   "cell_type": "code",
   "execution_count": 47,
   "metadata": {},
   "outputs": [
    {
     "name": "stdout",
     "output_type": "stream",
     "text": [
      "['Feeding', 'Fast moving', 'Spy-hopping', 'Slow moving', 'Breaching', 'Bow-riding', 'Porpoising', 'Fluking', 'Depredation']\n"
     ]
    }
   ],
   "source": [
    "#Fix Behaviour\n",
    "df.Behaviour = df.Behaviour.str.replace(' Fluking', 'Fluking', regex = True)\n",
    "df.Behaviour = df.Behaviour.str.replace('slow moving', 'Slow moving', regex = True)\n",
    "df.Behaviour = df.Behaviour.str.replace('Slow moving', 'Slow moving', regex = True)\n",
    "\n",
    "#extract Behaviour column from dataframe\n",
    "behave = df.Behaviour.str.split(',')\n",
    "\n",
    "#Extract all values from column and set the list\n",
    "flat_list = [item for sublist in behave for item in sublist]\n",
    "flat_list = list(set(flat_list))\n",
    "print(flat_list)"
   ]
  },
  {
   "cell_type": "code",
   "execution_count": 48,
   "metadata": {},
   "outputs": [],
   "source": [
    "#turn behaviour column into list and split based on comma\n",
    "ls = list(df['Behaviour'].str.split(','))\n",
    "\n",
    "#create for loop do go through flat list (all unique values)\n",
    "for element in flat_list:\n",
    "    #create column for each element\n",
    "    df[element] = 0\n",
    "    #enumerate through the column turned ls\n",
    "    for index, l in enumerate(ls):\n",
    "        #Assign False as 0 and True as 1 if element in ls\n",
    "        df[element].iloc[index] = int(element in l)"
   ]
  },
  {
   "cell_type": "code",
   "execution_count": null,
   "metadata": {},
   "outputs": [],
   "source": [
    "#check to see if it worked\n",
    "df[['Fast moving', 'Porpoising', 'Spy-hopping', 'Fluking', 'Slow moving', \n",
    "    'Feeding', 'Depredation', 'Bow-riding', 'Breaching']].head()"
   ]
  },
  {
   "cell_type": "code",
   "execution_count": 51,
   "metadata": {},
   "outputs": [],
   "source": [
    "#Drop behaviour column\n",
    "df = df.drop(['Behaviour'], axis = 1)"
   ]
  },
  {
   "cell_type": "markdown",
   "metadata": {},
   "source": [
    "## Date, Time and Season Features\n",
    "\n",
    "1. Turn date and time into datetime (SubTime already datetime)\n",
    "2. Extract month, day, week, year from Data\n",
    "3. Make a column for Seasons"
   ]
  },
  {
   "cell_type": "code",
   "execution_count": 57,
   "metadata": {},
   "outputs": [],
   "source": [
    "#Create Hour Column\n",
    "item = df.Time.apply(lambda x: str(x)[:2])\n",
    "df['Hour'] = item"
   ]
  },
  {
   "cell_type": "code",
   "execution_count": 62,
   "metadata": {},
   "outputs": [],
   "source": [
    "#Assign time of day to Hour\n",
    "\n",
    "times = [(df['Hour'] == '00') | (df['Hour'] == '01') | (df['Hour'] == '02') | (df['Hour'] == '03') | (df['Hour'] == '04') | (df['Hour'] == '05'),\n",
    "            (df['Hour'] == '06') | (df['Hour'] == '07') | (df['Hour'] == '08') | (df['Hour'] == '09') | (df['Hour'] == '10') | (df['Hour'] == '11'),\n",
    "            (df['Hour'] == '12') | (df['Hour'] == '13') | (df['Hour'] == '14') | (df['Hour'] == '15') | (df['Hour'] == '16') | (df['Hour'] == '17'),\n",
    "            (df['Hour'] == '18') | (df['Hour'] == '19') | (df['Hour'] == '20') | (df['Hour'] == '21') | (df['Hour'] == '22') | (df['Hour'] == '23')]\n",
    "df['TimeOfDay'] = np.select(times, ['Early Morning', 'Morning', 'Afternoon', 'Night'])"
   ]
  },
  {
   "cell_type": "code",
   "execution_count": 63,
   "metadata": {},
   "outputs": [
    {
     "data": {
      "text/plain": [
       "array(['Morning', 'Night', 'Afternoon', 'Early Morning'], dtype=object)"
      ]
     },
     "execution_count": 63,
     "metadata": {},
     "output_type": "execute_result"
    }
   ],
   "source": [
    "#Check time of day\n",
    "df.TimeOfDay.unique()"
   ]
  },
  {
   "cell_type": "code",
   "execution_count": 64,
   "metadata": {},
   "outputs": [],
   "source": [
    "#Assign time of day to Hour with shorter spans\n",
    "\n",
    "times2 = [(df['Hour'] == '00') | (df['Hour'] == '01') | (df['Hour'] == '02'),\n",
    "         (df['Hour'] == '03') | (df['Hour'] == '04') | (df['Hour'] == '05'),\n",
    "        (df['Hour'] == '06') | (df['Hour'] == '07') | (df['Hour'] == '08'),\n",
    "        (df['Hour'] == '09') | (df['Hour'] == '10') | (df['Hour'] == '11'),\n",
    "        (df['Hour'] == '12') | (df['Hour'] == '13') | (df['Hour'] == '14'),\n",
    "        (df['Hour'] == '15') | (df['Hour'] == '16') | (df['Hour'] == '17'),\n",
    "        (df['Hour'] == '18') | (df['Hour'] == '19') | (df['Hour'] == '20'),\n",
    "        (df['Hour'] == '21') | (df['Hour'] == '22') | (df['Hour'] == '23')]\n",
    "ls_times2 =  ['0-3', '3-6', '6-9', '9-12', '12-15', '15-18', '18-21', '21-24']\n",
    "df['TimeOfDay_2'] = np.select(times2, ls_times2)"
   ]
  },
  {
   "cell_type": "code",
   "execution_count": 65,
   "metadata": {},
   "outputs": [
    {
     "data": {
      "text/plain": [
       "array(['6-9', '18-21', '12-15', '9-12', '15-18', '21-24', '3-6', '0-3'],\n",
       "      dtype=object)"
      ]
     },
     "execution_count": 65,
     "metadata": {},
     "output_type": "execute_result"
    }
   ],
   "source": [
    "#Check Time of Day 2\n",
    "df.TimeOfDay_2.unique()"
   ]
  },
  {
   "cell_type": "code",
   "execution_count": 53,
   "metadata": {},
   "outputs": [],
   "source": [
    "#Create columns for Day, Day of Week (Shortened to 3 letters),Month & Year\n",
    "df['Day'] = df['Date'].dt.day\n",
    "df['WeekDay'] = df['Date'].dt.weekday #Monday = 0\n",
    "# df['WeekDay'] = df['Date'].dt.day_name().str[:3]\n",
    "df['Month'] = df['Date'].dt.month\n",
    "#df['Month'] = df['Date'].dt.month_name().str[:3]\n",
    "df['Year'] = df['Date'].dt.year\n",
    "df['YearStr'] = df.Year.astype(str)"
   ]
  },
  {
   "cell_type": "code",
   "execution_count": 54,
   "metadata": {},
   "outputs": [],
   "source": [
    "#create conditions for Seasons\n",
    "conditions = [\n",
    "            (df['Month'] <= 3), #winter\n",
    "            (df['Month'] >= 4) & (df['Month'] <= 6), #spring\n",
    "            (df['Month'] >= 7) & (df['Month'] <= 9), #summer\n",
    "            (df['Month'] >= 10) & (df['Month'] <= 12)  #autumn\n",
    "]\n",
    "\n",
    "#name seasons\n",
    "seasons = ['Winter', 'Spring', 'Summer', 'Autumn']\n",
    "\n",
    "#Make season column\n",
    "df['Season'] = np.select(conditions, seasons)"
   ]
  },
  {
   "cell_type": "code",
   "execution_count": 56,
   "metadata": {},
   "outputs": [
    {
     "data": {
      "text/plain": [
       "array(['Summer', 'Spring', 'Autumn', 'Winter'], dtype=object)"
      ]
     },
     "execution_count": 56,
     "metadata": {},
     "output_type": "execute_result"
    }
   ],
   "source": [
    "#Check to see if it worked\n",
    "df.Season.unique()"
   ]
  },
  {
   "cell_type": "markdown",
   "metadata": {},
   "source": [
    "## Feature Seletion\n",
    "\n",
    "1. Reducing Categories in WindSpeed\n",
    "2. Reducing Categories in SeaState"
   ]
  },
  {
   "cell_type": "code",
   "execution_count": 66,
   "metadata": {},
   "outputs": [],
   "source": [
    "light =['1 - 3 kts (Light Air)', '4 - 6 kts (Light Breeze)', '7 - 10 kts (Gentle Breeze)']\n",
    "breeze = ['11 - 16 kts (Moderate Breeze)', '17 - 21 kts (Fresh Breeze)', '22 - 27 kts (Strong Breeze)']\n",
    "gale = ['28 - 33 kts (Near Gale)', '34 - 40 kts (Gale)', '41 - 47 kts (Strong Gale)']\n",
    "storm = ['48 - 55 kts  (Storm)', '56 - 63 kts (Violent Storm)', '64+ kts (Hurricane)']\n",
    "\n",
    "#Create empty list\n",
    "windcategory = []\n",
    "\n",
    "#create for loop and appen to list\n",
    "for n in df.WindSpeed:\n",
    "    if (n in light) == True:\n",
    "        windcategory.append('Light')\n",
    "    elif (n in breeze) == True:\n",
    "        windcategory.append('Breeze')\n",
    "    elif (n in gale) == True:\n",
    "        windcategory.append('Gale')\n",
    "    elif (n in storm) == True:\n",
    "        windcategory.append('Storm')\n",
    "    else:\n",
    "        windcategory.append('Calm')\n",
    "        \n",
    "#define new column\n",
    "df['WindCategory'] = windcategory"
   ]
  },
  {
   "cell_type": "code",
   "execution_count": 67,
   "metadata": {},
   "outputs": [
    {
     "data": {
      "text/plain": [
       "Light     4691\n",
       "Breeze     927\n",
       "Calm       527\n",
       "Gale        26\n",
       "Name: WindCategory, dtype: int64"
      ]
     },
     "execution_count": 67,
     "metadata": {},
     "output_type": "execute_result"
    }
   ],
   "source": [
    "#Check new value counts\n",
    "df.WindCategory.value_counts()"
   ]
  },
  {
   "cell_type": "code",
   "execution_count": 68,
   "metadata": {},
   "outputs": [],
   "source": [
    "crests = ['Wind felt on face;wave crests have glassy appearance', 'Crests begin to break;whitecaps start to form at 10 knots']\n",
    "moderate = ['Frequent whitecaps - sea to 3 ft (1 m)', 'Moderate waves form 4-5 ft (1.5-2.5 m);some spray carried']\n",
    "rough = ['Large waves 5-7 ft (2-3 m);more spray', 'Swell forms 8-10 ft (3-4 m);foam blown in streaks']\n",
    "dangerous = ['Moderately high waves to 16 ft (5 m);crests break into spindrift',\n",
    "            'High waves to 20 ft (7 m);dense foam, visibility reduced']\n",
    "storm = ['Exceptionally high waves to 30 ft (9 m)','Waves to 35 ft (11 m);very limited visibility', \n",
    "        'Waves to 50 ft (15m);air filled with foam and spray']\n",
    "\n",
    "#Create empty list\n",
    "seacategory = []\n",
    "\n",
    "#create for loop and append to list\n",
    "for n in df.SeaState:\n",
    "    if (n in crests) == True:\n",
    "        seacategory.append('Crest')\n",
    "    elif (n in moderate) == True:\n",
    "        seacategory.append('Moderate')\n",
    "    elif (n in rough) == True:\n",
    "        seacategory.append('Rough')\n",
    "    elif (n in dangerous) == True:\n",
    "        seacategory.append('Dangerous')\n",
    "    elif (n in storm) == True:\n",
    "        seacategory.append('Storm')\n",
    "    else:\n",
    "        seacategory.append('Calm')\n",
    "        \n",
    "#define new column\n",
    "df['SeaCategory'] = seacategory"
   ]
  },
  {
   "cell_type": "code",
   "execution_count": 69,
   "metadata": {},
   "outputs": [
    {
     "data": {
      "text/plain": [
       "Calm        4077\n",
       "Crest       2022\n",
       "Moderate      72\n",
       "Name: SeaCategory, dtype: int64"
      ]
     },
     "execution_count": 69,
     "metadata": {},
     "output_type": "execute_result"
    }
   ],
   "source": [
    "#Check new value counts\n",
    "df.SeaCategory.value_counts()"
   ]
  },
  {
   "cell_type": "code",
   "execution_count": null,
   "metadata": {},
   "outputs": [],
   "source": [
    "#View New Dataframe\n",
    "df.head()"
   ]
  },
  {
   "cell_type": "markdown",
   "metadata": {},
   "source": [
    "## Check Target variable\n",
    "\n",
    "Dataset is extremely unbalanced, majority of classes are Within 2km"
   ]
  },
  {
   "cell_type": "code",
   "execution_count": null,
   "metadata": {},
   "outputs": [],
   "source": [
    "df['Location Accuracy'].value_counts()"
   ]
  },
  {
   "cell_type": "code",
   "execution_count": 72,
   "metadata": {},
   "outputs": [],
   "source": [
    "#Create definition to group target variables\n",
    "def location_accuracy(df):\n",
    "    \"\"\"\n",
    "    Input - dataframe\n",
    "    Output - Newly Assigned Target Values for Location Accuracy\n",
    "    Function groups Location Accuracy values into 3 subcategories\n",
    "    \"\"\"\n",
    "\n",
    "    #cat_1 = list of location accuracies < 500 m\n",
    "    #cat_2 = list of location accuracies 500 m - 2km\n",
    "    #cat_3 = list of location accuracies > 2 km\n",
    "\n",
    "    for x in cat_1:\n",
    "        df.loc[df['Location Accuracy'].str.contains(x, na=False), 'Location Accuracy'] = '< 500m'\n",
    "    for x in cat_2:\n",
    "        df.loc[df['Location Accuracy'].str.contains(x, na=False), 'Location Accuracy'] = '500m-2km'\n",
    "    for x in cat_3:\n",
    "        df.loc[df['Location Accuracy'].str.contains(x, na=False), 'Location Accuracy'] = '> 2km'\n",
    "\n",
    "    return df"
   ]
  },
  {
   "cell_type": "code",
   "execution_count": 73,
   "metadata": {},
   "outputs": [],
   "source": [
    "#Apply location_accuracy function\n",
    "df = location_accuracy(df)"
   ]
  },
  {
   "cell_type": "code",
   "execution_count": 74,
   "metadata": {},
   "outputs": [
    {
     "data": {
      "text/plain": [
       "< 500m      2748\n",
       "500m-2km    2558\n",
       "> 2km        865\n",
       "Name: Location Accuracy, dtype: int64"
      ]
     },
     "execution_count": 74,
     "metadata": {},
     "output_type": "execute_result"
    }
   ],
   "source": [
    "#Check new values\n",
    "df['Location Accuracy'].value_counts()"
   ]
  },
  {
   "cell_type": "markdown",
   "metadata": {},
   "source": [
    "# Change Dataframe into Ordinals for EDA"
   ]
  },
  {
   "cell_type": "code",
   "execution_count": 75,
   "metadata": {},
   "outputs": [],
   "source": [
    "#Save final csv\n",
    "df.to_csv('CSVs/Location_Accuracy/locationaccuracy_eda.csv', index = False)"
   ]
  },
  {
   "cell_type": "code",
   "execution_count": null,
   "metadata": {},
   "outputs": [],
   "source": [
    "#Double check columns and change categoricals into ordinals\n",
    "df.columns"
   ]
  },
  {
   "cell_type": "code",
   "execution_count": 79,
   "metadata": {},
   "outputs": [],
   "source": [
    "#create ordinal plot so I can do Statistics\n",
    "ordinal_df = df.replace({\"SpeciesCategory\": {\"Whales\":0, \"Dolphins and Porpoises\":1},\n",
    "                    \"IdConfidence\": {\"Certain\": 0, \"Probable\": 1, 'Possible':2, 'Uncertain':3},\n",
    "                    \"Source\": {\"MOBILE\":0, \"WEB\":1},\n",
    "                    \"DistressedState\": {\"No\": 0, \"Yes\": 1},\n",
    "                    \"AnimalCountMeasure\": {\"Approximate\": 0, \"Exact\": 1, \"Range\" : 2},\n",
    "                    \"Direction of Travel\": {\"West\": 0, \"North-West\": 1, \"North\": 2, \"North-East\": 3, \"East\": 4,\n",
    "                                        \"South-East\": 5, \"South\": 6, \"South-West\": 7, \"Various\": 8, \"Unknown\":9},\n",
    "                    \"SightingPlatform\": {\"Kayak\":0, \"Ferry\":1, \"Sailboat\":2, \"Motor Vessel < 25 ft\": 3, \n",
    "                                        \"Motor Vessel 25 - 60 ft\": 4, \"Motor Vessel > 60 ft\": 5, \n",
    "                                        \"Land (close to water)\":6, \"Land (high above water)\":7,\n",
    "                                        \"Airplane / Helicopter\":8, \"Other\":9},\n",
    "                    \"Experience\": {\"Researcher\": 0, \"Ecotourism professional\": 1, \"Other marine professional\": 2,\n",
    "                                   \"Novice recreational observer\": 3, \"Experienced recreational observer\": 4,\n",
    "                                   \"Lightstation keeper\":5},\n",
    "                    \"WhyInWater\" : {\"Recreational\":0, \"Professional\": 1},\n",
    "                    \"Season\" : {'Winter':0, 'Spring': 1, \"Summer\": 2, \"Autumn\":3, \"Winter\":4},\n",
    "                    \"WindCategory\": {\"Calm\":0, \"Light\":1, \"Breeze\":2, \"Gale\":3},\n",
    "                    \"SeaCategory\": {\"Calm\":0, \"Crest\":1, \"Moderate\":2},\n",
    "                    \"TimeOfDay\" : {'Early Morning': 0, \"Morning\": 1, \"Afternoon\": 2, \"Night\": 3},\n",
    "                    \"TimeOfDay_2\": {'0-3':0, '3-6':1, '6-9':2, '9-12':3, '12-15':4, \n",
    "                                    '15-18':5, '18-21':6, '21-24':7},\n",
    "                    \"Location Accuracy\": {'< 500m':0, '500m-2km':1, '> 2km':2}\n",
    "                    \n",
    "})"
   ]
  },
  {
   "cell_type": "code",
   "execution_count": null,
   "metadata": {},
   "outputs": [],
   "source": [
    "#check final ordinal dataframe\n",
    "ordinal_df.head()"
   ]
  },
  {
   "cell_type": "code",
   "execution_count": 81,
   "metadata": {},
   "outputs": [],
   "source": [
    "#Save Ordinal Dataframe as CSV\n",
    "ordinal_df.to_csv('CSVs/Location_Accuracy/ordinal_locationaccuracy.csv', index = False)"
   ]
  }
 ],
 "metadata": {
  "interpreter": {
   "hash": "d8bbbd4ee10db25919bce58fef8b0c329be8981348cd52ed5590f6e13ea3c08a"
  },
  "kernelspec": {
   "display_name": "Python 3.6.10 ('LHLBootcamp')",
   "language": "python",
   "name": "python3"
  },
  "language_info": {
   "codemirror_mode": {
    "name": "ipython",
    "version": 3
   },
   "file_extension": ".py",
   "mimetype": "text/x-python",
   "name": "python",
   "nbconvert_exporter": "python",
   "pygments_lexer": "ipython3",
   "version": "3.6.10"
  },
  "orig_nbformat": 4
 },
 "nbformat": 4,
 "nbformat_minor": 2
}
